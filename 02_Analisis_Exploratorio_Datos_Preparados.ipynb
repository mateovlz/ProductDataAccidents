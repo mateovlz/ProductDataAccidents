{
 "cells": [
  {
   "cell_type": "markdown",
   "id": "6c36e37a",
   "metadata": {},
   "source": [
    "## Análisis exploratorio datos preparados.\n",
    "\n",
    "El proposito de este notebook es utilizar el dataset generado en el primer proceso de preparación de datos para realizar analisis exploratorio en los datos, graficas, correlaciones y poder establecer tecnicas para el uso o arreglo de datos."
   ]
  },
  {
   "cell_type": "code",
   "execution_count": null,
   "id": "f6d02a13",
   "metadata": {},
   "outputs": [],
   "source": [
    "import numpy as np\n",
    "import pandas as pd\n",
    "import matplotlib.pyplot as plt\n",
    "\n",
    "%matplotlib inline"
   ]
  },
  {
   "cell_type": "markdown",
   "id": "7bfe5551",
   "metadata": {},
   "source": [
    "### Extracción datos."
   ]
  },
  {
   "cell_type": "code",
   "execution_count": null,
   "id": "54d45623",
   "metadata": {},
   "outputs": [],
   "source": [
    "URL_PREPARED_DATA = 'Prepared_Data'\n",
    "FILE_NAME = 'siniestros-prepared.csv'"
   ]
  },
  {
   "cell_type": "code",
   "execution_count": null,
   "id": "36d3f9b3",
   "metadata": {},
   "outputs": [],
   "source": [
    "dfsiniestros = pd.read_csv(URL_PREPARED_DATA+'/'+FILE_NAME)\n",
    "# revisar columnas (4,26) "
   ]
  },
  {
   "cell_type": "markdown",
   "id": "76860311",
   "metadata": {},
   "source": [
    "### Cantidad de datos."
   ]
  },
  {
   "cell_type": "code",
   "execution_count": null,
   "id": "a4250d3b",
   "metadata": {},
   "outputs": [],
   "source": [
    "dfsiniestros.shape"
   ]
  },
  {
   "cell_type": "markdown",
   "id": "2eff32ff",
   "metadata": {},
   "source": [
    "### Validación de datos.\n",
    "1.  Validamos los tipos de datos de cada columna.\n",
    "2.  Validamos la cantidad de valores nan por cada columna."
   ]
  },
  {
   "cell_type": "code",
   "execution_count": null,
   "id": "99bae7f1",
   "metadata": {},
   "outputs": [],
   "source": [
    "dfsiniestros.info()"
   ]
  },
  {
   "cell_type": "code",
   "execution_count": null,
   "id": "de61cf94",
   "metadata": {},
   "outputs": [],
   "source": [
    "for column in dfsiniestros.columns:\n",
    "    if (dfsiniestros[column].isna().sum()):\n",
    "        print(f'Columna {column} tienen {dfsiniestros[column].isna().sum()} registros en nan')"
   ]
  },
  {
   "cell_type": "markdown",
   "id": "4a55a63d",
   "metadata": {},
   "source": [
    "### Remplazo de valores vacios *(na)*\n",
    "- Columna Edad:\n",
    "    - Se remplaza los valores ```SIN INFORMACION``` en la columna *```EDAD_PROCESADA```*.\n",
    "    - Se remplaza los valores ```NaN``` en la columna *```EDAD_PROCESADA```*."
   ]
  },
  {
   "cell_type": "code",
   "execution_count": null,
   "id": "1f9ce134",
   "metadata": {},
   "outputs": [],
   "source": [
    "edadlimpia = dfsiniestros[dfsiniestros['EDAD_PROCESADA'] !='SIN INFORMACION'][['EDAD_PROCESADA','SEXO']].dropna()\n",
    "edadlimpia['EDAD_PROCESADA'] = edadlimpia['EDAD_PROCESADA'].astype(float)"
   ]
  },
  {
   "cell_type": "code",
   "execution_count": null,
   "id": "747c9e84",
   "metadata": {},
   "outputs": [],
   "source": [
    "proedades = edadlimpia.groupby(['SEXO'])['EDAD_PROCESADA'].describe()[['mean','count']].reset_index()\n",
    "#prueba.columns = prueba.columns.droplevel(0)\n",
    "print('Promedio Edades Agrupado por SEXO:')\n",
    "print(proedades)"
   ]
  },
  {
   "cell_type": "code",
   "execution_count": null,
   "id": "53e165d1",
   "metadata": {},
   "outputs": [],
   "source": [
    "print('Moda Edades Agrupado por SEXO:')\n",
    "moedmasculino = edadlimpia[edadlimpia['SEXO'] == 'MASCULINO'].mode()\n",
    "print(moedmasculino)\n",
    "moedfemenino = edadlimpia[edadlimpia['SEXO'] == 'FEMENINO'].mode()\n",
    "print(moedfemenino)\n",
    "moednoaplica = edadlimpia[edadlimpia['SEXO'] == 'NO APLICA'].mode()\n",
    "print(moednoaplica)"
   ]
  },
  {
   "cell_type": "markdown",
   "id": "bc6e34b8",
   "metadata": {},
   "source": [
    "#### Conclusion para poblar valores *(na)* campo ```EDAD_PROCESADA```\n",
    "Como se observo en las anteriores operaciones donde se extrajeron los valores promedio y moda de los valores que actualmente tiene este campo, para contribuir a que la distribucion de los datos se mantengan agrupados por ```SEXO``` se utilizaran los siguientes valores:\n",
    "\n",
    "- MASCULINO: Se utilizara la moda ```27```\n",
    "- FEMENINO: Se utilizara el promedio ```38```\n",
    "- NO APLICA: Se utilizara el promedio ```40```\n",
    "\n",
    "*Nota: Se toma la decisión de usar estadisticos para la cada ```SEXO``` para que los datos no quedaran planos y nos afectaran la distribucion.*"
   ]
  },
  {
   "cell_type": "code",
   "execution_count": null,
   "id": "89acc536",
   "metadata": {},
   "outputs": [],
   "source": [
    "edadmasculino = round(moedmasculino['EDAD_PROCESADA'].get(0),0)\n",
    "edadmasculino"
   ]
  },
  {
   "cell_type": "code",
   "execution_count": null,
   "id": "3cf1b990",
   "metadata": {},
   "outputs": [],
   "source": [
    "edadfemenino = round(proedades[proedades['SEXO'] == 'FEMENINO']['mean'].values[0],0)\n",
    "edadfemenino"
   ]
  },
  {
   "cell_type": "code",
   "execution_count": null,
   "id": "ec161114",
   "metadata": {},
   "outputs": [],
   "source": [
    "edadnoaplica = round(proedades[proedades['SEXO'] == 'NO APLICA']['mean'].values[0],0)\n",
    "edadnoaplica"
   ]
  },
  {
   "cell_type": "code",
   "execution_count": null,
   "id": "debc0c8e",
   "metadata": {},
   "outputs": [],
   "source": [
    "dfsiniestros = dfsiniestros.copy()"
   ]
  },
  {
   "cell_type": "markdown",
   "id": "e32d9edd",
   "metadata": {},
   "source": [
    "Remplazo de Valores ```na``` columna ```EDAD_PROCESADA```"
   ]
  },
  {
   "cell_type": "code",
   "execution_count": null,
   "id": "00cd6a28",
   "metadata": {},
   "outputs": [],
   "source": [
    "dfsiniestros.loc[((dfsiniestros['SEXO'] == 'MASCULINO') & (dfsiniestros['EDAD_PROCESADA'].isna())),'EDAD_PROCESADA'] = edadmasculino "
   ]
  },
  {
   "cell_type": "code",
   "execution_count": null,
   "id": "c42170e3",
   "metadata": {},
   "outputs": [],
   "source": [
    "dfsiniestros.loc[((dfsiniestros['SEXO'] == 'FEMENINO') & (dfsiniestros['EDAD_PROCESADA'].isna())),'EDAD_PROCESADA'] = edadmasculino "
   ]
  },
  {
   "cell_type": "code",
   "execution_count": null,
   "id": "09b40a68",
   "metadata": {},
   "outputs": [],
   "source": [
    "dfsiniestros.loc[((dfsiniestros['SEXO'] == 'NO APLICA') & (dfsiniestros['EDAD_PROCESADA'].isna())),'EDAD_PROCESADA'] = edadmasculino "
   ]
  },
  {
   "cell_type": "markdown",
   "id": "ff708b22",
   "metadata": {},
   "source": [
    "Remplazo de Valores ```'Sin Informacion'``` columna ```EDAD_PROCESADA```"
   ]
  },
  {
   "cell_type": "code",
   "execution_count": null,
   "id": "9c02c722",
   "metadata": {},
   "outputs": [],
   "source": [
    "dfsiniestros.loc[((dfsiniestros['SEXO'] == 'MASCULINO') & (dfsiniestros['EDAD_PROCESADA'] == 'SIN INFORMACION')),'EDAD_PROCESADA'] = edadmasculino "
   ]
  },
  {
   "cell_type": "code",
   "execution_count": null,
   "id": "fbafa5fb",
   "metadata": {},
   "outputs": [],
   "source": [
    "dfsiniestros.loc[((dfsiniestros['SEXO'] == 'FEMENINO') & (dfsiniestros['EDAD_PROCESADA'] == 'SIN INFORMACION')),'EDAD_PROCESADA'] = edadmasculino "
   ]
  },
  {
   "cell_type": "code",
   "execution_count": null,
   "id": "cf805c18",
   "metadata": {},
   "outputs": [],
   "source": [
    "dfsiniestros.loc[((dfsiniestros['SEXO'] == 'NO APLICA') & (dfsiniestros['EDAD_PROCESADA'] == 'SIN INFORMACION')),'EDAD_PROCESADA'] = edadmasculino "
   ]
  },
  {
   "cell_type": "markdown",
   "id": "9111513b",
   "metadata": {},
   "source": [
    "Validación de tipos de datos en la columna ```EDAD_PROCESADA```"
   ]
  },
  {
   "cell_type": "markdown",
   "id": "0e160096",
   "metadata": {},
   "source": [
    "Se convierten todos los tipos de datos de columna ```EDAD_PROCESADA```"
   ]
  },
  {
   "cell_type": "code",
   "execution_count": null,
   "id": "e8a548bd",
   "metadata": {},
   "outputs": [],
   "source": [
    "dfsiniestros['EDAD_PROCESADA'] = dfsiniestros['EDAD_PROCESADA'].astype(float)"
   ]
  },
  {
   "cell_type": "markdown",
   "id": "69bf296c",
   "metadata": {},
   "source": [
    "## VALIDAR ELIMINACIONES```TIPO_DISENNO```"
   ]
  },
  {
   "cell_type": "code",
   "execution_count": null,
   "id": "c5a0da32",
   "metadata": {},
   "outputs": [],
   "source": [
    "del dfsiniestros['TIPODISENNO']"
   ]
  },
  {
   "cell_type": "code",
   "execution_count": null,
   "id": "cedd59dd",
   "metadata": {},
   "outputs": [],
   "source": [
    "del dfsiniestros['TIPOFALLA']"
   ]
  },
  {
   "cell_type": "code",
   "execution_count": null,
   "id": "5e320790",
   "metadata": {},
   "outputs": [],
   "source": [
    "del dfsiniestros['KEYID']"
   ]
  },
  {
   "cell_type": "code",
   "execution_count": null,
   "id": "4e6684df",
   "metadata": {},
   "outputs": [],
   "source": [
    "del dfsiniestros['Unnamed: 0']"
   ]
  },
  {
   "cell_type": "code",
   "execution_count": null,
   "id": "4c2d1bfc",
   "metadata": {},
   "outputs": [],
   "source": [
    "del dfsiniestros['CON_BICICLETA']"
   ]
  },
  {
   "cell_type": "markdown",
   "id": "10369437",
   "metadata": {},
   "source": [
    "- Columna __LLEVACINTURON__:\n",
    "    - Se remplaza los valores ```NaN``` en la columna *```LLEVACINTURON```* con ```0``` este siendo una variable de categoria y el  ```0``` significando que para el siniestro no aplica esta categoria."
   ]
  },
  {
   "cell_type": "code",
   "execution_count": null,
   "id": "39200a7b",
   "metadata": {},
   "outputs": [],
   "source": [
    "dfsiniestros['LLEVACINTURON'].fillna('0', inplace=True)\n",
    "dfsiniestros['LLEVACINTURON'].value_counts(dropna=False)"
   ]
  },
  {
   "cell_type": "markdown",
   "id": "6c32485e",
   "metadata": {},
   "source": [
    "- Columna __LLEVACHALECO__:\n",
    "    - Se remplaza los valores ```NaN``` en la columna __*```LLEVACHALECO```*__ con ```0``` este siendo una variable de categoria y el  ```0``` significando que para el siniestro no aplica esta categoria."
   ]
  },
  {
   "cell_type": "code",
   "execution_count": null,
   "id": "26bc87fe",
   "metadata": {},
   "outputs": [],
   "source": [
    "dfsiniestros['LLEVACHALECO'].fillna('0', inplace=True)\n",
    "dfsiniestros['LLEVACHALECO'].value_counts(dropna=False)"
   ]
  },
  {
   "cell_type": "markdown",
   "id": "bb474f12",
   "metadata": {},
   "source": [
    "- Columna __LLEVACASCO__:\n",
    "    - Se remplaza los valores ```NaN``` en la columna __*```LLEVACASCO```*__ con ```0``` este siendo una variable de categoria y el  ```0``` significando que para el siniestro no aplica esta categoria."
   ]
  },
  {
   "cell_type": "code",
   "execution_count": null,
   "id": "59501e74",
   "metadata": {},
   "outputs": [],
   "source": [
    "dfsiniestros['LLEVACASCO'].fillna('0', inplace=True)\n",
    "dfsiniestros['LLEVACASCO'].value_counts(dropna=False)"
   ]
  },
  {
   "cell_type": "markdown",
   "id": "4846274c",
   "metadata": {},
   "source": [
    "- Columna __SERVICIOVEHICULO__:\n",
    "    - Se remplaza los valores ```NaN``` en la columna __*```SERVICIOVEHICULO```*__ con ```0``` este siendo una variable de categoria y el  ```0``` significando que para el siniestro no aplica esta categoria."
   ]
  },
  {
   "cell_type": "code",
   "execution_count": null,
   "id": "8a370195",
   "metadata": {},
   "outputs": [],
   "source": [
    "dfsiniestros['SERVICIOVEHICULO'].fillna('Particular', inplace=True)\n",
    "dfsiniestros['SERVICIOVEHICULO'].value_counts(dropna=False)"
   ]
  },
  {
   "cell_type": "markdown",
   "id": "c60060e0",
   "metadata": {},
   "source": [
    "- Columna __VEHICULO_VIAJABA_CLASIFICADO__:\n",
    "    - Se remplaza los valores ```NaN``` en la columna __*```VEHICULO_VIAJABA_CLASIFICADO```*__ con ```0``` este siendo una variable de categoria y el  ```0``` significando que para el siniestro no aplica esta categoria."
   ]
  },
  {
   "cell_type": "code",
   "execution_count": null,
   "id": "f898d34a",
   "metadata": {},
   "outputs": [],
   "source": [
    "dfsiniestros['VEHICULO_VIAJABA_CLASIFICADO'].value_counts(dropna=False)"
   ]
  },
  {
   "cell_type": "markdown",
   "id": "c334c975",
   "metadata": {},
   "source": [
    "- Columna __CLASEVEHICULO__:\n",
    "    - Se remplaza los valores ```NaN``` en la columna __*```CLASEVEHICULO```*__ con ```0``` este siendo una variable de categoria y el  ```0``` significando que para el siniestro no aplica esta categoria."
   ]
  },
  {
   "cell_type": "code",
   "execution_count": null,
   "id": "5ecae18a",
   "metadata": {},
   "outputs": [],
   "source": [
    "dfsiniestros['CLASEVEHICULO'].fillna('Automovil', inplace=True)\n",
    "dfsiniestros['CLASEVEHICULO'].value_counts(dropna=False)"
   ]
  },
  {
   "cell_type": "markdown",
   "id": "46ee9300",
   "metadata": {},
   "source": [
    "- Columna __CHOQUECODIGO__:\n",
    "    - Se remplaza los valores ```NaN``` en la columna __*```CHOQUECODIGO```*__ con ```0``` este siendo una variable de categoria y el  ```0``` significando que para el siniestro no aplica esta categoria."
   ]
  },
  {
   "cell_type": "code",
   "execution_count": null,
   "id": "08912583",
   "metadata": {},
   "outputs": [],
   "source": [
    "dfsiniestros['CHOQUECODIGO'].fillna('0', inplace=True)\n",
    "dfsiniestros['CHOQUECODIGO'].value_counts(dropna=False)"
   ]
  },
  {
   "cell_type": "markdown",
   "id": "51547881",
   "metadata": {},
   "source": [
    "- Columna __MODELOVEHICULO__:\n",
    "    - Se remplaza los valores ```NaN``` en la columna *```MODELOVEHICULO```* con la moda de los valores correctos."
   ]
  },
  {
   "cell_type": "code",
   "execution_count": null,
   "id": "aeaf7208",
   "metadata": {},
   "outputs": [],
   "source": [
    "dfsiniestros.info()"
   ]
  },
  {
   "cell_type": "code",
   "execution_count": null,
   "id": "f1857745",
   "metadata": {},
   "outputs": [],
   "source": [
    "dfpruebba = dfsiniestros.copy()"
   ]
  },
  {
   "cell_type": "code",
   "execution_count": null,
   "id": "34916beb",
   "metadata": {},
   "outputs": [],
   "source": []
  },
  {
   "cell_type": "code",
   "execution_count": null,
   "id": "eb020e28",
   "metadata": {},
   "outputs": [],
   "source": [
    "dfpruebba.columns"
   ]
  },
  {
   "cell_type": "code",
   "execution_count": null,
   "id": "db6d4f03",
   "metadata": {},
   "outputs": [],
   "source": [
    "for column in dfsiniestros.columns:\n",
    "    if (dfsiniestros[column].isna().sum() != 0 ):\n",
    "        print(f'Columna {column} tienen {dfsiniestros[column].isna().sum()} registros en nan')"
   ]
  },
  {
   "cell_type": "code",
   "execution_count": null,
   "id": "6df2efc7",
   "metadata": {},
   "outputs": [],
   "source": [
    "for column in dfsiniestros.columns:\n",
    "    print(column)\n",
    "    print(dfsiniestros[column].value_counts(dropna=False))"
   ]
  },
  {
   "cell_type": "code",
   "execution_count": null,
   "id": "1d3bb660",
   "metadata": {},
   "outputs": [],
   "source": [
    "dfsiniestros['EDAD_PROCESADA'] = dfsiniestros['EDAD_PROCESADA'].replace('SIN INFORMACION',round(eda.mean(),0))"
   ]
  },
  {
   "cell_type": "code",
   "execution_count": null,
   "id": "45159a04",
   "metadata": {},
   "outputs": [],
   "source": [
    "dfsiniestros['EDAD_PROCESADA'].map(type).value_counts()"
   ]
  },
  {
   "cell_type": "code",
   "execution_count": null,
   "id": "c064289e",
   "metadata": {},
   "outputs": [],
   "source": [
    "round(eda.mode().get(0),0)"
   ]
  },
  {
   "cell_type": "code",
   "execution_count": null,
   "id": "a09a6fc3",
   "metadata": {},
   "outputs": [],
   "source": [
    "dfsiniestros['EDAD_PROCESADA'].fillna(round(eda.mode().get(0),0), inplace=True)\n",
    "epa = dfsiniestros['EDAD_PROCESADA']"
   ]
  },
  {
   "cell_type": "code",
   "execution_count": null,
   "id": "fd029b1a",
   "metadata": {},
   "outputs": [],
   "source": [
    "for column in dfsiniestros.columns:\n",
    "    print(f'Columna {column} tienen {dfsiniestros[column].isna().sum()} registros en nan')"
   ]
  },
  {
   "cell_type": "code",
   "execution_count": null,
   "id": "8c594a7c",
   "metadata": {},
   "outputs": [],
   "source": [
    "dfsiniestros['EDAD_PROCESADA'] = dfsiniestros['EDAD_PROCESADA'].astype(float)"
   ]
  },
  {
   "cell_type": "code",
   "execution_count": null,
   "id": "c1d3b7ff",
   "metadata": {},
   "outputs": [],
   "source": [
    "dfsiniestros.corr()"
   ]
  },
  {
   "cell_type": "code",
   "execution_count": null,
   "id": "5caf3983",
   "metadata": {},
   "outputs": [],
   "source": [
    "dfsiniestros['EDAD_PROCESADA'].map(type).value_counts()"
   ]
  },
  {
   "cell_type": "code",
   "execution_count": null,
   "id": "a59bd40b",
   "metadata": {},
   "outputs": [],
   "source": [
    "graedadagrup = dfsiniestros.groupby(['EDAD_PROCESADA']).size().reset_index(name='CANTIDAD')\n",
    "graedadagrup"
   ]
  },
  {
   "cell_type": "code",
   "execution_count": null,
   "id": "6aa00347",
   "metadata": {},
   "outputs": [],
   "source": [
    "for column in dfsiniestros.columns:\n",
    "    print(f'Columna {column} tienen {dfsiniestros[column].isna().sum()} registros en nan')"
   ]
  },
  {
   "cell_type": "code",
   "execution_count": null,
   "id": "fc4ab404",
   "metadata": {},
   "outputs": [],
   "source": [
    "dfsiniestros['EDAD_PROCESADA'] = dfsiniestros['EDAD_PROCESADA'].astype(float)"
   ]
  },
  {
   "cell_type": "code",
   "execution_count": null,
   "id": "b4e3b688",
   "metadata": {},
   "outputs": [],
   "source": [
    "gragpcoun = dfsiniestros.groupby([[]'DIRECCION']).size().reset_index(name='CANTIDAD')\n",
    "gragpcoun"
   ]
  },
  {
   "cell_type": "code",
   "execution_count": null,
   "id": "8b9e727d",
   "metadata": {},
   "outputs": [],
   "source": [
    "dfsiniestros.head()"
   ]
  },
  {
   "cell_type": "code",
   "execution_count": null,
   "id": "18654b16",
   "metadata": {},
   "outputs": [],
   "source": [
    "dfsiniestros.info()"
   ]
  },
  {
   "cell_type": "code",
   "execution_count": null,
   "id": "aaea595d",
   "metadata": {},
   "outputs": [],
   "source": [
    "dfsiniestros.columns"
   ]
  },
  {
   "cell_type": "markdown",
   "id": "a907ff41",
   "metadata": {},
   "source": [
    "### Cantidad de dfsiniestros por gravedad."
   ]
  },
  {
   "cell_type": "code",
   "execution_count": null,
   "id": "6e177427",
   "metadata": {},
   "outputs": [],
   "source": [
    "gragpcoun = dfsiniestros.groupby(['GRAVEDADCOD']).size().reset_index(name='CANTIDAD')\n",
    "gragpcoun"
   ]
  },
  {
   "cell_type": "code",
   "execution_count": null,
   "id": "9969b13d",
   "metadata": {},
   "outputs": [],
   "source": [
    "lstgrave = ['Con Muertos','Con Heridos','Solo Daños']"
   ]
  },
  {
   "cell_type": "code",
   "execution_count": null,
   "id": "04d0a00f",
   "metadata": {},
   "outputs": [],
   "source": [
    "plt.figure()\n",
    "plt.bar(lstgrave, gragpcoun['CANTIDAD'], width=0.5, color='#FF616D')\n",
    "plt.title(\"Cantidad de dfsiniestros por gravedad.\")\n",
    "plt.ylabel(\"Cantidad dfsiniestros.\")\n",
    "plt.xlabel(\"Gravedad Siniestro.\")\n",
    "plt.xticks(rotation=90)\n",
    "lstcant = gragpcoun['CANTIDAD'].to_numpy()\n",
    "\n",
    "for i in range(len(lstcant)):\n",
    "    plt.annotate(lstcant[i], (i-0.15, 2000+lstcant[i]))\n",
    "\n",
    "plt.show()\n",
    "plt.close()"
   ]
  },
  {
   "cell_type": "code",
   "execution_count": null,
   "id": "b0369da3",
   "metadata": {},
   "outputs": [],
   "source": [
    "gracogpcoun = dfsiniestros.groupby(['GRAVEDAD_PROCESADA']).size().reset_index(name='CANTIDAD')\n",
    "gracogpcoun = gracogpcoun.sort_values(by=['CANTIDAD'], ascending=True)\n",
    "gracogpcoun"
   ]
  },
  {
   "cell_type": "code",
   "execution_count": null,
   "id": "34f2dcee",
   "metadata": {},
   "outputs": [],
   "source": [
    "lstCantidad = gracogpcoun['GRAVEDAD_PROCESADA'].to_numpy()\n",
    "lstCantidad"
   ]
  },
  {
   "cell_type": "code",
   "execution_count": null,
   "id": "71cff992",
   "metadata": {},
   "outputs": [],
   "source": [
    "plt.figure()\n",
    "plt.bar(gracogpcoun['GRAVEDAD_PROCESADA'], gracogpcoun['CANTIDAD'], width=0.7, color='#053742')\n",
    "plt.title(\"Cantidad de dfsiniestros por gravedad.\")\n",
    "plt.ylabel(\"Gravedad dfsiniestros.\")\n",
    "plt.xlabel(\"Cantidad Siniestro.\")\n",
    "plt.xticks(rotation=90)\n",
    "lstcant = gracogpcoun['CANTIDAD'].to_numpy()\n",
    "lstgrave = gracogpcoun['GRAVEDAD_PROCESADA'].to_numpy()\n",
    "\n",
    "for i in range(len(lstcant)):\n",
    "    plt.annotate(lstcant[i], (i-0.15, 2000+lstcant[i]))\n",
    "\n",
    "plt.show()\n",
    "plt.close()"
   ]
  },
  {
   "cell_type": "code",
   "execution_count": null,
   "id": "91814ec0",
   "metadata": {},
   "outputs": [],
   "source": [
    "dfsiniestros[['GRAVEDAD_PROCESADA','GRAVEDADCOD']].value_counts()"
   ]
  },
  {
   "cell_type": "code",
   "execution_count": null,
   "id": "5aee82e6",
   "metadata": {},
   "outputs": [],
   "source": [
    "dfsiniestros[['EDAD_PROCESADA','GRAVEDADCOD']].value_counts()"
   ]
  },
  {
   "cell_type": "code",
   "execution_count": null,
   "id": "6d2800cc",
   "metadata": {},
   "outputs": [],
   "source": [
    "graedadagrup = dfsiniestros.groupby(['EDAD_PROCESADA','GRAVEDADCOD']).size().reset_index(name='CANTIDAD')\n",
    "#gracogpcoun = gracogpcoun.sort_values(by=['CANTIDAD'], ascending=True)\n",
    "graedadagrup"
   ]
  },
  {
   "cell_type": "code",
   "execution_count": null,
   "id": "be86051f",
   "metadata": {},
   "outputs": [],
   "source": [
    "plt.figure()\n",
    "plt.plot(graedadagrup['EDAD_PROCESADA'], graedadagrup['CANTIDAD'],'g-')\n",
    "plt.xlabel('Edad Procesada')\n",
    "plt.ylabel('Cantidad')\n",
    "plt.savefig('pruebaas')\n",
    "plt.show()\n",
    "plt.close()"
   ]
  },
  {
   "cell_type": "code",
   "execution_count": null,
   "id": "e1cb0ccd",
   "metadata": {},
   "outputs": [],
   "source": [
    "dfsiniestros.info()"
   ]
  },
  {
   "cell_type": "code",
   "execution_count": null,
   "id": "cea3d6d2",
   "metadata": {},
   "outputs": [],
   "source": []
  }
 ],
 "metadata": {
  "kernelspec": {
   "display_name": "Python 3",
   "language": "python",
   "name": "python3"
  },
  "language_info": {
   "codemirror_mode": {
    "name": "ipython",
    "version": 3
   },
   "file_extension": ".py",
   "mimetype": "text/x-python",
   "name": "python",
   "nbconvert_exporter": "python",
   "pygments_lexer": "ipython3",
   "version": "3.8.10"
  }
 },
 "nbformat": 4,
 "nbformat_minor": 5
}
