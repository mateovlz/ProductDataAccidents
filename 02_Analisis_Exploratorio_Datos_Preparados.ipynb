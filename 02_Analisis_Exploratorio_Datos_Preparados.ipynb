{
 "cells": [
  {
   "cell_type": "markdown",
   "id": "6c36e37a",
   "metadata": {},
   "source": [
    "## Análisis exploratorio datos preparados.\n",
    "\n",
    "El proposito de este notebook es utilizar el dataset generado en el primer proceso de preparación de datos para realizar analisis exploratorio en los datos, graficas, correlaciones y poder establecer tecnicas para el uso o arreglo de datos."
   ]
  },
  {
   "cell_type": "code",
   "execution_count": null,
   "id": "f6d02a13",
   "metadata": {},
   "outputs": [],
   "source": [
    "import numpy as np\n",
    "import pandas as pd\n",
    "import matplotlib.pyplot as plt\n",
    "\n",
    "%matplotlib inline"
   ]
  },
  {
   "cell_type": "markdown",
   "id": "7bfe5551",
   "metadata": {},
   "source": [
    "### Extracción datos."
   ]
  },
  {
   "cell_type": "code",
   "execution_count": null,
   "id": "54d45623",
   "metadata": {},
   "outputs": [],
   "source": [
    "URL_PREPARED_DATA = 'Prepared_Data'\n",
    "FILE_NAME = 'siniestros-prepared.csv'"
   ]
  },
  {
   "cell_type": "code",
   "execution_count": null,
   "id": "5737b6ee",
   "metadata": {},
   "outputs": [],
   "source": [
    "dfsiniestros = pd.read_csv(URL_PREPARED_DATA+'/'+FILE_NAME)\n",
    "# revisar columnas (4,26) "
   ]
  },
  {
   "cell_type": "markdown",
   "id": "76860311",
   "metadata": {},
   "source": [
    "### Cantidad de datos."
   ]
  },
  {
   "cell_type": "code",
   "execution_count": null,
   "id": "a4250d3b",
   "metadata": {},
   "outputs": [],
   "source": [
    "dfsiniestros.shape"
   ]
  },
  {
   "cell_type": "markdown",
   "id": "2eff32ff",
   "metadata": {},
   "source": [
    "### Validación de datos.\n",
    "1.  Validamos los tipos de datos de cada columna.\n",
    "2.  Validamos la cantidad de valores nan por cada columna."
   ]
  },
  {
   "cell_type": "code",
   "execution_count": null,
   "id": "99bae7f1",
   "metadata": {},
   "outputs": [],
   "source": [
    "dfsiniestros.info()"
   ]
  },
  {
   "cell_type": "code",
   "execution_count": null,
   "id": "de61cf94",
   "metadata": {},
   "outputs": [],
   "source": [
    "for column in dfsiniestros.columns:\n",
    "    print(f'Columna {column} tienen {dfsiniestros[column].isna().sum()} registros en nan')"
   ]
  },
  {
   "cell_type": "markdown",
   "id": "4a55a63d",
   "metadata": {},
   "source": [
    "### Remplazo de valores vacios *(na)*\n",
    "- Columna Edad:\n",
    "    - Se remplaza los valores ```SIN INFORMACION``` en la columna *```EDAD_PROCESADA```* con el promedio de todas las edades.\n",
    "    - Se remplaza los valores ```NaN``` en la columna *```EDAD_PROCESADA```* con la moda de todas las edades."
   ]
  },
  {
   "cell_type": "code",
   "execution_count": null,
   "id": "1f9ce134",
   "metadata": {},
   "outputs": [],
   "source": [
    "edadlimpia = dfsiniestros[dfsiniestros['EDAD_PROCESADA'] !='SIN INFORMACION'][['EDAD_PROCESADA','SEXO']].dropna()\n",
    "edadlimpia['EDAD_PROCESADA'] = edadlimpia['EDAD_PROCESADA'].astype(float)"
   ]
  },
  {
   "cell_type": "code",
   "execution_count": null,
   "id": "2cdb1a29",
   "metadata": {},
   "outputs": [],
   "source": [
    "edades = edadlimpia.groupby(['SEXO'])['EDAD_PROCESADA'].describe()[['mean','count']].reset_index()\n",
    "#prueba.columns = prueba.columns.droplevel(0)\n",
    "edades"
   ]
  },
  {
   "cell_type": "code",
   "execution_count": null,
   "id": "22389896",
   "metadata": {},
   "outputs": [],
   "source": [
    "prueba = edadlimpia[edadlimpia['SEXO'] == 'MASCULINO'].mode()\n",
    "print(prueba)\n",
    "prueba = edadlimpia[edadlimpia['SEXO'] == 'FEMENINO'].mode()\n",
    "print(prueba)\n",
    "prueba = edadlimpia[edadlimpia['SEXO'] == 'NO APLICA'].mode()\n",
    "print(prueba)"
   ]
  },
  {
   "cell_type": "code",
   "execution_count": null,
   "id": "44ea3be9",
   "metadata": {},
   "outputs": [],
   "source": [
    "prueba.FEMENINO['mean']"
   ]
  },
  {
   "cell_type": "code",
   "execution_count": null,
   "id": "8fe156bc",
   "metadata": {},
   "outputs": [],
   "source": [
    "edades.describe()"
   ]
  },
  {
   "cell_type": "code",
   "execution_count": null,
   "id": "afcd1150",
   "metadata": {},
   "outputs": [],
   "source": []
  },
  {
   "cell_type": "code",
   "execution_count": null,
   "id": "1d3bb660",
   "metadata": {},
   "outputs": [],
   "source": [
    "dfsiniestros['EDAD_PROCESADA'] = dfsiniestros['EDAD_PROCESADA'].replace('SIN INFORMACION',round(eda.mean(),0))"
   ]
  },
  {
   "cell_type": "code",
   "execution_count": null,
   "id": "c064289e",
   "metadata": {},
   "outputs": [],
   "source": [
    "round(eda.mode().get(0),0)"
   ]
  },
  {
   "cell_type": "code",
   "execution_count": null,
   "id": "a09a6fc3",
   "metadata": {},
   "outputs": [],
   "source": [
    "dfsiniestros['EDAD_PROCESADA'].fillna(round(eda.mode().get(0),0), inplace=True)\n",
    "epa = dfsiniestros['EDAD_PROCESADA']"
   ]
  },
  {
   "cell_type": "code",
   "execution_count": null,
   "id": "fd029b1a",
   "metadata": {},
   "outputs": [],
   "source": [
    "for column in dfsiniestros.columns:\n",
    "    print(f'Columna {column} tienen {dfsiniestros[column].isna().sum()} registros en nan')"
   ]
  },
  {
   "cell_type": "code",
   "execution_count": null,
   "id": "059b4f7a",
   "metadata": {},
   "outputs": [],
   "source": [
    "dfsiniestros['EDAD_PROCESADA'] = dfsiniestros['EDAD_PROCESADA'].astype(float)"
   ]
  },
  {
   "cell_type": "code",
   "execution_count": null,
   "id": "2662eb69",
   "metadata": {},
   "outputs": [],
   "source": [
    "dfsiniestros.corr()"
   ]
  },
  {
   "cell_type": "code",
   "execution_count": null,
   "id": "5caf3983",
   "metadata": {},
   "outputs": [],
   "source": [
    "dfsiniestros['EDAD_PROCESADA'].map(type).value_counts()"
   ]
  },
  {
   "cell_type": "code",
   "execution_count": null,
   "id": "a59bd40b",
   "metadata": {},
   "outputs": [],
   "source": [
    "graedadagrup = dfsiniestros.groupby(['EDAD_PROCESADA']).size().reset_index(name='CANTIDAD')\n",
    "graedadagrup"
   ]
  },
  {
   "cell_type": "code",
   "execution_count": null,
   "id": "6aa00347",
   "metadata": {},
   "outputs": [],
   "source": [
    "for column in dfsiniestros.columns:\n",
    "    print(f'Columna {column} tienen {dfsiniestros[column].isna().sum()} registros en nan')"
   ]
  },
  {
   "cell_type": "code",
   "execution_count": null,
   "id": "fc4ab404",
   "metadata": {},
   "outputs": [],
   "source": [
    "dfsiniestros['EDAD_PROCESADA'] = dfsiniestros['EDAD_PROCESADA'].astype(float)"
   ]
  },
  {
   "cell_type": "code",
   "execution_count": null,
   "id": "b4e3b688",
   "metadata": {},
   "outputs": [],
   "source": [
    "gragpcoun = dfsiniestros.groupby([[]'DIRECCION']).size().reset_index(name='CANTIDAD')\n",
    "gragpcoun"
   ]
  },
  {
   "cell_type": "code",
   "execution_count": null,
   "id": "8b9e727d",
   "metadata": {},
   "outputs": [],
   "source": [
    "dfsiniestros.head()"
   ]
  },
  {
   "cell_type": "code",
   "execution_count": null,
   "id": "18654b16",
   "metadata": {},
   "outputs": [],
   "source": [
    "dfsiniestros.info()"
   ]
  },
  {
   "cell_type": "code",
   "execution_count": null,
   "id": "aaea595d",
   "metadata": {},
   "outputs": [],
   "source": [
    "dfsiniestros.columns"
   ]
  },
  {
   "cell_type": "markdown",
   "id": "a907ff41",
   "metadata": {},
   "source": [
    "### Cantidad de dfsiniestros por gravedad."
   ]
  },
  {
   "cell_type": "code",
   "execution_count": null,
   "id": "6e177427",
   "metadata": {},
   "outputs": [],
   "source": [
    "gragpcoun = dfsiniestros.groupby(['GRAVEDADCOD']).size().reset_index(name='CANTIDAD')\n",
    "gragpcoun"
   ]
  },
  {
   "cell_type": "code",
   "execution_count": null,
   "id": "9969b13d",
   "metadata": {},
   "outputs": [],
   "source": [
    "lstgrave = ['Con Muertos','Con Heridos','Solo Daños']"
   ]
  },
  {
   "cell_type": "code",
   "execution_count": null,
   "id": "04d0a00f",
   "metadata": {},
   "outputs": [],
   "source": [
    "plt.figure()\n",
    "plt.bar(lstgrave, gragpcoun['CANTIDAD'], width=0.5, color='#FF616D')\n",
    "plt.title(\"Cantidad de dfsiniestros por gravedad.\")\n",
    "plt.ylabel(\"Cantidad dfsiniestros.\")\n",
    "plt.xlabel(\"Gravedad Siniestro.\")\n",
    "plt.xticks(rotation=90)\n",
    "lstcant = gragpcoun['CANTIDAD'].to_numpy()\n",
    "\n",
    "for i in range(len(lstcant)):\n",
    "    plt.annotate(lstcant[i], (i-0.15, 2000+lstcant[i]))\n",
    "\n",
    "plt.show()\n",
    "plt.close()"
   ]
  },
  {
   "cell_type": "code",
   "execution_count": null,
   "id": "b0369da3",
   "metadata": {},
   "outputs": [],
   "source": [
    "gracogpcoun = dfsiniestros.groupby(['GRAVEDAD_PROCESADA']).size().reset_index(name='CANTIDAD')\n",
    "gracogpcoun = gracogpcoun.sort_values(by=['CANTIDAD'], ascending=True)\n",
    "gracogpcoun"
   ]
  },
  {
   "cell_type": "code",
   "execution_count": null,
   "id": "34f2dcee",
   "metadata": {},
   "outputs": [],
   "source": [
    "lstCantidad = gracogpcoun['GRAVEDAD_PROCESADA'].to_numpy()\n",
    "lstCantidad"
   ]
  },
  {
   "cell_type": "code",
   "execution_count": null,
   "id": "71cff992",
   "metadata": {},
   "outputs": [],
   "source": [
    "plt.figure()\n",
    "plt.bar(gracogpcoun['GRAVEDAD_PROCESADA'], gracogpcoun['CANTIDAD'], width=0.7, color='#053742')\n",
    "plt.title(\"Cantidad de dfsiniestros por gravedad.\")\n",
    "plt.ylabel(\"Gravedad dfsiniestros.\")\n",
    "plt.xlabel(\"Cantidad Siniestro.\")\n",
    "plt.xticks(rotation=90)\n",
    "lstcant = gracogpcoun['CANTIDAD'].to_numpy()\n",
    "lstgrave = gracogpcoun['GRAVEDAD_PROCESADA'].to_numpy()\n",
    "\n",
    "for i in range(len(lstcant)):\n",
    "    plt.annotate(lstcant[i], (i-0.15, 2000+lstcant[i]))\n",
    "\n",
    "plt.show()\n",
    "plt.close()"
   ]
  },
  {
   "cell_type": "code",
   "execution_count": null,
   "id": "91814ec0",
   "metadata": {},
   "outputs": [],
   "source": [
    "dfsiniestros[['GRAVEDAD_PROCESADA','GRAVEDADCOD']].value_counts()"
   ]
  },
  {
   "cell_type": "code",
   "execution_count": null,
   "id": "5aee82e6",
   "metadata": {},
   "outputs": [],
   "source": [
    "dfsiniestros[['EDAD_PROCESADA','GRAVEDADCOD']].value_counts()"
   ]
  },
  {
   "cell_type": "code",
   "execution_count": null,
   "id": "6d2800cc",
   "metadata": {},
   "outputs": [],
   "source": [
    "graedadagrup = dfsiniestros.groupby(['EDAD_PROCESADA','GRAVEDADCOD']).size().reset_index(name='CANTIDAD')\n",
    "#gracogpcoun = gracogpcoun.sort_values(by=['CANTIDAD'], ascending=True)\n",
    "graedadagrup"
   ]
  },
  {
   "cell_type": "code",
   "execution_count": null,
   "id": "be86051f",
   "metadata": {},
   "outputs": [],
   "source": [
    "plt.figure()\n",
    "plt.plot(graedadagrup['EDAD_PROCESADA'], graedadagrup['CANTIDAD'],'g-')\n",
    "plt.xlabel('Edad Procesada')\n",
    "plt.ylabel('Cantidad')\n",
    "plt.savefig('pruebaas')\n",
    "plt.show()\n",
    "plt.close()"
   ]
  },
  {
   "cell_type": "code",
   "execution_count": null,
   "id": "e1cb0ccd",
   "metadata": {},
   "outputs": [],
   "source": [
    "dfsiniestros.info()"
   ]
  },
  {
   "cell_type": "code",
   "execution_count": null,
   "id": "cea3d6d2",
   "metadata": {},
   "outputs": [],
   "source": []
  }
 ],
 "metadata": {
  "kernelspec": {
   "display_name": "Python 3",
   "language": "python",
   "name": "python3"
  },
  "language_info": {
   "codemirror_mode": {
    "name": "ipython",
    "version": 3
   },
   "file_extension": ".py",
   "mimetype": "text/x-python",
   "name": "python",
   "nbconvert_exporter": "python",
   "pygments_lexer": "ipython3",
   "version": "3.8.10"
  }
 },
 "nbformat": 4,
 "nbformat_minor": 5
}
