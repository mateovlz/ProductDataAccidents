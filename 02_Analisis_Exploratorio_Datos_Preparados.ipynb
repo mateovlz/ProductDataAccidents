{
 "cells": [
  {
   "cell_type": "markdown",
   "id": "6c36e37a",
   "metadata": {},
   "source": [
    "## Análisis exploratorio datos preparados.\n",
    "\n",
    "El proposito de este notebook es utilizar el dataset generado en el primer proceso de preparación de datos para realizar analisis exploratorio en los datos, graficas, correlaciones y poder establecer tecnicas para el uso o arreglo de datos."
   ]
  },
  {
   "cell_type": "code",
   "execution_count": null,
   "id": "f6d02a13",
   "metadata": {},
   "outputs": [],
   "source": [
    "import numpy as np\n",
    "import pandas as pd\n",
    "import matplotlib.pyplot as plt\n",
    "import seaborn as sns\n",
    "\n",
    "%matplotlib inline"
   ]
  },
  {
   "cell_type": "markdown",
   "id": "7bfe5551",
   "metadata": {},
   "source": [
    "### Extracción datos."
   ]
  },
  {
   "cell_type": "code",
   "execution_count": null,
   "id": "54d45623",
   "metadata": {},
   "outputs": [],
   "source": [
    "URL_PREPARED_DATA = 'Prepared_Data'\n",
    "FILE_NAME = 'siniestros-prepared.csv'"
   ]
  },
  {
   "cell_type": "code",
   "execution_count": null,
   "id": "15cc3d87",
   "metadata": {},
   "outputs": [],
   "source": [
    "dfsiniestros = pd.read_csv(URL_PREPARED_DATA+'/'+FILE_NAME)\n",
    "# revisar columnas (4,26) "
   ]
  },
  {
   "cell_type": "markdown",
   "id": "76860311",
   "metadata": {},
   "source": [
    "### Cantidad de datos."
   ]
  },
  {
   "cell_type": "code",
   "execution_count": null,
   "id": "a4250d3b",
   "metadata": {},
   "outputs": [],
   "source": [
    "dfsiniestros.shape"
   ]
  },
  {
   "cell_type": "markdown",
   "id": "2eff32ff",
   "metadata": {},
   "source": [
    "### Validación de datos.\n",
    "1.  Validamos los tipos de datos de cada columna.\n",
    "2.  Validamos la cantidad de valores nan por cada columna."
   ]
  },
  {
   "cell_type": "code",
   "execution_count": null,
   "id": "99bae7f1",
   "metadata": {},
   "outputs": [],
   "source": [
    "dfsiniestros.info()"
   ]
  },
  {
   "cell_type": "code",
   "execution_count": null,
   "id": "de61cf94",
   "metadata": {},
   "outputs": [],
   "source": [
    "for column in dfsiniestros.columns:\n",
    "    if (dfsiniestros[column].isna().sum()):\n",
    "        print(f'Columna {column} tienen {dfsiniestros[column].isna().sum()} registros en nan')"
   ]
  },
  {
   "cell_type": "markdown",
   "id": "4a55a63d",
   "metadata": {},
   "source": [
    "### Remplazo de valores vacios *(na)*\n",
    "- Columna Edad:\n",
    "    - Se remplaza los valores ```SIN INFORMACION``` en la columna *```EDAD_PROCESADA```*.\n",
    "    - Se remplaza los valores ```NaN``` en la columna *```EDAD_PROCESADA```*."
   ]
  },
  {
   "cell_type": "code",
   "execution_count": null,
   "id": "1f9ce134",
   "metadata": {},
   "outputs": [],
   "source": [
    "edadlimpia = dfsiniestros[dfsiniestros['EDAD_PROCESADA'] !='SIN INFORMACION'][['EDAD_PROCESADA','SEXO']].dropna()\n",
    "edadlimpia['EDAD_PROCESADA'] = edadlimpia['EDAD_PROCESADA'].astype(float)"
   ]
  },
  {
   "cell_type": "code",
   "execution_count": null,
   "id": "9b8ac365",
   "metadata": {},
   "outputs": [],
   "source": [
    "proedades = edadlimpia.groupby(['SEXO'])['EDAD_PROCESADA'].describe()[['mean','count']].reset_index()\n",
    "#prueba.columns = prueba.columns.droplevel(0)\n",
    "print('Promedio Edades Agrupado por SEXO:')\n",
    "print(proedades)"
   ]
  },
  {
   "cell_type": "code",
   "execution_count": null,
   "id": "948408b2",
   "metadata": {},
   "outputs": [],
   "source": [
    "print('Moda Edades Agrupado por SEXO:')\n",
    "moedmasculino = edadlimpia[edadlimpia['SEXO'] == 'MASCULINO'].mode()\n",
    "print(moedmasculino)\n",
    "moedfemenino = edadlimpia[edadlimpia['SEXO'] == 'FEMENINO'].mode()\n",
    "print(moedfemenino)\n",
    "moednoaplica = edadlimpia[edadlimpia['SEXO'] == 'NO APLICA'].mode()\n",
    "print(moednoaplica)"
   ]
  },
  {
   "cell_type": "markdown",
   "id": "500b3ab3",
   "metadata": {},
   "source": [
    "#### Conclusion para poblar valores *(na)* campo ```EDAD_PROCESADA```\n",
    "Como se observo en las anteriores operaciones donde se extrajeron los valores promedio y moda de los valores que actualmente tiene este campo, para contribuir a que la distribucion de los datos se mantengan agrupados por ```SEXO``` se utilizaran los siguientes valores:\n",
    "\n",
    "- MASCULINO: Se utilizara la moda ```27```\n",
    "- FEMENINO: Se utilizara el promedio ```38```\n",
    "- NO APLICA: Se utilizara el promedio ```40```\n",
    "\n",
    "*Nota: Se toma la decisión de usar estadisticos para la cada ```SEXO``` para que los datos no quedaran planos y nos afectaran la distribucion.*"
   ]
  },
  {
   "cell_type": "code",
   "execution_count": null,
   "id": "9bddf276",
   "metadata": {},
   "outputs": [],
   "source": [
    "edadmasculino = round(moedmasculino['EDAD_PROCESADA'].get(0),0)\n",
    "edadmasculino"
   ]
  },
  {
   "cell_type": "code",
   "execution_count": null,
   "id": "c0ce5b0b",
   "metadata": {},
   "outputs": [],
   "source": [
    "edadfemenino = round(proedades[proedades['SEXO'] == 'FEMENINO']['mean'].values[0],0)\n",
    "edadfemenino"
   ]
  },
  {
   "cell_type": "code",
   "execution_count": null,
   "id": "30cd5325",
   "metadata": {},
   "outputs": [],
   "source": [
    "edadnoaplica = round(proedades[proedades['SEXO'] == 'NO APLICA']['mean'].values[0],0)\n",
    "edadnoaplica"
   ]
  },
  {
   "cell_type": "markdown",
   "id": "d5d00aff",
   "metadata": {},
   "source": [
    "### Eliminación valores\n",
    "- Columna __EDAD_PROCESADA__  ```SIN INFORMACION```\n",
    "- Columna __SEXO__  ```NO APLICA```\n",
    "Total eliminaciones ```4450``` Registros"
   ]
  },
  {
   "cell_type": "code",
   "execution_count": null,
   "id": "a792814d",
   "metadata": {},
   "outputs": [],
   "source": [
    "dfsiniestros.shape"
   ]
  },
  {
   "cell_type": "code",
   "execution_count": null,
   "id": "ac441fea",
   "metadata": {},
   "outputs": [],
   "source": [
    "# Elimina registros de EDAD_PROCESADA\n",
    "dfsiniestros.drop(dfsiniestros[(dfsiniestros['EDAD_PROCESADA'].isna() ) | (dfsiniestros['EDAD_PROCESADA'] == 'SIN INFORMACION') ].index,  inplace=True) "
   ]
  },
  {
   "cell_type": "code",
   "execution_count": null,
   "id": "875a81fd",
   "metadata": {},
   "outputs": [],
   "source": [
    "#Elimina registros de SEXO\n",
    "dfsiniestros.drop(dfsiniestros[dfsiniestros['SEXO'] == 'NO APLICA'].index, inplace=True)"
   ]
  },
  {
   "cell_type": "code",
   "execution_count": null,
   "id": "a36fa14e",
   "metadata": {},
   "outputs": [],
   "source": [
    "dfsiniestros.shape"
   ]
  },
  {
   "cell_type": "markdown",
   "id": "99fd3822",
   "metadata": {},
   "source": [
    "Remplazo de Valores ```na``` columna ```EDAD_PROCESADA```"
   ]
  },
  {
   "cell_type": "code",
   "execution_count": null,
   "id": "a50cce00",
   "metadata": {},
   "outputs": [],
   "source": [
    "dfsiniestros.loc[((dfsiniestros['SEXO'] == 'MASCULINO') & (dfsiniestros['EDAD_PROCESADA'].isna())),'EDAD_PROCESADA'] = edadmasculino "
   ]
  },
  {
   "cell_type": "code",
   "execution_count": null,
   "id": "6ac4c802",
   "metadata": {},
   "outputs": [],
   "source": [
    "dfsiniestros.loc[((dfsiniestros['SEXO'] == 'FEMENINO') & (dfsiniestros['EDAD_PROCESADA'].isna())),'EDAD_PROCESADA'] = edadfemenino "
   ]
  },
  {
   "cell_type": "code",
   "execution_count": null,
   "id": "ba677621",
   "metadata": {},
   "outputs": [],
   "source": [
    "dfsiniestros.loc[((dfsiniestros['SEXO'] == 'NO APLICA') & (dfsiniestros['EDAD_PROCESADA'].isna())),'EDAD_PROCESADA'] = edadnoaplica "
   ]
  },
  {
   "cell_type": "markdown",
   "id": "4b06b740",
   "metadata": {},
   "source": [
    "Remplazo de Valores ```'Sin Informacion'``` columna ```EDAD_PROCESADA```"
   ]
  },
  {
   "cell_type": "code",
   "execution_count": null,
   "id": "44f729e3",
   "metadata": {},
   "outputs": [],
   "source": [
    "dfsiniestros.loc[((dfsiniestros['SEXO'] == 'MASCULINO') & (dfsiniestros['EDAD_PROCESADA'] == 'SIN INFORMACION')),'EDAD_PROCESADA'] = edadmasculino "
   ]
  },
  {
   "cell_type": "code",
   "execution_count": null,
   "id": "14826ff3",
   "metadata": {},
   "outputs": [],
   "source": [
    "dfsiniestros.loc[((dfsiniestros['SEXO'] == 'FEMENINO') & (dfsiniestros['EDAD_PROCESADA'] == 'SIN INFORMACION')),'EDAD_PROCESADA'] = edadfemenino "
   ]
  },
  {
   "cell_type": "code",
   "execution_count": null,
   "id": "957cbf11",
   "metadata": {},
   "outputs": [],
   "source": [
    "dfsiniestros.loc[((dfsiniestros['SEXO'] == 'NO APLICA') & (dfsiniestros['EDAD_PROCESADA'] == 'SIN INFORMACION')),'EDAD_PROCESADA'] = edadnoaplica "
   ]
  },
  {
   "cell_type": "markdown",
   "id": "a527b291",
   "metadata": {},
   "source": [
    "Validación de tipos de datos en la columna ```EDAD_PROCESADA```"
   ]
  },
  {
   "cell_type": "markdown",
   "id": "9ceed896",
   "metadata": {},
   "source": [
    "Se convierten todos los tipos de datos de columna ```EDAD_PROCESADA```"
   ]
  },
  {
   "cell_type": "code",
   "execution_count": null,
   "id": "9a75646e",
   "metadata": {},
   "outputs": [],
   "source": [
    "dfsiniestros['EDAD_PROCESADA'] = dfsiniestros['EDAD_PROCESADA'].astype('float')\n",
    "dfsiniestros['EDAD_PROCESADA'] = dfsiniestros['EDAD_PROCESADA'].astype('int64')"
   ]
  },
  {
   "cell_type": "markdown",
   "id": "890f999a",
   "metadata": {},
   "source": [
    "## VALIDAR ELIMINACIONES```TIPO_DISENNO```"
   ]
  },
  {
   "cell_type": "code",
   "execution_count": null,
   "id": "b055b859",
   "metadata": {},
   "outputs": [],
   "source": [
    "del dfsiniestros['TIPODISENNO']"
   ]
  },
  {
   "cell_type": "code",
   "execution_count": null,
   "id": "613220dc",
   "metadata": {},
   "outputs": [],
   "source": [
    "del dfsiniestros['TIPOFALLA']"
   ]
  },
  {
   "cell_type": "code",
   "execution_count": null,
   "id": "c9b5d802",
   "metadata": {},
   "outputs": [],
   "source": [
    "del dfsiniestros['KEYID']"
   ]
  },
  {
   "cell_type": "code",
   "execution_count": null,
   "id": "b32009cd",
   "metadata": {},
   "outputs": [],
   "source": [
    "del dfsiniestros['Unnamed: 0']"
   ]
  },
  {
   "cell_type": "code",
   "execution_count": null,
   "id": "5c7c1ce9",
   "metadata": {},
   "outputs": [],
   "source": [
    "del dfsiniestros['CON_BICICLETA']"
   ]
  },
  {
   "cell_type": "markdown",
   "id": "667c9203",
   "metadata": {},
   "source": [
    "- Columna __LLEVACINTURON__:\n",
    "    - Se remplaza los valores ```NaN``` en la columna *```LLEVACINTURON```* con ```0``` este siendo una variable de categoria y el  ```0``` significando que para el siniestro no aplica esta categoria."
   ]
  },
  {
   "cell_type": "code",
   "execution_count": null,
   "id": "2113a2d9",
   "metadata": {},
   "outputs": [],
   "source": [
    "dfsiniestros['LLEVACINTURON'].fillna('0', inplace=True)\n",
    "dfsiniestros['LLEVACINTURON'].value_counts(dropna=False)"
   ]
  },
  {
   "cell_type": "markdown",
   "id": "a689e278",
   "metadata": {},
   "source": [
    "- Columna __LLEVACHALECO__:\n",
    "    - Se remplaza los valores ```NaN``` en la columna __*```LLEVACHALECO```*__ con ```0``` este siendo una variable de categoria y el  ```0``` significando que para el siniestro no aplica esta categoria."
   ]
  },
  {
   "cell_type": "code",
   "execution_count": null,
   "id": "34547374",
   "metadata": {},
   "outputs": [],
   "source": [
    "dfsiniestros['LLEVACHALECO'].fillna('0', inplace=True)\n",
    "dfsiniestros['LLEVACHALECO'].value_counts(dropna=False)"
   ]
  },
  {
   "cell_type": "markdown",
   "id": "1c893625",
   "metadata": {},
   "source": [
    "- Columna __LLEVACASCO__:\n",
    "    - Se remplaza los valores ```NaN``` en la columna __*```LLEVACASCO```*__ con ```0``` este siendo una variable de categoria y el  ```0``` significando que para el siniestro no aplica esta categoria."
   ]
  },
  {
   "cell_type": "code",
   "execution_count": null,
   "id": "3af586aa",
   "metadata": {},
   "outputs": [],
   "source": [
    "dfsiniestros['LLEVACASCO'].fillna('0', inplace=True)\n",
    "dfsiniestros['LLEVACASCO'].value_counts(dropna=False)"
   ]
  },
  {
   "cell_type": "markdown",
   "id": "7eba073f",
   "metadata": {},
   "source": [
    "- Columna __SERVICIOVEHICULO__:\n",
    "    - Se remplaza los valores ```NaN``` en la columna __*```SERVICIOVEHICULO```*__ con ```0``` este siendo una variable de categoria y el  ```0``` significando que para el siniestro no aplica esta categoria."
   ]
  },
  {
   "cell_type": "code",
   "execution_count": null,
   "id": "9c4ddee3",
   "metadata": {},
   "outputs": [],
   "source": [
    "dfsiniestros['SERVICIOVEHICULO'].fillna('Particular', inplace=True)\n",
    "dfsiniestros['SERVICIOVEHICULO'].value_counts(dropna=False)"
   ]
  },
  {
   "cell_type": "markdown",
   "id": "52678ccd",
   "metadata": {},
   "source": [
    "- Columna __VEHICULO_VIAJABA_CLASIFICADO__:\n",
    "    - Se remplaza los valores ```NaN``` en la columna __*```VEHICULO_VIAJABA_CLASIFICADO```*__ con ```0``` este siendo una variable de categoria y el  ```0``` significando que para el siniestro no aplica esta categoria."
   ]
  },
  {
   "cell_type": "code",
   "execution_count": null,
   "id": "5888a9fd",
   "metadata": {},
   "outputs": [],
   "source": [
    "dfsiniestros['VEHICULO_VIAJABA_CLASIFICADO'].value_counts(dropna=False)"
   ]
  },
  {
   "cell_type": "markdown",
   "id": "10dda8c6",
   "metadata": {},
   "source": [
    "- Columna __CLASEVEHICULO__:\n",
    "    - Se remplaza los valores ```NaN``` en la columna __*```CLASEVEHICULO```*__ con ```0``` este siendo una variable de categoria y el  ```0``` significando que para el siniestro no aplica esta categoria."
   ]
  },
  {
   "cell_type": "code",
   "execution_count": null,
   "id": "5132b050",
   "metadata": {},
   "outputs": [],
   "source": [
    "dfsiniestros['CLASEVEHICULO'].fillna('Automovil', inplace=True)\n",
    "dfsiniestros['CLASEVEHICULO'].value_counts(dropna=False)"
   ]
  },
  {
   "cell_type": "markdown",
   "id": "cf5f26dc",
   "metadata": {},
   "source": [
    "- Columna __CHOQUECODIGO__:\n",
    "    - Se remplaza los valores ```NaN``` en la columna __*```CHOQUECODIGO```*__ con ```0``` este siendo una variable de categoria y el  ```0``` significando que para el siniestro no aplica esta categoria."
   ]
  },
  {
   "cell_type": "code",
   "execution_count": null,
   "id": "ea253585",
   "metadata": {},
   "outputs": [],
   "source": [
    "dfsiniestros['CHOQUECODIGO'].fillna('0', inplace=True)\n",
    "dfsiniestros['CHOQUECODIGO'].value_counts(dropna=False)"
   ]
  },
  {
   "cell_type": "markdown",
   "id": "687def72",
   "metadata": {},
   "source": [
    "- Columna __MODELOVEHICULO__:\n",
    "    - Se remplaza los valores ```NaN``` en la columna *```MODELOVEHICULO```* con la moda de los valores correctos."
   ]
  },
  {
   "cell_type": "code",
   "execution_count": null,
   "id": "a5c27593",
   "metadata": {},
   "outputs": [],
   "source": [
    "dfsiniestros['MODELOVEHICULO'].fillna(2014.0, inplace=True)"
   ]
  },
  {
   "cell_type": "code",
   "execution_count": null,
   "id": "1cdad81d",
   "metadata": {},
   "outputs": [],
   "source": [
    "dfsiniestros.info()"
   ]
  },
  {
   "cell_type": "markdown",
   "id": "bb15ad8f",
   "metadata": {},
   "source": [
    "### Conversion de tipos de datos por campo y categoricas  __```NUMERICAS```__.\n",
    "En este paso se realizara lo siguiente:\n",
    "   1. Por cada campo del ```dfsiniestros``` se convertira al tipo de dato que corresponde por naturaleza. __(Date,Float,Int)__\n",
    "   2. Las variables categoricas ```alfanumericas``` se convertiran en categoricas ```numericas```."
   ]
  },
  {
   "cell_type": "markdown",
   "id": "db297a96",
   "metadata": {},
   "source": [
    "#### Convertimos el campo __```FECHA```__ en datetime."
   ]
  },
  {
   "cell_type": "code",
   "execution_count": null,
   "id": "9687f436",
   "metadata": {},
   "outputs": [],
   "source": [
    "dfsiniestros['FECHA'] = dfsiniestros['FECHA'].astype('datetime64[ns]')"
   ]
  },
  {
   "cell_type": "markdown",
   "id": "e4810899",
   "metadata": {},
   "source": [
    "#### Convertimos el campo __```DIA_PROCESADO```__ a categorico numerico de tipo ```INT```.\n",
    "Para este campo se asignaran los siguientes valores para cada caso:\n",
    "   1. LUNES\n",
    "   2. MARTES\n",
    "   3. MIÉRCOLES\n",
    "   4. JUEVES\n",
    "   5. VIERNES\n",
    "   6. SÁBADO\n",
    "   7. DOMINGO"
   ]
  },
  {
   "cell_type": "code",
   "execution_count": null,
   "id": "3452c898",
   "metadata": {},
   "outputs": [],
   "source": [
    "dfsiniestros['DIA_PROCESADO'].replace('LUNES',1,inplace=True)\n",
    "dfsiniestros['DIA_PROCESADO'].replace('MARTES',2,inplace=True)\n",
    "dfsiniestros['DIA_PROCESADO'].replace('MIÉRCOLES',3,inplace=True)\n",
    "dfsiniestros['DIA_PROCESADO'].replace('JUEVES',4,inplace=True)\n",
    "dfsiniestros['DIA_PROCESADO'].replace('VIERNES',5,inplace=True)\n",
    "dfsiniestros['DIA_PROCESADO'].replace('SÁBADO',6,inplace=True)\n",
    "dfsiniestros['DIA_PROCESADO'].replace('DOMINGO',7,inplace=True)"
   ]
  },
  {
   "cell_type": "markdown",
   "id": "287e9cb2",
   "metadata": {},
   "source": [
    "#### Convertimos el campo __```LLEVACINTURON```__ a categorico numerico de tipo ```INT```.\n",
    "Para este campo se asignaran los siguientes valores para cada caso:\n",
    "\n",
    "   0. NO APLICA\n",
    "   1. SI\n",
    "   2. NO"
   ]
  },
  {
   "cell_type": "code",
   "execution_count": null,
   "id": "71382f7b",
   "metadata": {},
   "outputs": [],
   "source": [
    "dfsiniestros['LLEVACINTURON'].replace('S',1,inplace=True)\n",
    "dfsiniestros['LLEVACINTURON'].replace('N',2,inplace=True)\n",
    "dfsiniestros['LLEVACINTURON'] = dfsiniestros['LLEVACINTURON'].astype('int64')"
   ]
  },
  {
   "cell_type": "markdown",
   "id": "61b1012e",
   "metadata": {},
   "source": [
    "#### Convertimos el campo __```LLEVACHALECO```__ a categorico numerico de tipo ```INT```.\n",
    "Para este campo se asignaran los siguientes valores para cada caso:\n",
    "\n",
    "   0. NO APLICA\n",
    "   1. SI\n",
    "   2. NO"
   ]
  },
  {
   "cell_type": "code",
   "execution_count": null,
   "id": "9a87b737",
   "metadata": {},
   "outputs": [],
   "source": [
    "dfsiniestros['LLEVACHALECO'].replace('S',1,inplace=True)\n",
    "dfsiniestros['LLEVACHALECO'].replace('N',2,inplace=True)\n",
    "dfsiniestros['LLEVACHALECO'] = dfsiniestros['LLEVACHALECO'].astype('int64')"
   ]
  },
  {
   "cell_type": "markdown",
   "id": "8ade621a",
   "metadata": {},
   "source": [
    "#### Convertimos el campo __```LLEVACASCO```__ a categorico numerico de tipo ```INT```.\n",
    "Para este campo se asignaran los siguientes valores para cada caso:\n",
    "\n",
    "   0. NO APLICA\n",
    "   1. SI\n",
    "   2. NO"
   ]
  },
  {
   "cell_type": "code",
   "execution_count": null,
   "id": "a46f2d3a",
   "metadata": {},
   "outputs": [],
   "source": [
    "dfsiniestros['LLEVACASCO'].replace('S',1,inplace=True)\n",
    "dfsiniestros['LLEVACASCO'].replace('N',2,inplace=True)\n",
    "dfsiniestros['LLEVACASCO'] = dfsiniestros['LLEVACASCO'].astype('int64')"
   ]
  },
  {
   "cell_type": "markdown",
   "id": "7a7d8b88",
   "metadata": {},
   "source": [
    "#### Convertimos el campo __```SEXO```__ a categorico numerico de tipo ```INT```.\n",
    "Para este campo se asignaran los siguientes valores para cada caso:\n",
    "\n",
    "   0. NO APLICA\n",
    "   1. MASCULINO\n",
    "   2. FEMENINO"
   ]
  },
  {
   "cell_type": "code",
   "execution_count": null,
   "id": "f685625e",
   "metadata": {},
   "outputs": [],
   "source": [
    "dfsiniestros['SEXO'].replace('MASCULINO',1,inplace=True)\n",
    "dfsiniestros['SEXO'].replace('FEMENINO',2,inplace=True)\n",
    "dfsiniestros['SEXO'].replace('NO APLICA',0,inplace=True)\n",
    "dfsiniestros['SEXO'] = dfsiniestros['SEXO'].astype('int64')"
   ]
  },
  {
   "cell_type": "markdown",
   "id": "6c5a839f",
   "metadata": {},
   "source": [
    "#### Convertimos el campo __```GRAVEDAD_PROCESADA```__ a categorico numerico de tipo ```INT```.\n",
    "Para este campo se asignaran los siguientes valores para cada caso:\n",
    "\n",
    "   1. ILESA\n",
    "   2. HERIDO VALORADO\n",
    "   3. HERIDO HOSPITALIZADO\n",
    "   4. MUERTA"
   ]
  },
  {
   "cell_type": "code",
   "execution_count": null,
   "id": "2752bb72",
   "metadata": {},
   "outputs": [],
   "source": [
    "dfsiniestros['GRAVEDAD_PROCESADA'].replace('ILESA',1,inplace=True)\n",
    "dfsiniestros['GRAVEDAD_PROCESADA'].replace('HERIDO VALORADO',2,inplace=True)\n",
    "dfsiniestros['GRAVEDAD_PROCESADA'].replace('HERIDO HOSPITALIZADO',3,inplace=True)\n",
    "dfsiniestros['GRAVEDAD_PROCESADA'].replace('MUERTA',4,inplace=True)\n",
    "dfsiniestros['GRAVEDAD_PROCESADA'] = dfsiniestros['GRAVEDAD_PROCESADA'].astype('int64')"
   ]
  },
  {
   "cell_type": "markdown",
   "id": "c45163bc",
   "metadata": {},
   "source": [
    "#### Convertimos el campo __```MODELOVEHICULO```__ en  ```INT```."
   ]
  },
  {
   "cell_type": "code",
   "execution_count": null,
   "id": "6a4976ea",
   "metadata": {},
   "outputs": [],
   "source": [
    "dfsiniestros['MODELOVEHICULO'] = dfsiniestros['MODELOVEHICULO'].astype('int64')"
   ]
  },
  {
   "cell_type": "markdown",
   "id": "db630315",
   "metadata": {},
   "source": [
    "#### Convertimos el campo __```CLASEVEHICULO```__ a categorico numerico de tipo ```INT```.\n",
    "Para este campo se asignaran los siguientes valores para cada caso:\n",
    "\n",
    "   1. Automovil\n",
    "   2. Motocicleta\n",
    "   3. Camioneta\n",
    "   4. Bus\n",
    "   5. Camion, Furgon\n",
    "   6. Campero\n",
    "   7. Bicicleta\n",
    "   8. Microbus\n",
    "   9. Buseta\n",
    "   10. Tractocamion\n",
    "   11. Volqueta\n",
    "   12. Motocarro\n",
    "   13. Bicitaxi\n",
    "   14. Motociclo\n",
    "   15. Cuatrimoto"
   ]
  },
  {
   "cell_type": "code",
   "execution_count": null,
   "id": "b46ddf17",
   "metadata": {},
   "outputs": [],
   "source": [
    "dfsiniestros['CLASEVEHICULO'].replace('Automovil',1,inplace=True)\n",
    "dfsiniestros['CLASEVEHICULO'].replace('Motocicleta',2,inplace=True)\n",
    "dfsiniestros['CLASEVEHICULO'].replace('Camioneta',3,inplace=True)\n",
    "dfsiniestros['CLASEVEHICULO'].replace('Bus',4,inplace=True)\n",
    "dfsiniestros['CLASEVEHICULO'].replace('Camion, Furgon',5,inplace=True)\n",
    "dfsiniestros['CLASEVEHICULO'].replace('Campero',6,inplace=True)\n",
    "dfsiniestros['CLASEVEHICULO'].replace('Bicicleta',7,inplace=True)\n",
    "dfsiniestros['CLASEVEHICULO'].replace('Microbus',8,inplace=True)\n",
    "dfsiniestros['CLASEVEHICULO'].replace('Buseta',9,inplace=True)\n",
    "dfsiniestros['CLASEVEHICULO'].replace('Tractocamion',10,inplace=True)\n",
    "dfsiniestros['CLASEVEHICULO'].replace('Volqueta',11,inplace=True)\n",
    "dfsiniestros['CLASEVEHICULO'].replace('Motocarro',12,inplace=True)\n",
    "dfsiniestros['CLASEVEHICULO'].replace('Bicitaxi',13,inplace=True)\n",
    "dfsiniestros['CLASEVEHICULO'].replace('Motociclo',14,inplace=True)\n",
    "dfsiniestros['CLASEVEHICULO'].replace('Cuatrimoto',15,inplace=True)\n",
    "dfsiniestros['CLASEVEHICULO'] = dfsiniestros['CLASEVEHICULO'].astype('int64')"
   ]
  },
  {
   "cell_type": "markdown",
   "id": "3ed900db",
   "metadata": {},
   "source": [
    "#### Convertimos el campo __```SERVICIOVEHICULO```__ a categorico numerico de tipo ```INT```.\n",
    "Para este campo se asignaran los siguientes valores para cada caso:\n",
    "\n",
    "   1. Particular\n",
    "   2. Publico\n",
    "   3. Oficial"
   ]
  },
  {
   "cell_type": "code",
   "execution_count": null,
   "id": "6dbcc600",
   "metadata": {},
   "outputs": [],
   "source": [
    "dfsiniestros['SERVICIOVEHICULO'].replace('Particular',1,inplace=True)\n",
    "dfsiniestros['SERVICIOVEHICULO'].replace('Publico',2,inplace=True)\n",
    "dfsiniestros['SERVICIOVEHICULO'].replace('Oficial',3,inplace=True)\n",
    "dfsiniestros['SERVICIOVEHICULO'] = dfsiniestros['SERVICIOVEHICULO'].astype('int64')"
   ]
  },
  {
   "cell_type": "markdown",
   "id": "2a1573da",
   "metadata": {},
   "source": [
    "#### Convertimos el campo __```POSSESEGURORESPONSABILIDAD```__ a categorico numerico de tipo ```INT```.\n",
    "Para este campo se asignaran los siguientes valores para cada caso:\n",
    "\n",
    "   1. SI\n",
    "   2. NO"
   ]
  },
  {
   "cell_type": "code",
   "execution_count": null,
   "id": "3dae1989",
   "metadata": {},
   "outputs": [],
   "source": [
    "dfsiniestros['POSSESEGURORESPONSABILIDAD'].replace('S',1,inplace=True)\n",
    "dfsiniestros['POSSESEGURORESPONSABILIDAD'].replace('N',2,inplace=True)\n",
    "dfsiniestros['POSSESEGURORESPONSABILIDAD'] = dfsiniestros['POSSESEGURORESPONSABILIDAD'].astype('int64')"
   ]
  },
  {
   "cell_type": "markdown",
   "id": "aab6afe7",
   "metadata": {},
   "source": [
    "#### Convertimos el campo __```VEHICULO_VIAJABA_CLASIFICADO```__ a categorico numerico de tipo ```INT```.\n",
    "Para este campo se asignaran los siguientes valores para cada caso:\n",
    "\n",
    "   0. SIN INFORMACION\n",
    "   1. LIVIANO\n",
    "   2. TRANSPORTE DE PASAJEROS\n",
    "   3. MOTOCICLETA\n",
    "   4. TAXI\n",
    "   5. CARGA\n",
    "   6. BICICLETA "
   ]
  },
  {
   "cell_type": "code",
   "execution_count": null,
   "id": "945c72d4",
   "metadata": {},
   "outputs": [],
   "source": [
    "dfsiniestros['VEHICULO_VIAJABA_CLASIFICADO'].replace('SIN INFORMACION',0,inplace=True)\n",
    "dfsiniestros['VEHICULO_VIAJABA_CLASIFICADO'].replace('LIVIANO',1,inplace=True)\n",
    "dfsiniestros['VEHICULO_VIAJABA_CLASIFICADO'].replace('TRANSPORTE DE PASAJEROS',2,inplace=True)\n",
    "dfsiniestros['VEHICULO_VIAJABA_CLASIFICADO'].replace('MOTOCICLETA',3,inplace=True)\n",
    "dfsiniestros['VEHICULO_VIAJABA_CLASIFICADO'].replace('TAXI',4,inplace=True)\n",
    "dfsiniestros['VEHICULO_VIAJABA_CLASIFICADO'].replace('CARGA',5,inplace=True)\n",
    "dfsiniestros['VEHICULO_VIAJABA_CLASIFICADO'].replace('BICICLETA',6,inplace=True)\n",
    "dfsiniestros['VEHICULO_VIAJABA_CLASIFICADO'] = dfsiniestros['VEHICULO_VIAJABA_CLASIFICADO'].astype('int64')"
   ]
  },
  {
   "cell_type": "markdown",
   "id": "4dea58ba",
   "metadata": {},
   "source": [
    "#### Convertimos el campo __```CON_EMBRIAGUEZ```__ a categorico numerico de tipo ```INT```.\n",
    "Para este campo se asignaran los siguientes valores para cada caso:\n",
    "\n",
    "   1. SI\n",
    "   2. NO"
   ]
  },
  {
   "cell_type": "code",
   "execution_count": null,
   "id": "325f7b50",
   "metadata": {},
   "outputs": [],
   "source": [
    "dfsiniestros['CON_EMBRIAGUEZ'].replace('SI',1,inplace=True)\n",
    "dfsiniestros['CON_EMBRIAGUEZ'].replace('NO',2,inplace=True)\n",
    "dfsiniestros['CON_EMBRIAGUEZ'] = dfsiniestros['CON_EMBRIAGUEZ'].astype('int64')"
   ]
  },
  {
   "cell_type": "markdown",
   "id": "aed341cc",
   "metadata": {},
   "source": [
    "#### Convertimos el campo __```CON_HUECOS```__ a categorico numerico de tipo ```INT```.\n",
    "Para este campo se asignaran los siguientes valores para cada caso:\n",
    "\n",
    "   1. SI\n",
    "   2. NO"
   ]
  },
  {
   "cell_type": "code",
   "execution_count": null,
   "id": "deffd2be",
   "metadata": {},
   "outputs": [],
   "source": [
    "dfsiniestros['CON_HUECOS'].replace('SI',1,inplace=True)\n",
    "dfsiniestros['CON_HUECOS'].replace('NO',2,inplace=True)\n",
    "dfsiniestros['CON_HUECOS'] = dfsiniestros['CON_HUECOS'].astype('int64')"
   ]
  },
  {
   "cell_type": "markdown",
   "id": "d6fef673",
   "metadata": {},
   "source": [
    "#### Convertimos el campo __```CON_PEATON```__ a categorico numerico de tipo ```INT```.\n",
    "Para este campo se asignaran los siguientes valores para cada caso:\n",
    "    \n",
    "   1. SI\n",
    "   2. NO"
   ]
  },
  {
   "cell_type": "code",
   "execution_count": null,
   "id": "c58d8582",
   "metadata": {},
   "outputs": [],
   "source": [
    "dfsiniestros['CON_PEATON'].replace('SI',1,inplace=True)\n",
    "dfsiniestros['CON_PEATON'].replace('NO',2,inplace=True)\n",
    "dfsiniestros['CON_PEATON'] = dfsiniestros['CON_PEATON'].astype('int64')"
   ]
  },
  {
   "cell_type": "markdown",
   "id": "49157083",
   "metadata": {},
   "source": [
    "#### Convertimos el campo __```CHOQUECODIGO```__ en  ```INT```."
   ]
  },
  {
   "cell_type": "code",
   "execution_count": null,
   "id": "50a2b624",
   "metadata": {},
   "outputs": [],
   "source": [
    "dfsiniestros['CHOQUECODIGO'] = dfsiniestros['CHOQUECODIGO'].astype('int64')"
   ]
  },
  {
   "cell_type": "markdown",
   "id": "3e7047ad",
   "metadata": {},
   "source": [
    "#### Convertimos el campo __```LOCALIDAD```__ a categorico numerico de tipo ```INT```.\n",
    "Para este campo se asignaran los siguientes valores para cada caso:\n",
    "\n",
    "   1. KENNEDY               \n",
    "   2. USAQUEN               \n",
    "   3. ENGATIVA              \n",
    "   4. SUBA\n",
    "   5. FONTIBON\n",
    "   6. PUENTE ARANDA\n",
    "   7. CHAPINERO\n",
    "   8. BARRIOS UNIDOS\n",
    "   9. TEUSAQUILLO\n",
    "   10. BOSA\n",
    "   11. CIUDAD BOLIVAR\n",
    "   12. LOS MARTIRES\n",
    "   13. SANTA FE\n",
    "   14. TUNJUELITO\n",
    "   15. SAN CRISTOBAL\n",
    "   16. RAFAEL URIBE URIBE\n",
    "   17. ANTONIO NARIÑO\n",
    "   18. USME\n",
    "   19. CANDELARIA\n",
    "   20. SUMAPAZ"
   ]
  },
  {
   "cell_type": "code",
   "execution_count": null,
   "id": "4b311c95",
   "metadata": {},
   "outputs": [],
   "source": [
    "dfsiniestros['LOCALIDAD'].replace('KENNEDY',1,inplace=True)\n",
    "dfsiniestros['LOCALIDAD'].replace('USAQUEN',2,inplace=True)\n",
    "dfsiniestros['LOCALIDAD'].replace('ENGATIVA',3,inplace=True)\n",
    "dfsiniestros['LOCALIDAD'].replace('SUBA',4,inplace=True)\n",
    "dfsiniestros['LOCALIDAD'].replace('FONTIBON',5,inplace=True)\n",
    "dfsiniestros['LOCALIDAD'].replace('PUENTE ARANDA',6,inplace=True)\n",
    "dfsiniestros['LOCALIDAD'].replace('CHAPINERO',7,inplace=True)\n",
    "dfsiniestros['LOCALIDAD'].replace('BARRIOS UNIDOS',8,inplace=True)\n",
    "dfsiniestros['LOCALIDAD'].replace('TEUSAQUILLO',9,inplace=True)\n",
    "dfsiniestros['LOCALIDAD'].replace('BOSA',10,inplace=True)\n",
    "dfsiniestros['LOCALIDAD'].replace('CIUDAD BOLIVAR',11,inplace=True)\n",
    "dfsiniestros['LOCALIDAD'].replace('LOS MARTIRES',12,inplace=True)\n",
    "dfsiniestros['LOCALIDAD'].replace('SANTA FE',13,inplace=True)\n",
    "dfsiniestros['LOCALIDAD'].replace('TUNJUELITO',14,inplace=True)\n",
    "dfsiniestros['LOCALIDAD'].replace('SAN CRISTOBAL',15,inplace=True)\n",
    "dfsiniestros['LOCALIDAD'].replace('RAFAEL URIBE URIBE',16,inplace=True)\n",
    "dfsiniestros['LOCALIDAD'].replace('ANTONIO NARIÑO',17,inplace=True)\n",
    "dfsiniestros['LOCALIDAD'].replace('USME',18,inplace=True)\n",
    "dfsiniestros['LOCALIDAD'].replace('CANDELARIA',19,inplace=True)\n",
    "dfsiniestros['LOCALIDAD'].replace('SUMAPAZ',20,inplace=True)\n",
    "dfsiniestros['LOCALIDAD'] = dfsiniestros['LOCALIDAD'].astype('int64')"
   ]
  },
  {
   "cell_type": "code",
   "execution_count": null,
   "id": "2e25d483",
   "metadata": {},
   "outputs": [],
   "source": [
    "dfsiniestros['DIRECCION'] = dfsiniestros['DIRECCION'].astype('str')"
   ]
  },
  {
   "cell_type": "code",
   "execution_count": null,
   "id": "f1db8276",
   "metadata": {},
   "outputs": [],
   "source": [
    "dfsiniestros.info()"
   ]
  },
  {
   "cell_type": "code",
   "execution_count": null,
   "id": "2fa4aac1",
   "metadata": {},
   "outputs": [],
   "source": [
    "dfsiniestros.describe()"
   ]
  },
  {
   "cell_type": "markdown",
   "id": "27fa6e70",
   "metadata": {},
   "source": [
    "### Analisis de datos por medio de graficos.\n",
    "    En esta sección realizaremos diferentes graficos con el ```dfsiniestros``` para conocer el comportamiento de los datos y realizar cambios en estos."
   ]
  },
  {
   "cell_type": "markdown",
   "id": "9c7163e3",
   "metadata": {},
   "source": [
    "### Analisis de correlación\n",
    "#### Heatmap de correlación:\n",
    "     se realiza un heatmap para analizar la correlación entre los campos."
   ]
  },
  {
   "cell_type": "code",
   "execution_count": null,
   "id": "f3169ee6",
   "metadata": {},
   "outputs": [],
   "source": [
    "#Obtenemos la matriz de correlacion del dataframe\n",
    "correlacion = dfsiniestros.drop('DIRECCION', axis=1).corr()\n",
    "\n",
    "# Genera una mascara triangular superior\n",
    "mask = np.zeros_like(correlacion, dtype = bool)\n",
    "mask[np.triu_indices_from(mask)] = True\n",
    "\n",
    "#Configuramos la figura de mathplotlib\n",
    "f, ax = plt.subplots(figsize=(20,10))\n",
    "\n",
    "#Creamos el heatmap a partir de la correlacion onbtenida\n",
    "sns.heatmap(correlacion, mask=mask,square=True, linewidths = .5, ax=ax, cmap='YlOrBr') # cmap='BuPu'\n",
    "#plt.savefig('prueba')\n",
    "plt.show()"
   ]
  },
  {
   "cell_type": "markdown",
   "id": "0943d29d",
   "metadata": {},
   "source": [
    "### Analisis de Edad de personas involucradas en siniestros vial"
   ]
  },
  {
   "cell_type": "markdown",
   "id": "54ff1d11",
   "metadata": {},
   "source": [
    "##### Siniestros por edad \n",
    "     analisis de los siniestros que se registran por edad."
   ]
  },
  {
   "cell_type": "code",
   "execution_count": null,
   "id": "77c92485",
   "metadata": {},
   "outputs": [],
   "source": [
    "sinrango = dfsiniestros.groupby('EDAD_PROCESADA')['EDAD_PROCESADA'].count().reset_index(name='CANTIDAD')"
   ]
  },
  {
   "cell_type": "code",
   "execution_count": null,
   "id": "418748f9",
   "metadata": {},
   "outputs": [],
   "source": [
    "plt.figure(figsize=(15,4))\n",
    "plt.plot(sinrango['EDAD_PROCESADA'],sinrango['CANTIDAD'], 'bo')\n",
    "plt.xlabel('Edades')\n",
    "plt.ylabel('Cantidad Personas')\n",
    "plt.title('Cantidad de personas por edad')\n",
    "plt.grid()\n",
    "plt.show()\n",
    "plt.close()"
   ]
  },
  {
   "cell_type": "markdown",
   "id": "73419f1d",
   "metadata": {},
   "source": [
    "##### Eliminacion de edades no validas\n",
    "    Devido al primer resultado del analisis usando la grafica se presentaron rangos de edad que no pertenercen al grupo\n",
    "    edades permitidas para optener la licencia de conducion se modifico el rango de edad permitido bajo los criterios que de\n",
    "    edad para conducir.\n",
    "    \n",
    "    - como valor minimo 15 debido a que es la edad minima para obtener la licencia de conduccion.\n",
    "    - como valor maximo 70 debido que despues de esta edad se solicita renova la licencia de conduccion anualmente. "
   ]
  },
  {
   "cell_type": "code",
   "execution_count": null,
   "id": "4415714f",
   "metadata": {},
   "outputs": [],
   "source": [
    "dfsiniestros = dfsiniestros[(dfsiniestros['EDAD_PROCESADA'] >= 15) & (dfsiniestros['EDAD_PROCESADA'] <= 70)]"
   ]
  },
  {
   "cell_type": "code",
   "execution_count": null,
   "id": "87d88a9e",
   "metadata": {},
   "outputs": [],
   "source": [
    "gpedad1 = dfsiniestros.groupby('EDAD_PROCESADA')['EDAD_PROCESADA'].count().reset_index(name='CANTIDAD')"
   ]
  },
  {
   "cell_type": "code",
   "execution_count": null,
   "id": "56bf6f28",
   "metadata": {},
   "outputs": [],
   "source": [
    "plt.figure(figsize=(15,4))\n",
    "plt.plot(gpedad1['EDAD_PROCESADA'],gpedad1['CANTIDAD'], 'ro')\n",
    "\"\"\"lstcount = gpedad1['CANTIDAD'].to_numpy()\n",
    "lstcount1 = gpedad1['EDAD_PROCESADA'].to_numpy()\n",
    "for i in lstcount1:\n",
    "    plt.annotate(lstcount[i], (i+0.10, lstcount[i]), color='r')\"\"\"\n",
    "plt.xlabel('Edades')\n",
    "plt.ylabel('Cantidad Personas')\n",
    "plt.title('Cantidad de Personas por Edad.')\n",
    "plt.grid()\n",
    "plt.show()\n",
    "plt.close()"
   ]
  },
  {
   "cell_type": "markdown",
   "id": "4e87a4d8",
   "metadata": {},
   "source": [
    "### Accidente por mes del año"
   ]
  },
  {
   "cell_type": "code",
   "execution_count": null,
   "id": "14264bf6",
   "metadata": {},
   "outputs": [],
   "source": [
    "#Analisi de personas involucradas en un isniestro por mes en cada año\n",
    "gpmes17 = dfsiniestros.groupby([dfsiniestros[dfsiniestros['FECHA'].dt.year == 2017]['FECHA'].dt.month])['EDAD_PROCESADA'].count().reset_index(name='CANTIDAD')\n",
    "gpmes18 = dfsiniestros.groupby([dfsiniestros[dfsiniestros['FECHA'].dt.year == 2018]['FECHA'].dt.month])['EDAD_PROCESADA'].count().reset_index(name='CANTIDAD')\n",
    "gpmes19 = dfsiniestros.groupby([dfsiniestros[dfsiniestros['FECHA'].dt.year == 2019]['FECHA'].dt.month])['EDAD_PROCESADA'].count().reset_index(name='CANTIDAD')\n"
   ]
  },
  {
   "cell_type": "code",
   "execution_count": null,
   "id": "cabc04f0",
   "metadata": {},
   "outputs": [],
   "source": [
    "plt.figure(figsize=(15,7))\n",
    "mes = np.array(['ENERO','FEBRERO','MARZO','ABRIL','MAYO','JUNIO','JULIO','AGOSTO','SEPTIEMBRE','OCTUBRE','NOVIEMBRE','DICIEMBRE'])\n",
    "plt.plot(mes, gpmes17['CANTIDAD'], 'ro-')\n",
    "plt.plot(mes, gpmes18['CANTIDAD'], 'go-')\n",
    "plt.plot(mes, gpmes19['CANTIDAD'], 'bo-')\n",
    "plt.legend(['Año: 2017','Año: 2018','Año: 2019'])\n",
    "plt.xlabel('Meses del año.')\n",
    "plt.ylabel('Cantidad de personas.')\n",
    "plt.title('Cantidad de personas involucradas en siniestros por mes en cada año.')\n",
    "plt.grid()\n",
    "plt.show()\n",
    "plt.close()"
   ]
  },
  {
   "cell_type": "markdown",
   "id": "949794ca",
   "metadata": {},
   "source": [
    "#### Grafico 2:"
   ]
  },
  {
   "cell_type": "code",
   "execution_count": null,
   "id": "1be573d4",
   "metadata": {},
   "outputs": [],
   "source": [
    "#Cantidad de siniestros por dia de semana en cada año.\n",
    "#gpedad = dfsiniestros.groupby('DIA_PROCESADO')['DIA_PROCESADO'].count().reset_index(name='CANTIDAD')\n",
    "gp17dia = dfsiniestros.groupby([dfsiniestros[dfsiniestros['FECHA'].dt.year == 2017]['FECHA'].dt.year, 'DIA_PROCESADO'])['DIA_PROCESADO'].count().reset_index(name='CANTIDAD')\n",
    "gp18dia = dfsiniestros.groupby([dfsiniestros[dfsiniestros['FECHA'].dt.year == 2018]['FECHA'].dt.year, 'DIA_PROCESADO'])['DIA_PROCESADO'].count().reset_index(name='CANTIDAD')\n",
    "gp19dia = dfsiniestros.groupby([dfsiniestros[dfsiniestros['FECHA'].dt.year == 2019]['FECHA'].dt.year, 'DIA_PROCESADO'])['DIA_PROCESADO'].count().reset_index(name='CANTIDAD')"
   ]
  },
  {
   "cell_type": "code",
   "execution_count": null,
   "id": "21dcc8ed",
   "metadata": {},
   "outputs": [],
   "source": [
    "plt.figure(figsize=(15,7))\n",
    "dias = np.array(['LUNES','MARTES','MIERCOLES','JUEVES','VIERNES','SÁBADO','DOMINGO'])\n",
    "plt.plot(dias, gp17dia['CANTIDAD'], 'r.-')\n",
    "plt.plot(dias, gp18dia['CANTIDAD'], 'g.-')\n",
    "plt.plot(dias, gp19dia['CANTIDAD'], 'b.-')\n",
    "lstcant17 = gp17dia['CANTIDAD'].to_numpy()\n",
    "lstcant18 = gp18dia['CANTIDAD'].to_numpy()\n",
    "lstcant19 = gp19dia['CANTIDAD'].to_numpy()\n",
    "for i in range(len(dias)):\n",
    "    plt.annotate(lstcant17[i], (i+0.10, lstcant17[i]), color='r')\n",
    "    plt.annotate(lstcant18[i], (i-0.25, 200+lstcant18[i]), color='g')\n",
    "    plt.annotate(lstcant19[i], (i-0.20, lstcant19[i]-100), color='b')\n",
    "plt.xlabel('Dias de la Semana')\n",
    "plt.ylabel('Cantidad de Siniestros')\n",
    "plt.title('Cantidad de Siniestros por Dia de la Semana por Años.')\n",
    "plt.legend([2017,2018,2019])\n",
    "plt.grid()\n",
    "plt.show()\n",
    "plt.close()"
   ]
  },
  {
   "cell_type": "code",
   "execution_count": null,
   "id": "d023803e",
   "metadata": {},
   "outputs": [],
   "source": [
    "g17ploc = dfsiniestros.groupby([dfsiniestros[dfsiniestros['FECHA'].dt.year == 2017]['FECHA'].dt.year,'LOCALIDAD'])['LOCALIDAD'].count().reset_index(name='CANTIDAD')\n",
    "g18ploc = dfsiniestros.groupby([dfsiniestros[dfsiniestros['FECHA'].dt.year == 2018]['FECHA'].dt.year,'LOCALIDAD'])['LOCALIDAD'].count().reset_index(name='CANTIDAD')\n",
    "g19ploc = dfsiniestros.groupby([dfsiniestros[dfsiniestros['FECHA'].dt.year == 2019]['FECHA'].dt.year,'LOCALIDAD'])['LOCALIDAD'].count().reset_index(name='CANTIDAD')\n",
    "localidades = np.array(['KENNEDY','USAQUEN','ENGATIVA','SUBA','FONTIBON','PUENTE ARANDA','CHAPINERO','BARRIOS UNIDOS','TEUSAQUILLO','BOSA','CIUDAD BOLIVAR','LOS MARTIRES','SANTA FE','TUNJUELITO','SAN CRISTOBAL','RAFAEL URIBE URIBE','ANTONIO NARIÑO','USME','CANDELARIA','SUMAPAZ'])"
   ]
  },
  {
   "cell_type": "code",
   "execution_count": null,
   "id": "124315bd",
   "metadata": {
    "scrolled": true
   },
   "outputs": [],
   "source": [
    "plt.figure(figsize=(15,4))\n",
    "plt.plot(localidades,g17ploc['CANTIDAD'], 'r.-')\n",
    "plt.plot(localidades,g18ploc['CANTIDAD'], 'g.-')\n",
    "plt.plot(localidades,g19ploc['CANTIDAD'], 'b.-')\n",
    "plt.xticks(rotation=35)\n",
    "plt.legend([2017,2018,2019])\n",
    "plt.xlabel('Localidades Bogotá')\n",
    "plt.ylabel('Cantidad Siniestros')\n",
    "plt.title('Cantidad de Siniestros por Localdidad por Años.')\n",
    "plt.grid()\n",
    "plt.show()\n",
    "plt.close()"
   ]
  },
  {
   "cell_type": "markdown",
   "id": "61000d26",
   "metadata": {},
   "source": [
    "### Analisis de clase de vehiculo"
   ]
  },
  {
   "cell_type": "code",
   "execution_count": null,
   "id": "fed3e98d",
   "metadata": {},
   "outputs": [],
   "source": [
    "gpmescar17 = dfsiniestros.groupby([dfsiniestros[dfsiniestros['FECHA'].dt.year == 2017]['FECHA'].dt.month,'CLASEVEHICULO' ])['CLASEVEHICULO'].count().reset_index(name='CANTIDAD')\n",
    "gpmescar18 = dfsiniestros.groupby([dfsiniestros[dfsiniestros['FECHA'].dt.year == 2018]['FECHA'].dt.month,'CLASEVEHICULO' ])['CLASEVEHICULO'].count().reset_index(name='CANTIDAD')\n",
    "gpmescar19 = dfsiniestros.groupby([dfsiniestros[dfsiniestros['FECHA'].dt.year == 2019]['FECHA'].dt.month,'CLASEVEHICULO' ])['CLASEVEHICULO'].count().reset_index(name='CANTIDAD')"
   ]
  },
  {
   "cell_type": "code",
   "execution_count": null,
   "id": "a6f22840",
   "metadata": {},
   "outputs": [],
   "source": [
    "gpmescar17['CLASEVEHICULO'].count"
   ]
  },
  {
   "cell_type": "markdown",
   "id": "0764234f",
   "metadata": {},
   "source": [
    "### Analisis uso de elementos de seguridad\n",
    "#### Uso de chaleco"
   ]
  },
  {
   "cell_type": "code",
   "execution_count": null,
   "id": "1cbd2ab1",
   "metadata": {},
   "outputs": [],
   "source": [
    "# Cantidad de Personas por uso de casco\n",
    "gpedadlca = dfsiniestros.groupby(['LLEVACASCO','EDAD_PROCESADA'])['EDAD_PROCESADA'].count().reset_index(name='CANTIDAD')\n",
    "gpelca0 = gpedadlca[gpedadlca['LLEVACASCO']== 0]\n",
    "gpelca1 = gpedadlca[gpedadlca['LLEVACASCO']== 1]\n",
    "gpelca2 = gpedadlca[gpedadlca['LLEVACASCO']== 2]"
   ]
  },
  {
   "cell_type": "code",
   "execution_count": null,
   "id": "87415ffd",
   "metadata": {},
   "outputs": [],
   "source": [
    "plt.figure(figsize=(15,4))\n",
    "plt.plot(gpelca1['EDAD_PROCESADA'],gpelca1['CANTIDAD'], 'ro')\n",
    "plt.plot(gpelca2['EDAD_PROCESADA'],gpelca2['CANTIDAD'], 'bo', alpha=0.7)\n",
    "#plt.plot(gpedadcha0['EDAD_PROCESADA'],gpedadcha0['CANTIDAD'], 'go', alpha=0.7)\n",
    "#plt.xticks(rotation=35)\n",
    "plt.legend(['USA CINTURÓN','NO USA CINTURÓN'])\n",
    "plt.xlabel('Edades')\n",
    "plt.ylabel('Cantidad Personas')\n",
    "plt.title('Cantidad de Personas por Uso Cinturón.')\n",
    "plt.grid()\n",
    "plt.show()\n",
    "plt.close()"
   ]
  },
  {
   "cell_type": "markdown",
   "id": "90402190",
   "metadata": {},
   "source": [
    "#### Uso de chaleco"
   ]
  },
  {
   "cell_type": "code",
   "execution_count": null,
   "id": "42e7c78d",
   "metadata": {},
   "outputs": [],
   "source": [
    "# Cantidad de Personas por uso de chaleco\n",
    "gpedad = dfsiniestros.groupby(['LLEVACHALECO','EDAD_PROCESADA'])['EDAD_PROCESADA'].count().reset_index(name='CANTIDAD')\n",
    "gpedadcha0 = gpedad[gpedad['LLEVACHALECO']== 0]\n",
    "gpedadcha1 = gpedad[gpedad['LLEVACHALECO']== 1]\n",
    "gpedadcha2 = gpedad[gpedad['LLEVACHALECO']== 2]"
   ]
  },
  {
   "cell_type": "code",
   "execution_count": null,
   "id": "1504f738",
   "metadata": {
    "scrolled": true
   },
   "outputs": [],
   "source": [
    "plt.figure(figsize=(15,4))\n",
    "plt.plot(gpedadcha1['EDAD_PROCESADA'],gpedadcha1['CANTIDAD'], 'ro')\n",
    "plt.plot(gpedadcha2['EDAD_PROCESADA'],gpedadcha2['CANTIDAD'], 'bo', alpha=0.7)\n",
    "#plt.plot(gpedadcha0['EDAD_PROCESADA'],gpedadcha0['CANTIDAD'], 'go', alpha=0.7)\n",
    "#plt.xticks(rotation=35)\n",
    "plt.legend(['USA CHALECO','NO USA CHALECO'])\n",
    "plt.xlabel('Edades')\n",
    "plt.ylabel('Cantidad Personas')\n",
    "plt.title('Cantidad de Personas por Uso Chaleco.')\n",
    "plt.grid()\n",
    "plt.show()\n",
    "plt.close()"
   ]
  },
  {
   "cell_type": "markdown",
   "id": "8c622c1d",
   "metadata": {},
   "source": [
    "#### Uso cinturón"
   ]
  },
  {
   "cell_type": "code",
   "execution_count": null,
   "id": "2adc7797",
   "metadata": {},
   "outputs": [],
   "source": [
    "gpedad = dfsiniestros.groupby(['LLEVACINTURON','EDAD_PROCESADA'])['EDAD_PROCESADA'].count().reset_index(name='CANTIDAD')\n",
    "gpelc0 = gpedad[gpedad['LLEVACINTURON']== 0]\n",
    "gpelc1 = gpedad[gpedad['LLEVACINTURON']== 1]\n",
    "gpelc2 = gpedad[gpedad['LLEVACINTURON']== 2]"
   ]
  },
  {
   "cell_type": "code",
   "execution_count": null,
   "id": "925e6723",
   "metadata": {},
   "outputs": [],
   "source": [
    "plt.figure(figsize=(15,4))\n",
    "plt.plot(gpelc1['EDAD_PROCESADA'],gpelc1['CANTIDAD'], 'ro')\n",
    "plt.plot(gpelc2['EDAD_PROCESADA'],gpelc2['CANTIDAD'], 'bo', alpha=0.7)\n",
    "#plt.plot(gpedadcha0['EDAD_PROCESADA'],gpedadcha0['CANTIDAD'], 'go', alpha=0.7)\n",
    "#plt.xticks(rotation=35)\n",
    "plt.legend(['USA CINTURÓN','NO USA CINTURÓN'])\n",
    "plt.xlabel('Edades')\n",
    "plt.ylabel('Cantidad Personas')\n",
    "plt.title('Cantidad de Personas por Uso Cinturón.')\n",
    "plt.grid()\n",
    "plt.show()\n",
    "plt.close()"
   ]
  },
  {
   "cell_type": "markdown",
   "id": "49f5f1f8",
   "metadata": {},
   "source": [
    "### Analisis de gravedad del siniestro por gravedad de personas involucradas.\n",
    "#### GRAVEDADCOD\n",
    "1. CON MUERTOS\n",
    "2. CON HERIDOS\n",
    "3. SOLO DAÑOS\n",
    "\n",
    "#### GRAVEDAD_PROCESADA\n",
    "1. ILESA\n",
    "2. HERIDO VALORADO\n",
    "3. HERIDO HOSPITALIZADO\n",
    "4. MUERTA"
   ]
  },
  {
   "cell_type": "code",
   "execution_count": null,
   "id": "f4177247",
   "metadata": {},
   "outputs": [],
   "source": [
    "# Cantidad de siniestros por gravedades\n",
    "gpgrav = dfsiniestros.groupby(['GRAVEDAD_PROCESADA','GRAVEDADCOD'])['EDAD_PROCESADA'].count().reset_index(name='CANTIDAD')\n",
    "gpgrav"
   ]
  },
  {
   "cell_type": "markdown",
   "id": "bc9284c8",
   "metadata": {},
   "source": [
    "- 1  1 = Muertos  ```4```\n",
    "- 1  2 = Heridos Valorado ```2```\n",
    "- 1  3 = Ilesos  ```1```\n",
    "- 2  1 = Heridos Hospitalizado ```3```\n",
    "- 2  2 = Heridos Valorado  ```2```\n",
    "- 2  3 = Ilesos  ```1```\n",
    "- 3  1 = Heridos Hospitalizado  ```3```\n",
    "- 3  2 = Heridos Hospitalizado  ```3```\n",
    "- 4  1 = Muertos  ```4```"
   ]
  },
  {
   "cell_type": "code",
   "execution_count": null,
   "id": "b97ae3b1",
   "metadata": {},
   "outputs": [],
   "source": [
    "# Creación de campo gravedad con datos genericos\n",
    "dfsiniestros['GRAVEDAD'] = dfsiniestros['GRAVEDADCOD']"
   ]
  },
  {
   "cell_type": "code",
   "execution_count": null,
   "id": "affe38bb",
   "metadata": {},
   "outputs": [],
   "source": [
    "# Muertos 1 1\n",
    "dfsiniestros.loc[( (dfsiniestros['GRAVEDAD_PROCESADA'] == 1) & (dfsiniestros['GRAVEDADCOD'] == 1) ),'GRAVEDAD'] = 4 \n",
    "# Muertos 1 2\n",
    "dfsiniestros.loc[( (dfsiniestros['GRAVEDAD_PROCESADA'] == 1) & (dfsiniestros['GRAVEDADCOD'] == 2) ),'GRAVEDAD'] = 2\n",
    "# Muertos 1 3\n",
    "dfsiniestros.loc[( (dfsiniestros['GRAVEDAD_PROCESADA'] == 1) & (dfsiniestros['GRAVEDADCOD'] == 3) ),'GRAVEDAD'] = 1 \n",
    "# Muertos 2 1\n",
    "dfsiniestros.loc[( (dfsiniestros['GRAVEDAD_PROCESADA'] == 2) & (dfsiniestros['GRAVEDADCOD'] == 1) ),'GRAVEDAD'] = 3 \n",
    "# Muertos 2 2\n",
    "dfsiniestros.loc[( (dfsiniestros['GRAVEDAD_PROCESADA'] == 2) & (dfsiniestros['GRAVEDADCOD'] == 2) ),'GRAVEDAD'] = 2 \n",
    "# Muertos 2 3\n",
    "dfsiniestros.loc[( (dfsiniestros['GRAVEDAD_PROCESADA'] == 2) & (dfsiniestros['GRAVEDADCOD'] == 3) ),'GRAVEDAD'] = 1 \n",
    "# Muertos 3 1\n",
    "dfsiniestros.loc[( (dfsiniestros['GRAVEDAD_PROCESADA'] == 3) & (dfsiniestros['GRAVEDADCOD'] == 1) ),'GRAVEDAD'] = 3 \n",
    "# Muertos 3 2\n",
    "dfsiniestros.loc[( (dfsiniestros['GRAVEDAD_PROCESADA'] == 3) & (dfsiniestros['GRAVEDADCOD'] == 2) ),'GRAVEDAD'] = 3 \n",
    "# Muertos 4 1\n",
    "dfsiniestros.loc[( (dfsiniestros['GRAVEDAD_PROCESADA'] == 4) & (dfsiniestros['GRAVEDADCOD'] == 1) ),'GRAVEDAD'] = 4 "
   ]
  },
  {
   "cell_type": "code",
   "execution_count": null,
   "id": "a383c21b",
   "metadata": {},
   "outputs": [],
   "source": [
    "# Cantidad de siniestros agrupados por tipo de gravedad de accidentes.\n",
    "gpgrav = dfsiniestros.groupby(['GRAVEDAD'])['GRAVEDAD'].count().reset_index(name='CANTIDAD')"
   ]
  },
  {
   "cell_type": "code",
   "execution_count": null,
   "id": "a29d381f",
   "metadata": {
    "scrolled": false
   },
   "outputs": [],
   "source": [
    "# Mostramos la cantidad de siniestros por gravedad.\n",
    "plt.figure(figsize=(15,4))\n",
    "lstgrave = np.array(['ILESOS','HERIDO VALORADO','HERIDO HOSPITALIZADO','MUERTOS'])\n",
    "plt.bar(lstgrave, gpgrav['CANTIDAD'], width=0.9, color='#FF616D')\n",
    "plt.title(\"Cantidad de dfsiniestros por gravedad.\")\n",
    "plt.ylabel(\"Cantidad Siniestros.\")\n",
    "plt.xlabel(\"Gravedad Siniestro.\")\n",
    "plt.xticks(rotation=20)\n",
    "lstcant = gpgrav['CANTIDAD'].to_numpy()\n",
    "\n",
    "for i in range(len(lstcant)):\n",
    "    plt.annotate(lstcant[i], (i-0.10, 1000+lstcant[i]))\n",
    "\n",
    "plt.show()\n",
    "plt.close()"
   ]
  },
  {
   "cell_type": "code",
   "execution_count": null,
   "id": "bb7cfb26",
   "metadata": {},
   "outputs": [],
   "source": [
    "# Cantidad de siniestros agrupados por tipo de gravedad de accidentes.\n",
    "gpgran = dfsiniestros.groupby([dfsiniestros['FECHA'].dt.year,'GRAVEDAD'])['GRAVEDAD'].count().reset_index(name='CANTIDAD')\n",
    "#gpgran"
   ]
  },
  {
   "cell_type": "code",
   "execution_count": null,
   "id": "a0a5b96b",
   "metadata": {},
   "outputs": [],
   "source": [
    "gpgra17 = gpgran[gpgran['FECHA'] == 2017]\n",
    "gpgra18 = gpgran[gpgran['FECHA'] == 2018]\n",
    "gpgra19 = gpgran[gpgran['FECHA'] == 2019]\n",
    "gpgra19"
   ]
  },
  {
   "cell_type": "code",
   "execution_count": null,
   "id": "4ef9d45d",
   "metadata": {},
   "outputs": [],
   "source": [
    "plt.figure(figsize=(15,6))\n",
    "lstgravedad = np.array(['ILESOS','HERIDO VALORADO','HERIDO HOSPITA.','MUERTOS'])\n",
    "barWidth = 0.25\n",
    "r1 = np.arange(len(lstgravedad))\n",
    "r2 = [x + barWidth for x in r1]\n",
    "r3 = [x + barWidth for x in r2]\n",
    "plt.bar(r1,gpgra17['CANTIDAD'], width=barWidth, color='red')\n",
    "plt.bar(r2,gpgra18['CANTIDAD'], width=barWidth,color='green')\n",
    "plt.bar(r3,gpgra19['CANTIDAD'], width=barWidth, color='blue')\n",
    "plt.legend(['Año 2017','Año 2018', 'Año 2019'])\n",
    "# Add xticks on the middle of the group bars\n",
    "plt.xlabel('group', fontweight='bold')\n",
    "plt.xticks([r + barWidth for r in range(len(lstgravedad))], ['ILESOS','HERIDO VALORADO','HERIDO HOSPITALIZADO','MUERTOS'], rotation=20)\n",
    "lstcant = gpgra17['CANTIDAD'].to_numpy()\n",
    "for i in range(len(lstcant)):\n",
    "    plt.annotate(lstcant[i], (i-0.10, 500+lstcant[i]))\n",
    "    \n",
    "lstcant18 = gpgra18['CANTIDAD'].to_numpy()    \n",
    "for i in range(len(lstcant18)):\n",
    "    plt.annotate(lstcant18[i], (i+0.18, 500+lstcant18[i]))\n",
    "    \n",
    "lstcant19 = gpgra19['CANTIDAD'].to_numpy()\n",
    "for i in range(len(lstcant19)):\n",
    "    plt.annotate(lstcant19[i], (i+0.45, 500+lstcant19[i]))\n",
    "plt.xlabel('Gravedades')    \n",
    "plt.ylabel('Cantidad Siniestros')\n",
    "plt.title('Cantidad de Siniestros por gravedades.')\n",
    "plt.show()\n",
    "plt.close()"
   ]
  },
  {
   "cell_type": "code",
   "execution_count": null,
   "id": "9e1f2707",
   "metadata": {},
   "outputs": [],
   "source": [
    "gracogpcoun = dfsiniestros.groupby(['GRAVEDAD_PROCESADA']).size().reset_index(name='CANTIDAD')\n",
    "gracogpcoun = gracogpcoun.sort_values(by=['CANTIDAD'], ascending=True)\n",
    "#gracogpcoun"
   ]
  },
  {
   "cell_type": "code",
   "execution_count": null,
   "id": "31a9b608",
   "metadata": {},
   "outputs": [],
   "source": [
    "plt.figure()\n",
    "lstgrave = np.array(['MUERTOS','HERIDO HOSPITA.','HERIDO VALORADO','ILESOS'])\n",
    "plt.bar(lstgrave, gracogpcoun['CANTIDAD'], width=0.7, color='#053742')\n",
    "plt.title(\"Cantidad de dfsiniestros por gravedad.\")\n",
    "plt.ylabel(\"Gravedad dfsiniestros.\")\n",
    "plt.xlabel(\"Cantidad Siniestro.\")\n",
    "plt.xticks(rotation=90)\n",
    "lstcant = gracogpcoun['CANTIDAD'].to_numpy()\n",
    "\n",
    "for i in range(len(lstcant)):\n",
    "    plt.annotate(lstcant[i], (i-0.15, 2000+lstcant[i]))\n",
    "\n",
    "plt.show()\n",
    "plt.close()"
   ]
  },
  {
   "cell_type": "markdown",
   "id": "ba7523ac",
   "metadata": {},
   "source": [
    "### Campo de pruebas "
   ]
  },
  {
   "cell_type": "code",
   "execution_count": null,
   "id": "42b21477",
   "metadata": {},
   "outputs": [],
   "source": [
    "dfsiniestros.columns"
   ]
  },
  {
   "cell_type": "code",
   "execution_count": null,
   "id": "95a5bd4b",
   "metadata": {},
   "outputs": [],
   "source": [
    "dfsiniestros.drop('DIRECCION', axis=1).to_csv(URL_PREPARED_DATA+'/siniestros-train.csv')"
   ]
  },
  {
   "cell_type": "code",
   "execution_count": null,
   "id": "273f5848",
   "metadata": {},
   "outputs": [],
   "source": [
    "df['Date'] = df['Date'].astype('datetime64[ns]')"
   ]
  },
  {
   "cell_type": "code",
   "execution_count": null,
   "id": "b7d4be11",
   "metadata": {},
   "outputs": [],
   "source": [
    "dfpruebba = dfsiniestros.copy()"
   ]
  },
  {
   "cell_type": "code",
   "execution_count": null,
   "id": "257f02a5",
   "metadata": {},
   "outputs": [],
   "source": [
    "for column in dfsiniestros.columns:\n",
    "    print(column)\n",
    "    print(dfsiniestros[column].value_counts(dropna=False))"
   ]
  },
  {
   "cell_type": "code",
   "execution_count": null,
   "id": "1d3bb660",
   "metadata": {},
   "outputs": [],
   "source": [
    "dfsiniestros['EDAD_PROCESADA'] = dfsiniestros['EDAD_PROCESADA'].replace('SIN INFORMACION',round(eda.mean(),0))"
   ]
  },
  {
   "cell_type": "code",
   "execution_count": null,
   "id": "a725f88e",
   "metadata": {},
   "outputs": [],
   "source": [
    "dfsiniestros['EDAD_PROCESADA'].map(type).value_counts()"
   ]
  },
  {
   "cell_type": "code",
   "execution_count": null,
   "id": "c064289e",
   "metadata": {},
   "outputs": [],
   "source": [
    "round(eda.mode().get(0),0)"
   ]
  },
  {
   "cell_type": "code",
   "execution_count": null,
   "id": "a09a6fc3",
   "metadata": {},
   "outputs": [],
   "source": [
    "dfsiniestros['EDAD_PROCESADA'].fillna(round(eda.mode().get(0),0), inplace=True)"
   ]
  },
  {
   "cell_type": "code",
   "execution_count": null,
   "id": "fd029b1a",
   "metadata": {},
   "outputs": [],
   "source": [
    "for column in dfsiniestros.columns:\n",
    "    print(f'Columna {column} tienen {dfsiniestros[column].isna().sum()} registros en nan')"
   ]
  },
  {
   "cell_type": "code",
   "execution_count": null,
   "id": "4d997be3",
   "metadata": {},
   "outputs": [],
   "source": [
    "dfsiniestros['EDAD_PROCESADA'] = dfsiniestros['EDAD_PROCESADA'].astype(float)"
   ]
  },
  {
   "cell_type": "code",
   "execution_count": null,
   "id": "5caf3983",
   "metadata": {},
   "outputs": [],
   "source": [
    "dfsiniestros['EDAD_PROCESADA'].map(type).value_counts()"
   ]
  },
  {
   "cell_type": "code",
   "execution_count": null,
   "id": "a59bd40b",
   "metadata": {},
   "outputs": [],
   "source": [
    "graedadagrup = dfsiniestros.groupby(['EDAD_PROCESADA']).size().reset_index(name='CANTIDAD')"
   ]
  },
  {
   "cell_type": "markdown",
   "id": "a907ff41",
   "metadata": {},
   "source": [
    "### Cantidad de dfsiniestros por gravedad."
   ]
  },
  {
   "cell_type": "code",
   "execution_count": null,
   "id": "6e177427",
   "metadata": {},
   "outputs": [],
   "source": [
    "gragpcoun = dfsiniestros.groupby(['GRAVEDADCOD']).size().reset_index(name='CANTIDAD')\n",
    "gragpcoun"
   ]
  },
  {
   "cell_type": "code",
   "execution_count": null,
   "id": "9969b13d",
   "metadata": {},
   "outputs": [],
   "source": [
    "lstgrave = ['Con Muertos','Con Heridos','Solo Daños']"
   ]
  },
  {
   "cell_type": "code",
   "execution_count": null,
   "id": "04d0a00f",
   "metadata": {},
   "outputs": [],
   "source": [
    "plt.figure()\n",
    "plt.bar(lstgrave, gragpcoun['CANTIDAD'], width=0.5, color='#FF616D')\n",
    "plt.title(\"Cantidad de dfsiniestros por gravedad.\")\n",
    "plt.ylabel(\"Cantidad dfsiniestros.\")\n",
    "plt.xlabel(\"Gravedad Siniestro.\")\n",
    "plt.xticks(rotation=90)\n",
    "lstcant = gragpcoun['CANTIDAD'].to_numpy()\n",
    "\n",
    "for i in range(len(lstcant)):\n",
    "    plt.annotate(lstcant[i], (i-0.15, 2000+lstcant[i]))\n",
    "\n",
    "plt.show()\n",
    "plt.close()"
   ]
  },
  {
   "cell_type": "code",
   "execution_count": null,
   "id": "91814ec0",
   "metadata": {},
   "outputs": [],
   "source": [
    "dfsiniestros[['GRAVEDAD_PROCESADA','GRAVEDADCOD']].value_counts()"
   ]
  },
  {
   "cell_type": "code",
   "execution_count": null,
   "id": "5aee82e6",
   "metadata": {},
   "outputs": [],
   "source": [
    "dfsiniestros[['EDAD_PROCESADA','GRAVEDADCOD']].value_counts()"
   ]
  },
  {
   "cell_type": "code",
   "execution_count": null,
   "id": "6d2800cc",
   "metadata": {},
   "outputs": [],
   "source": [
    "graedadagrup = dfsiniestros.groupby(['EDAD_PROCESADA','GRAVEDADCOD']).size().reset_index(name='CANTIDAD')\n",
    "graedadagrup"
   ]
  },
  {
   "cell_type": "code",
   "execution_count": null,
   "id": "be86051f",
   "metadata": {},
   "outputs": [],
   "source": [
    "plt.figure()\n",
    "plt.plot(graedadagrup['EDAD_PROCESADA'], graedadagrup['CANTIDAD'],'g-')\n",
    "plt.xlabel('Edad Procesada')\n",
    "plt.ylabel('Cantidad')\n",
    "plt.savefig('pruebaas')\n",
    "plt.show()\n",
    "plt.close()"
   ]
  },
  {
   "cell_type": "code",
   "execution_count": null,
   "id": "e1cb0ccd",
   "metadata": {},
   "outputs": [],
   "source": [
    "dfsiniestros.info()"
   ]
  },
  {
   "cell_type": "code",
   "execution_count": null,
   "id": "cea3d6d2",
   "metadata": {},
   "outputs": [],
   "source": []
  }
 ],
 "metadata": {
  "kernelspec": {
   "display_name": "Python 3",
   "language": "python",
   "name": "python3"
  },
  "language_info": {
   "codemirror_mode": {
    "name": "ipython",
    "version": 3
   },
   "file_extension": ".py",
   "mimetype": "text/x-python",
   "name": "python",
   "nbconvert_exporter": "python",
   "pygments_lexer": "ipython3",
   "version": "3.8.10"
  }
 },
 "nbformat": 4,
 "nbformat_minor": 5
}
