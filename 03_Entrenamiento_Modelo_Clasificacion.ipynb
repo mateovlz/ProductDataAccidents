{
 "cells": [
  {
   "cell_type": "code",
   "execution_count": null,
   "id": "d564ee5e",
   "metadata": {},
   "outputs": [],
   "source": [
    "import numpy as np\n",
    "import pandas as pd\n",
    "import matplotlib.pyplot as plt\n",
    "import seaborn as sns\n",
    "from sklearn.svm import SVC as SVC\n",
    "from sklearn.ensemble import RandomForestClassifier as RM\n",
    "from sklearn.model_selection import train_test_split, cross_val_score\n",
    "from sklearn.metrics import confusion_matrix, classification_report\n",
    "\n",
    "%matplotlib inline"
   ]
  },
  {
   "cell_type": "code",
   "execution_count": null,
   "id": "cbde17b2",
   "metadata": {},
   "outputs": [],
   "source": [
    "URL_PREPARED_DATA = 'Prepared_Data/'\n",
    "FILE_NAME = 'siniestros-train.csv'"
   ]
  },
  {
   "cell_type": "code",
   "execution_count": null,
   "id": "571d282c",
   "metadata": {},
   "outputs": [],
   "source": [
    "dfsiniestros = pd.read_csv(URL_PREPARED_DATA+FILE_NAME)"
   ]
  },
  {
   "cell_type": "code",
   "execution_count": null,
   "id": "fc417d95",
   "metadata": {},
   "outputs": [],
   "source": [
    "dfsiniestros.columns"
   ]
  },
  {
   "cell_type": "code",
   "execution_count": null,
   "id": "f7bd188e",
   "metadata": {},
   "outputs": [],
   "source": [
    "dfsiniestros.head()"
   ]
  },
  {
   "cell_type": "markdown",
   "id": "822d8174",
   "metadata": {},
   "source": [
    "### Separación de datos de ```entrenamiento``` y ```testeo```.\n",
    "> Inicialmente repartiremos los datos de la siguiente manera:\n",
    "> - Datos para entrenamiento ```75%```\n",
    "> - Datos para testeo ```25%```"
   ]
  },
  {
   "cell_type": "code",
   "execution_count": null,
   "id": "d63de468",
   "metadata": {},
   "outputs": [],
   "source": [
    "y = dfsiniestros['GRAVEDADCOD']\n",
    "X = dfsiniestros.drop(['GRAVEDADCOD', 'Unnamed: 0', 'FECHA'], axis=1)"
   ]
  },
  {
   "cell_type": "code",
   "execution_count": null,
   "id": "8d6353be",
   "metadata": {},
   "outputs": [],
   "source": [
    "X.shape, y.shape"
   ]
  },
  {
   "cell_type": "code",
   "execution_count": null,
   "id": "fa68bdde",
   "metadata": {},
   "outputs": [],
   "source": [
    " X_train, X_test, y_train, y_test = train_test_split(X, y, test_size=0.25, random_state=42)"
   ]
  },
  {
   "cell_type": "code",
   "execution_count": null,
   "id": "fbfabfe1",
   "metadata": {},
   "outputs": [],
   "source": [
    "X_train.shape ,y_train.shape"
   ]
  },
  {
   "cell_type": "code",
   "execution_count": null,
   "id": "5dd8060f",
   "metadata": {},
   "outputs": [],
   "source": [
    "X_test.shape, y_test.shape"
   ]
  },
  {
   "cell_type": "code",
   "execution_count": null,
   "id": "80dd75b8",
   "metadata": {},
   "outputs": [],
   "source": [
    "clf = RM(max_depth=2, random_state=0)"
   ]
  },
  {
   "cell_type": "code",
   "execution_count": null,
   "id": "521dd9ca",
   "metadata": {},
   "outputs": [],
   "source": [
    "clf.fit(X_train,y_train)"
   ]
  },
  {
   "cell_type": "code",
   "execution_count": null,
   "id": "d28676da",
   "metadata": {},
   "outputs": [],
   "source": [
    "cross_val_score(clf, X_train, y_train, cv=5)"
   ]
  },
  {
   "cell_type": "code",
   "execution_count": null,
   "id": "12dc1eee",
   "metadata": {},
   "outputs": [],
   "source": [
    "y_pred = clf.predict(X_test)"
   ]
  },
  {
   "cell_type": "code",
   "execution_count": null,
   "id": "c6309ad7",
   "metadata": {},
   "outputs": [],
   "source": [
    "clf.score(X_test, y_test)"
   ]
  },
  {
   "cell_type": "code",
   "execution_count": null,
   "id": "1b5f907e",
   "metadata": {},
   "outputs": [],
   "source": [
    "cm = confusion_matrix(y_test, y_pred)\n",
    "sns.heatmap(cm, annot=True)"
   ]
  },
  {
   "cell_type": "code",
   "execution_count": null,
   "id": "6d43444f",
   "metadata": {},
   "outputs": [],
   "source": [
    "print(classification_report(y_test, y_pred))"
   ]
  },
  {
   "cell_type": "code",
   "execution_count": null,
   "id": "fa4a72a5",
   "metadata": {},
   "outputs": [],
   "source": [
    "np.array(['DIA_PROCESADO', 'EDAD_PROCESADA','LLEVACINTURON', 'LLEVACHALECO', 'LLEVACASCO', 'SEXO',\n",
    "'GRAVEDAD_PROCESADA', 'MODELOVEHICULO', 'CLASEVEHICULO','SERVICIOVEHICULO', 'POSSESEGURORESPONSABILIDAD',\n",
    "'VEHICULO_VIAJABA_CLASIFICADO', 'CON_EMBRIAGUEZ', 'CON_HUECOS','CON_PEATON', 'GRAVEDADCOD', 'CLASECODIGO', \n",
    "'CHOQUECODIGO', 'LOCALIDAD','HORA_PROCESADA', 'VICTIMAS'])"
   ]
  },
  {
   "cell_type": "code",
   "execution_count": null,
   "id": "4b535bb0",
   "metadata": {},
   "outputs": [],
   "source": [
    "y_epa = np.array([1, 20,1, 2, 2, 1,4, 2017, 1,1, 1,\n",
    "1, 1, 1,1,1, \n",
    "1, 1,14, 2])"
   ]
  },
  {
   "cell_type": "code",
   "execution_count": null,
   "id": "20dad5c0",
   "metadata": {},
   "outputs": [],
   "source": [
    "X_test.shape"
   ]
  },
  {
   "cell_type": "code",
   "execution_count": null,
   "id": "05e52847",
   "metadata": {},
   "outputs": [],
   "source": [
    "y_epa.shape"
   ]
  },
  {
   "cell_type": "code",
   "execution_count": null,
   "id": "38f88f25",
   "metadata": {},
   "outputs": [],
   "source": [
    "pprueba = clf.predict([y_epa])"
   ]
  },
  {
   "cell_type": "code",
   "execution_count": null,
   "id": "555abeac",
   "metadata": {},
   "outputs": [],
   "source": [
    "pprueba"
   ]
  }
 ],
 "metadata": {
  "kernelspec": {
   "display_name": "Python 3",
   "language": "python",
   "name": "python3"
  },
  "language_info": {
   "codemirror_mode": {
    "name": "ipython",
    "version": 3
   },
   "file_extension": ".py",
   "mimetype": "text/x-python",
   "name": "python",
   "nbconvert_exporter": "python",
   "pygments_lexer": "ipython3",
   "version": "3.8.10"
  }
 },
 "nbformat": 4,
 "nbformat_minor": 5
}
