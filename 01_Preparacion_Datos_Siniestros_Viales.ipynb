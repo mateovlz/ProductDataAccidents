{
 "cells": [
  {
   "cell_type": "markdown",
   "id": "caf68e56",
   "metadata": {},
   "source": [
    "## Preparación de los datos.\n",
    "\n",
    "El proposito de este notebook es recolectar los datasets que se utilizaran en este estudio y generar un dataset limpio para realizar analisis."
   ]
  },
  {
   "cell_type": "code",
   "execution_count": null,
   "id": "012dfd59",
   "metadata": {},
   "outputs": [],
   "source": [
    "# Importamos las librerias para el manejo de datasets\n",
    "import pandas as pd\n",
    "import numpy as np\n",
    "import os"
   ]
  },
  {
   "cell_type": "markdown",
   "id": "3cb96c59",
   "metadata": {},
   "source": [
    "### Métodos preparación datos."
   ]
  },
  {
   "cell_type": "code",
   "execution_count": null,
   "id": "fadec98f",
   "metadata": {},
   "outputs": [],
   "source": [
    "MODE_RUN = 'DEV' # Modo de ejecucion del notebook\n",
    "URL_DATA = 'Data/' # Ruta de data sin procesar \n",
    "URL_PREPARED_DATA = 'Prepared_Data/' # Ruta de data procesada"
   ]
  },
  {
   "cell_type": "code",
   "execution_count": null,
   "id": "404cc591",
   "metadata": {},
   "outputs": [],
   "source": [
    "def printmode(value, mode=MODE_RUN):\n",
    "    if mode == 'DEV':\n",
    "        print(value)"
   ]
  },
  {
   "cell_type": "code",
   "execution_count": null,
   "id": "20b70ae6",
   "metadata": {},
   "outputs": [],
   "source": [
    "def uppercasecolumns(dataframe):\n",
    "    for column in dataframe.columns:\n",
    "        dataframe.rename(columns = {column:column.upper()}, inplace = True)"
   ]
  },
  {
   "cell_type": "code",
   "execution_count": null,
   "id": "0feff9e5",
   "metadata": {},
   "outputs": [],
   "source": [
    "def createprimarykey(dataframe):\n",
    "    lskeys = []\n",
    "    for index, row in dataframe.iterrows():\n",
    "        fecha = row['FECHA']\n",
    "        fechaDate = fecha.to_pydatetime()\n",
    "        keyid = str(row['IDFORMULARIO']) + str(fechaDate.day) + str(fechaDate.month) + str(fechaDate.year)\n",
    "        lskeys.append(int(keyid))\n",
    "    return dataframe.insert(0,\"KEYID\", lskeys)"
   ]
  },
  {
   "cell_type": "code",
   "execution_count": null,
   "id": "a0fbd826",
   "metadata": {},
   "outputs": [],
   "source": [
    "def renamecolumn(dataframe,columnName,columnNameChanged):\n",
    "    dataframe.rename(columns= {columnName: columnNameChanged.upper() }, inplace = True)"
   ]
  },
  {
   "cell_type": "code",
   "execution_count": null,
   "id": "d39d8443",
   "metadata": {},
   "outputs": [],
   "source": [
    "def validatecolumns(dfprincipal, dfcomp1, dfcomp2):\n",
    "    stcolumns = set()\n",
    "    for column in dfprincipal.columns:\n",
    "        if column not in dfcomp1.columns:\n",
    "            stcolumns.add(column)\n",
    "            printmode(f'Does not Exists {column}')\n",
    "        else:\n",
    "            if type(dfprincipal[column]) != type(dfcomp1[column]):\n",
    "                printmode('Different')\n",
    "        if column not in dfcomp2.columns:\n",
    "            stcolumns.add(column)\n",
    "            printmode(f'Does not Exists {column}')\n",
    "        else:\n",
    "            if type(dfprincipal[column]) != type(dfcomp2[column]):\n",
    "                printmode('Different')\n",
    "    return stcolumns"
   ]
  },
  {
   "cell_type": "code",
   "execution_count": null,
   "id": "ad50d38b",
   "metadata": {},
   "outputs": [],
   "source": [
    "def deletecolumnsbyiterable(dataframe,columns):\n",
    "    for column in columns:\n",
    "        del dataframe[column]\n",
    "    return dataframe"
   ]
  },
  {
   "cell_type": "markdown",
   "id": "48043844",
   "metadata": {},
   "source": [
    "### Extracción de datasets a dataframe."
   ]
  },
  {
   "cell_type": "code",
   "execution_count": null,
   "id": "c2fe674a",
   "metadata": {},
   "outputs": [],
   "source": [
    "# !wget -O siniestros_2017.xlsx https://datosabiertos.bogota.gov.co/dataset/8aa2f79c-5d32-4e6a-8eb3-a5af0ac4c172/resource/072931b0-38fb-4a29-92dd-c7302d930be3/download/base_2018.xlsx"
   ]
  },
  {
   "cell_type": "code",
   "execution_count": null,
   "id": "564ecc98",
   "metadata": {},
   "outputs": [],
   "source": [
    "#sina2017 = pd.read_excel('https://datosabiertos.bogota.gov.co/dataset/8aa2f79c-5d32-4e6a-8eb3-a5af0ac4c172/resource/236065f3-93e0-43f1-a1ba-e25d5529cbed/download/base_2017.xlsx', sheet_name ='ACCIDENTES')\n",
    "sina2017 = pd.read_excel(URL_DATA+'Base_2017.xlsx',sheet_name ='ACCIDENTES')"
   ]
  },
  {
   "cell_type": "code",
   "execution_count": null,
   "id": "18880989",
   "metadata": {},
   "outputs": [],
   "source": [
    "#sinc2017 = pd.read_excel('https://datosabiertos.bogota.gov.co/dataset/8aa2f79c-5d32-4e6a-8eb3-a5af0ac4c172/resource/236065f3-93e0-43f1-a1ba-e25d5529cbed/download/base_2017.xlsx', sheet_name ='CONDUCTORES]')\n",
    "sinc2017 = pd.read_excel(URL_DATA+'Base_2017.xlsx',sheet_name ='CONDUCTORES')"
   ]
  },
  {
   "cell_type": "code",
   "execution_count": null,
   "id": "9f860084",
   "metadata": {},
   "outputs": [],
   "source": [
    "#sinv2017 = pd.read_excel('https://datosabiertos.bogota.gov.co/dataset/8aa2f79c-5d32-4e6a-8eb3-a5af0ac4c172/resource/236065f3-93e0-43f1-a1ba-e25d5529cbed/download/base_2017.xlsx', sheet_name ='VICTIMAS')\n",
    "sinv2017 = pd.read_excel(URL_DATA+'Base_2017.xlsx',sheet_name ='VICTIMAS')"
   ]
  },
  {
   "cell_type": "code",
   "execution_count": null,
   "id": "8b03a8f0",
   "metadata": {},
   "outputs": [],
   "source": [
    "#sina2018 = pd.read_excel('https://datosabiertos.bogota.gov.co/dataset/8aa2f79c-5d32-4e6a-8eb3-a5af0ac4c172/resource/072931b0-38fb-4a29-92dd-c7302d930be3/download/base_2018.xlsx', sheet_name ='ACCIDENTES')\n",
    "sina2018 = pd.read_excel(URL_DATA+'Base_2018.xlsx',sheet_name ='ACCIDENTES')"
   ]
  },
  {
   "cell_type": "code",
   "execution_count": null,
   "id": "2a063697",
   "metadata": {},
   "outputs": [],
   "source": [
    "#sinc2018 = pd.read_excel('https://datosabiertos.bogota.gov.co/dataset/8aa2f79c-5d32-4e6a-8eb3-a5af0ac4c172/resource/072931b0-38fb-4a29-92dd-c7302d930be3/download/base_2018.xlsx', sheet_name ='CONDUCTORES')\n",
    "sinc2018 = pd.read_excel(URL_DATA+'Base_2018.xlsx',sheet_name ='CONDUCTORES')"
   ]
  },
  {
   "cell_type": "code",
   "execution_count": null,
   "id": "fd4e7b5a",
   "metadata": {},
   "outputs": [],
   "source": [
    "#sinv2018 = pd.read_excel('https://datosabiertos.bogota.gov.co/dataset/8aa2f79c-5d32-4e6a-8eb3-a5af0ac4c172/resource/072931b0-38fb-4a29-92dd-c7302d930be3/download/base_2018.xlsx', sheet_name ='VICTIMAS')\n",
    "sinv2018 = pd.read_excel(URL_DATA+'Base_2018.xlsx',sheet_name ='VICTIMAS')"
   ]
  },
  {
   "cell_type": "code",
   "execution_count": null,
   "id": "f92b6982",
   "metadata": {},
   "outputs": [],
   "source": [
    "sina2019 = pd.read_excel(URL_DATA+'Base_2019.xlsx',sheet_name ='ACCIDENTES')"
   ]
  },
  {
   "cell_type": "code",
   "execution_count": null,
   "id": "4fb94b92",
   "metadata": {},
   "outputs": [],
   "source": [
    "sinc2019 = pd.read_excel(URL_DATA+'Base_2019.xlsx',sheet_name ='CONDUCTORES')"
   ]
  },
  {
   "cell_type": "code",
   "execution_count": null,
   "id": "740a9181",
   "metadata": {},
   "outputs": [],
   "source": [
    "sinv2019 = pd.read_excel(URL_DATA+'Base_2019.xlsx',sheet_name ='VICTIMAS')"
   ]
  },
  {
   "cell_type": "markdown",
   "id": "6c941bfe",
   "metadata": {},
   "source": [
    "### Conversión  nombres columnas por dataframe."
   ]
  },
  {
   "cell_type": "code",
   "execution_count": null,
   "id": "b52c3737",
   "metadata": {},
   "outputs": [],
   "source": [
    "# Todos los nombres de las columnas se volveran UPPERCASE\n",
    "uppercasecolumns(sina2017)\n",
    "uppercasecolumns(sinc2017)\n",
    "uppercasecolumns(sinv2017)"
   ]
  },
  {
   "cell_type": "code",
   "execution_count": null,
   "id": "e5f08660",
   "metadata": {},
   "outputs": [],
   "source": [
    "# Todos los nombres de las columnas se volveran UPPERCASE\n",
    "uppercasecolumns(sina2018)\n",
    "uppercasecolumns(sinc2018)\n",
    "uppercasecolumns(sinv2018)"
   ]
  },
  {
   "cell_type": "code",
   "execution_count": null,
   "id": "1a509a7a",
   "metadata": {},
   "outputs": [],
   "source": [
    "# Todos los nombres de las columnas se volveran UPPERCASE\n",
    "uppercasecolumns(sina2019)\n",
    "uppercasecolumns(sinc2019)\n",
    "uppercasecolumns(sinv2019)"
   ]
  },
  {
   "cell_type": "markdown",
   "id": "fea84542",
   "metadata": {},
   "source": [
    "Se renombra el campo ID de los dataframes del 2017 para tener un mismo formato para la creacion de las primary keys de los cada dataframe"
   ]
  },
  {
   "cell_type": "code",
   "execution_count": null,
   "id": "fe9776e0",
   "metadata": {},
   "outputs": [],
   "source": [
    "renamecolumn(sina2017,'ID','IDFORMULARIO')\n",
    "renamecolumn(sinc2017,'ID','IDFORMULARIO')\n",
    "renamecolumn(sinv2017,'ID','IDFORMULARIO')"
   ]
  },
  {
   "cell_type": "code",
   "execution_count": null,
   "id": "b8b5e127",
   "metadata": {},
   "outputs": [],
   "source": [
    "printmode('------------------------ ACCIDENTES 2017 ------------------------')\n",
    "printmode(sina2017.columns)\n",
    "printmode('------------------------ ACCIDENTES 2018 ------------------------')\n",
    "printmode(sina2018.columns)\n",
    "printmode('------------------------ ACCIDENTES 2019 ------------------------')\n",
    "printmode(sina2019.columns)"
   ]
  },
  {
   "cell_type": "code",
   "execution_count": null,
   "id": "9e44e6f6",
   "metadata": {},
   "outputs": [],
   "source": [
    "printmode('------------------------ CONDUCTORES 2017 ------------------------')\n",
    "printmode(sinc2017.columns)\n",
    "printmode('------------------------ CONDUCTORES 2018 ------------------------')\n",
    "printmode(sinc2018.columns)\n",
    "printmode('------------------------ CONDUCTORES 2019 ------------------------')\n",
    "printmode(sinc2019.columns)"
   ]
  },
  {
   "cell_type": "code",
   "execution_count": null,
   "id": "7f0c3f1d",
   "metadata": {},
   "outputs": [],
   "source": [
    "printmode('------------------------ VICTIMAS 2017 ------------------------')\n",
    "printmode(sinv2017.columns)\n",
    "printmode('------------------------ VICTIMAS 2018 ------------------------')\n",
    "printmode(sinv2018.columns)\n",
    "printmode('------------------------ VICTIMAS 2019 ------------------------')\n",
    "printmode(sinv2019.columns)"
   ]
  },
  {
   "cell_type": "code",
   "execution_count": null,
   "id": "10b30882",
   "metadata": {},
   "outputs": [],
   "source": [
    "\"\"\"del sina2017['KEYID']\n",
    "del sinc2017['KEYID']\n",
    "del sinv2017['KEYID']\n",
    "del sina2018['KEYID']\n",
    "del sinc2018['KEYID']\n",
    "del sinv2018['KEYID']\n",
    "del sina2019['KEYID']\n",
    "del sinc2019['KEYID']\n",
    "del sinv2019['KEYID']\"\"\""
   ]
  },
  {
   "cell_type": "code",
   "execution_count": null,
   "id": "89bfa3bd",
   "metadata": {},
   "outputs": [],
   "source": [
    "printmode(sina2017.shape)\n",
    "printmode(sina2018.shape)\n",
    "printmode(sina2019.shape)"
   ]
  },
  {
   "cell_type": "markdown",
   "id": "c7c6d46a",
   "metadata": {},
   "source": [
    "### Creación primary keyId por dataframe."
   ]
  },
  {
   "cell_type": "code",
   "execution_count": null,
   "id": "b5ffc93f",
   "metadata": {},
   "outputs": [],
   "source": [
    "createprimarykey(sina2017)\n",
    "createprimarykey(sina2018)\n",
    "createprimarykey(sina2019)"
   ]
  },
  {
   "cell_type": "code",
   "execution_count": null,
   "id": "73819aa4",
   "metadata": {},
   "outputs": [],
   "source": [
    "createprimarykey(sinc2017)\n",
    "createprimarykey(sinc2018)\n",
    "createprimarykey(sinc2019)"
   ]
  },
  {
   "cell_type": "code",
   "execution_count": null,
   "id": "d99f3ffa",
   "metadata": {},
   "outputs": [],
   "source": [
    "createprimarykey(sinv2017)\n",
    "createprimarykey(sinv2018)\n",
    "createprimarykey(sinv2019)"
   ]
  },
  {
   "cell_type": "code",
   "execution_count": null,
   "id": "da5d3675",
   "metadata": {},
   "outputs": [],
   "source": [
    "printmode('------------------------ ACCIDENTES 2017 ------------------------')\n",
    "printmode(sina2017.columns)\n",
    "printmode('------------------------ ACCIDENTES 2018 ------------------------')\n",
    "printmode(sina2018.columns)\n",
    "printmode('------------------------ ACCIDENTES 2019 ------------------------')\n",
    "printmode(sina2019.columns)"
   ]
  },
  {
   "cell_type": "code",
   "execution_count": null,
   "id": "0c043fd8",
   "metadata": {},
   "outputs": [],
   "source": [
    "printmode('------------------------ CONDUCTORES 2017 ------------------------')\n",
    "printmode(sinc2017.columns)\n",
    "printmode('------------------------ CONDUCTORES 2018 ------------------------')\n",
    "printmode(sinc2018.columns)\n",
    "printmode('------------------------ CONDUCTORES 2019 ------------------------')\n",
    "printmode(sinc2019.columns)"
   ]
  },
  {
   "cell_type": "code",
   "execution_count": null,
   "id": "8270caf5",
   "metadata": {},
   "outputs": [],
   "source": [
    "printmode('------------------------ VICTIMAS 2017 ------------------------')\n",
    "printmode(sinv2017.columns)\n",
    "printmode('------------------------ VICTIMAS 2018 ------------------------')\n",
    "printmode(sinv2018.columns)\n",
    "printmode('------------------------ VICTIMAS 2019 ------------------------')\n",
    "printmode(sinv2019.columns)"
   ]
  },
  {
   "cell_type": "markdown",
   "id": "3398f120",
   "metadata": {},
   "source": [
    "### Validación columnas por dataFrame."
   ]
  },
  {
   "cell_type": "code",
   "execution_count": null,
   "id": "7f1362f3",
   "metadata": {},
   "outputs": [],
   "source": [
    "diccolumn = dict()"
   ]
  },
  {
   "cell_type": "code",
   "execution_count": null,
   "id": "48346a03",
   "metadata": {},
   "outputs": [],
   "source": [
    "#valida las columnas que no los otros data\n",
    "diccolumn['2017a'] = validatecolumns(sina2017, sina2018, sina2019)\n",
    "diccolumn['2018a'] = validatecolumns(sina2018, sina2017, sina2019)\n",
    "diccolumn['2019a'] = validatecolumns(sina2019, sina2017, sina2018)"
   ]
  },
  {
   "cell_type": "code",
   "execution_count": null,
   "id": "a2327e7a",
   "metadata": {},
   "outputs": [],
   "source": [
    "diccolumn['2017c'] = validatecolumns(sinc2017, sinc2018, sinc2019)\n",
    "diccolumn['2018c'] = validatecolumns(sinc2018, sinc2017, sinc2019)\n",
    "diccolumn['2019c'] = validatecolumns(sinc2019, sinc2017, sinc2018)"
   ]
  },
  {
   "cell_type": "code",
   "execution_count": null,
   "id": "7893ee24",
   "metadata": {},
   "outputs": [],
   "source": [
    "diccolumn['2017v'] = validatecolumns(sinv2017, sinv2018, sinv2019)\n",
    "diccolumn['2018v'] = validatecolumns(sinv2018, sinv2017, sinv2019)\n",
    "diccolumn['2019v'] = validatecolumns(sinv2019, sinv2017, sinv2018)"
   ]
  },
  {
   "cell_type": "code",
   "execution_count": null,
   "id": "a93e094b",
   "metadata": {},
   "outputs": [],
   "source": [
    "printmode(diccolumn)"
   ]
  },
  {
   "cell_type": "markdown",
   "id": "b28cc316",
   "metadata": {},
   "source": [
    "### Elimina columnas no existentes por dataframe."
   ]
  },
  {
   "cell_type": "code",
   "execution_count": null,
   "id": "86275426",
   "metadata": {},
   "outputs": [],
   "source": [
    "printmode(sina2017.shape)\n",
    "printmode(sina2018.shape)\n",
    "printmode(sina2019.shape)"
   ]
  },
  {
   "cell_type": "code",
   "execution_count": null,
   "id": "1b83b4cd",
   "metadata": {},
   "outputs": [],
   "source": [
    "sin17 = sina2017.copy()\n",
    "sin18 = sina2018.copy()\n",
    "sin19 = sina2019.copy()"
   ]
  },
  {
   "cell_type": "code",
   "execution_count": null,
   "id": "b31207bb",
   "metadata": {},
   "outputs": [],
   "source": [
    "for key,value in diccolumn.items():\n",
    "    if len(value) != 0:\n",
    "        if key == '2017a':\n",
    "            sina2017 = deletecolumnsbyiterable(sina2017,value)\n",
    "        if key == '2018a':\n",
    "            sina2018 = deletecolumnsbyiterable(sina2018,value)\n",
    "        if key == '2019a':\n",
    "            sina2019 = deletecolumnsbyiterable(sina2019,value)"
   ]
  },
  {
   "cell_type": "code",
   "execution_count": null,
   "id": "ab50966d",
   "metadata": {},
   "outputs": [],
   "source": [
    "printmode(sina2017.shape)\n",
    "printmode(sina2018.shape)\n",
    "printmode(sina2019.shape)"
   ]
  },
  {
   "cell_type": "markdown",
   "id": "53326bd7",
   "metadata": {},
   "source": [
    "### Se unen dataframe por año y tipo"
   ]
  },
  {
   "cell_type": "code",
   "execution_count": null,
   "id": "f6547e7f",
   "metadata": {},
   "outputs": [],
   "source": [
    "siniacci = pd.concat([sina2017,sina2018,sina2019])"
   ]
  },
  {
   "cell_type": "code",
   "execution_count": null,
   "id": "e0a12a2c",
   "metadata": {},
   "outputs": [],
   "source": [
    "sinicond = pd.concat([sinc2017,sinc2018,sinc2019])"
   ]
  },
  {
   "cell_type": "code",
   "execution_count": null,
   "id": "511782ac",
   "metadata": {},
   "outputs": [],
   "source": [
    "sinivict = pd.concat([sinv2017,sinv2018,sinv2019])"
   ]
  },
  {
   "cell_type": "code",
   "execution_count": null,
   "id": "b8e1dfd9",
   "metadata": {},
   "outputs": [],
   "source": [
    "printmode(siniacci.shape)\n",
    "printmode(sinicond.shape)\n",
    "printmode(sinivict.shape)"
   ]
  },
  {
   "cell_type": "markdown",
   "id": "0bc4c0fb",
   "metadata": {},
   "source": [
    "### Unificacion de columnas al dataframe principal"
   ]
  },
  {
   "cell_type": "markdown",
   "id": "fbb8703a",
   "metadata": {},
   "source": [
    "##### Se crea un nuevo dataframe con las columnas que integran al dataframe de sinicond"
   ]
  },
  {
   "cell_type": "code",
   "execution_count": null,
   "id": "33d55fe6",
   "metadata": {},
   "outputs": [],
   "source": [
    "siniaccichild = siniacci[['KEYID','GRAVEDADCOD','CLASECODIGO','CHOQUECODIGO','DIRECCION','LOCALIDAD','HORA_PROCESADA','TIPODISENNO']]"
   ]
  },
  {
   "cell_type": "code",
   "execution_count": null,
   "id": "1695f0e5",
   "metadata": {},
   "outputs": [],
   "source": [
    "printmode(siniaccichild.shape)"
   ]
  },
  {
   "cell_type": "code",
   "execution_count": null,
   "id": "b67ca00a",
   "metadata": {},
   "outputs": [],
   "source": [
    "for index, row in sinicond.iterrows():\n",
    "    if row['KEYID'] not in siniaccichild['KEYID'].values:\n",
    "        siniaccichild.drop([siniaccichild[siniaccichild['KEYID'] == row['KEYID']]].index, inplace=True)"
   ]
  },
  {
   "cell_type": "code",
   "execution_count": null,
   "id": "8a425097",
   "metadata": {},
   "outputs": [],
   "source": [
    "printmode(siniaccichild.shape)"
   ]
  },
  {
   "cell_type": "code",
   "execution_count": null,
   "id": "de8e9801",
   "metadata": {},
   "outputs": [],
   "source": [
    "\"\"\"\n",
    "lsnewdata = []\n",
    "for index,row in sinicond.iterrows():\n",
    "    lsnewdata.append(siniaccichild[siniaccichild['KEYID']==row['KEYID']]['GRAVEDADCOD'].values[0])\n",
    "\"\"\""
   ]
  },
  {
   "cell_type": "markdown",
   "id": "24fe3a6b",
   "metadata": {},
   "source": [
    "##### Se agrega las columnas necesarias del dataframe de accidentes a conductores "
   ]
  },
  {
   "cell_type": "code",
   "execution_count": null,
   "id": "7dc5959a",
   "metadata": {},
   "outputs": [],
   "source": [
    "sinicond.insert(len(sinicond.columns),'GRAVEDADCOD',[siniaccichild[siniaccichild['KEYID']==row['KEYID']]['GRAVEDADCOD'].values[0] for index,row in sinicond.iterrows()])"
   ]
  },
  {
   "cell_type": "code",
   "execution_count": null,
   "id": "898d54ad",
   "metadata": {},
   "outputs": [],
   "source": [
    "sinicond.insert(len(sinicond.columns),'CLASECODIGO',[siniaccichild[siniaccichild['KEYID']==row['KEYID']]['CLASECODIGO'].values[0] for index,row in sinicond.iterrows()])"
   ]
  },
  {
   "cell_type": "code",
   "execution_count": null,
   "id": "5893c731",
   "metadata": {},
   "outputs": [],
   "source": [
    "sinicond.insert(len(sinicond.columns),'CHOQUECODIGO',[siniaccichild[siniaccichild['KEYID']==row['KEYID']]['CHOQUECODIGO'].values[0] for index,row in sinicond.iterrows()])"
   ]
  },
  {
   "cell_type": "code",
   "execution_count": null,
   "id": "e67df658",
   "metadata": {},
   "outputs": [],
   "source": [
    "sinicond.insert(len(sinicond.columns),'DIRECCION',[siniaccichild[siniaccichild['KEYID']==row['KEYID']]['DIRECCION'].values[0] for index,row in sinicond.iterrows()])"
   ]
  },
  {
   "cell_type": "code",
   "execution_count": null,
   "id": "b5f3a851",
   "metadata": {},
   "outputs": [],
   "source": [
    "sinicond.insert(len(sinicond.columns),'LOCALIDAD',[siniaccichild[siniaccichild['KEYID']==row['KEYID']]['LOCALIDAD'].values[0] for index,row in sinicond.iterrows()])"
   ]
  },
  {
   "cell_type": "code",
   "execution_count": null,
   "id": "6f47e2a6",
   "metadata": {},
   "outputs": [],
   "source": [
    "sinicond.insert(len(sinicond.columns),'HORA_PROCESADA',[siniaccichild[siniaccichild['KEYID']==row['KEYID']]['HORA_PROCESADA'].values[0] for index,row in sinicond.iterrows()])"
   ]
  },
  {
   "cell_type": "code",
   "execution_count": null,
   "id": "c702b9f9",
   "metadata": {},
   "outputs": [],
   "source": [
    "sinicond.insert(len(sinicond.columns),'TIPODISENNO',[siniaccichild[siniaccichild['KEYID']==row['KEYID']]['TIPODISENNO'].values[0] for index,row in sinicond.iterrows()])"
   ]
  },
  {
   "cell_type": "code",
   "execution_count": null,
   "id": "8b751e44",
   "metadata": {},
   "outputs": [],
   "source": [
    "for column in ['GRAVEDADCOD','CLASECODIGO','CHOQUECODIGO','DIRECCION','LOCALIDAD','HORA_PROCESADA','TIPODISENNO']:\n",
    "    count = sinicond[column].value_counts(dropna=False)\n",
    "    printmode(count)"
   ]
  },
  {
   "cell_type": "code",
   "execution_count": null,
   "id": "ad329fe7",
   "metadata": {},
   "outputs": [],
   "source": [
    "sinicond.columns"
   ]
  },
  {
   "cell_type": "code",
   "execution_count": null,
   "id": "6a653284",
   "metadata": {},
   "outputs": [],
   "source": [
    "#siniacci.insert(0,\"CANT_CONDUCTORES\",  [ sinicondgpcount[sinicondgpcount['KEYID'] == row['KEYID']].values[0] for index, row in siniacci.iterrows() if row['KEYID'] in sinicondgpcount['KEYID'].values])"
   ]
  },
  {
   "cell_type": "code",
   "execution_count": null,
   "id": "0bd0d698",
   "metadata": {},
   "outputs": [],
   "source": [
    "siniacci[siniacci['KEYID']== 3695130122018]['TIPODISENNO'].values[0]"
   ]
  },
  {
   "cell_type": "code",
   "execution_count": null,
   "id": "1a9088bf",
   "metadata": {},
   "outputs": [],
   "source": [
    "nanpruebabcinto = sinicond[\"LLEVACINTURON\"].value_counts(dropna=False)\n",
    "printmode(nanpruebabcinto)"
   ]
  },
  {
   "cell_type": "code",
   "execution_count": null,
   "id": "555f576f",
   "metadata": {},
   "outputs": [],
   "source": [
    "nanpruebachaleco = sinicond[\"LLEVACHALECO\"].value_counts(dropna=False)\n",
    "printmode(nanpruebachaleco)"
   ]
  },
  {
   "cell_type": "code",
   "execution_count": null,
   "id": "5b25aa6f",
   "metadata": {},
   "outputs": [],
   "source": [
    "nanpruebacasco = sinicond[\"LLEVACASCO\"].value_counts(dropna=False)\n",
    "printmode(nanpruebacasco)"
   ]
  },
  {
   "cell_type": "code",
   "execution_count": null,
   "id": "aa482e89",
   "metadata": {},
   "outputs": [],
   "source": [
    "#Se agrupa los conductores por primarykey\n",
    "sinivgpcount = sinivict.groupby(['KEYID']).size().reset_index(name='VICTIMAS')\n",
    "printmode(sinivgpcount)"
   ]
  },
  {
   "cell_type": "code",
   "execution_count": null,
   "id": "dd2872fe",
   "metadata": {},
   "outputs": [],
   "source": [
    "printmode(sinivgpcount.describe())"
   ]
  },
  {
   "cell_type": "code",
   "execution_count": null,
   "id": "4b4b5565",
   "metadata": {},
   "outputs": [],
   "source": [
    "key = sinivgpcount[sinivgpcount['VICTIMAS']==64]\n",
    "printmode(key)"
   ]
  },
  {
   "cell_type": "code",
   "execution_count": null,
   "id": "d83abf55",
   "metadata": {},
   "outputs": [],
   "source": [
    "printmode(sinivict[sinivict['KEYID'] == 3103119112019])"
   ]
  },
  {
   "cell_type": "code",
   "execution_count": null,
   "id": "274648f4",
   "metadata": {},
   "outputs": [],
   "source": [
    "sinicond.insert(len(sinicond.columns),'VICTIMAS',[sinivgpcount[sinivgpcount['KEYID'] == row['KEYID']]['VICTIMAS'].values[0] if len(sinivgpcount[sinivgpcount['KEYID'] == row['KEYID']]['VICTIMAS'].values) != 0 else 0 for index, row in sinicond.iterrows() ])"
   ]
  },
  {
   "cell_type": "code",
   "execution_count": null,
   "id": "1d3c4444",
   "metadata": {},
   "outputs": [],
   "source": [
    "printmode(sinicond[['KEYID', 'VICTIMAS']])"
   ]
  },
  {
   "cell_type": "code",
   "execution_count": null,
   "id": "0be86d20",
   "metadata": {},
   "outputs": [],
   "source": [
    "printmode(sinicond.columns)"
   ]
  },
  {
   "cell_type": "code",
   "execution_count": null,
   "id": "af60dfef",
   "metadata": {},
   "outputs": [],
   "source": [
    "printmode(sinicond.shape)"
   ]
  },
  {
   "cell_type": "markdown",
   "id": "82c1c2e2",
   "metadata": {},
   "source": [
    "### Se exporta el dataframe con la preparacion de datos lista."
   ]
  },
  {
   "cell_type": "code",
   "execution_count": null,
   "id": "37f283f7",
   "metadata": {},
   "outputs": [],
   "source": [
    "sinicond.to_csv(URL_PREPARED_DATA+'siniestros-pre-delete.csv')"
   ]
  },
  {
   "cell_type": "markdown",
   "id": "f5f58c3c",
   "metadata": {},
   "source": [
    "#### Se eliminan columnas no necesarias para el analisis o ml\n",
    "\n",
    "Estas columnas son eliminadas teniendo en cuenta valores del modelo se que tendra en el futuro y que no generan valor ni para el analisis ni el modelo."
   ]
  },
  {
   "cell_type": "markdown",
   "id": "9dc05b3d",
   "metadata": {},
   "source": [
    "##### sinicond['CLASEOFICINA']\n",
    "Oficina a la corresponde el oficial de trancito encargado de registrar el siniestro por lo cual se elimina la columna ya que no es un dato relevante para el producto de datos."
   ]
  },
  {
   "cell_type": "code",
   "execution_count": null,
   "id": "21b59f59",
   "metadata": {},
   "outputs": [],
   "source": [
    "del sinicond['CLASEOFICINA']"
   ]
  },
  {
   "cell_type": "markdown",
   "id": "e81c8b1f",
   "metadata": {},
   "source": [
    "##### sinicond['CLASEOFICINA']\n",
    "Oficina a la corresponde el oficial de trancito encargado de registrar el siniestro por lo cual se elimina la columna ya que no es un dato relevante para el producto de datos."
   ]
  },
  {
   "cell_type": "code",
   "execution_count": null,
   "id": "64f3da1d",
   "metadata": {},
   "outputs": [],
   "source": [
    "del sinicond['CLASEOFICINA']"
   ]
  },
  {
   "cell_type": "markdown",
   "id": "47271767",
   "metadata": {},
   "source": [
    "##### sinicond['GRADOOFICIAL']\n",
    "Grado del oficial que conduce el vehiculo lo cual al ser un dato tan especifico no serive para el producto de datos que se esta desarrollando por lo tanto se elimina esta columna."
   ]
  },
  {
   "cell_type": "code",
   "execution_count": null,
   "id": "0b16c53c",
   "metadata": {},
   "outputs": [],
   "source": [
    "del sinicond['GRADOOFICIAL']"
   ]
  },
  {
   "cell_type": "markdown",
   "id": "1888bf11",
   "metadata": {},
   "source": [
    "#### sinicond['UNIDADOFICIAL']\n",
    "Corresponde a un vehiculo que es utilizado por alguna entidad publica, ya que es un dato tan especifico no sirve para el producto de datos que se esta desarrollando por lo tanto se elimina esta columna."
   ]
  },
  {
   "cell_type": "code",
   "execution_count": null,
   "id": "fd03e19e",
   "metadata": {},
   "outputs": [],
   "source": [
    "del sinicond['UNIDADOFICIAL']"
   ]
  },
  {
   "cell_type": "markdown",
   "id": "686c68b3",
   "metadata": {},
   "source": [
    "#### sinicond['IDFORMULARIO']\n",
    "El id del formulario se requiere para identificar los implicados en el siniestro ya que se cuneta con 3 matrices (accidente, condutor y victima) y despues de la inificacion de las matrices no es necesaria por lo tanto se elimina esta columna. \n"
   ]
  },
  {
   "cell_type": "code",
   "execution_count": null,
   "id": "c23cd3e5",
   "metadata": {},
   "outputs": [],
   "source": [
    "del sinicond['IDFORMULARIO']"
   ]
  },
  {
   "cell_type": "markdown",
   "id": "8df7012f",
   "metadata": {},
   "source": [
    "#### sinicond['MES_PROCESADO'] \n",
    "El mes procesado es el mes en cual se registro el siniestro ya que existe otra columan con el tipo de dato DateTime no se necesita esta columna por lo tanto se elimina esta columna. "
   ]
  },
  {
   "cell_type": "code",
   "execution_count": null,
   "id": "d92e127c",
   "metadata": {},
   "outputs": [],
   "source": [
    "del sinicond['MES_PROCESADO'] "
   ]
  },
  {
   "cell_type": "markdown",
   "id": "a4571f60",
   "metadata": {},
   "source": [
    "#### sinicond['VEHICULO']\n",
    "Hay dos columnas que identifican el mismo registro pero en diferente tipo de dato por lo cual se elimina ya que no es necesario para el desarrollo del producto de datos."
   ]
  },
  {
   "cell_type": "code",
   "execution_count": null,
   "id": "da18fa35",
   "metadata": {},
   "outputs": [],
   "source": [
    "del sinicond['VEHICULO']"
   ]
  },
  {
   "cell_type": "markdown",
   "id": "1888b07b",
   "metadata": {},
   "source": [
    "#### sinicond['CODIGORESTRICCIONLICENCIA']\n",
    "El codigo de restriccion no es necesario de ya que para el producto de dotos solo se necesita el codigo de la licencia y la fecha de expedicion por lo tanto se elemina esta columna para el desarrollo del producto de datos."
   ]
  },
  {
   "cell_type": "code",
   "execution_count": null,
   "id": "c87bc17c",
   "metadata": {},
   "outputs": [],
   "source": [
    "del sinicond['CODIGORESTRICCIONLICENCIA']"
   ]
  },
  {
   "cell_type": "markdown",
   "id": "38c1b658",
   "metadata": {},
   "source": [
    "#### sinicond['OFICINAEXPEDICIONLICENCIA']\n",
    "La oficina de expedicion de la licencia no es necesario para el desarrollo del producto de datos ya que es un dato que no tiene alguna corelacion para el desarrollo del producto de datos."
   ]
  },
  {
   "cell_type": "code",
   "execution_count": null,
   "id": "3d1953e9",
   "metadata": {},
   "outputs": [],
   "source": [
    "del sinicond['OFICINAEXPEDICIONLICENCIA']"
   ]
  },
  {
   "cell_type": "markdown",
   "id": "676cd957",
   "metadata": {},
   "source": [
    "#### sinicond['ESPROPIETARIOVEHICULO'] \n",
    "El propietario del vehiculo no es un campo que represente valor alguno para el desarollo del producto de datos ya que no tiene correlacion que se identifique con la gravedad del siniestro."
   ]
  },
  {
   "cell_type": "code",
   "execution_count": null,
   "id": "03b7d2c8",
   "metadata": {},
   "outputs": [],
   "source": [
    "del sinicond['ESPROPIETARIOVEHICULO'] "
   ]
  },
  {
   "cell_type": "markdown",
   "id": "ec176ba6",
   "metadata": {},
   "source": [
    "#### sinicond['CAPACIDADCARGA']\n",
    "No cuenta con la cantidad necesaria de variabilidad en los registro para que esta columna pueda ser usada en el desarrollo del producto de datos por lo tan se elimina esta columna."
   ]
  },
  {
   "cell_type": "code",
   "execution_count": null,
   "id": "9bf465cc",
   "metadata": {},
   "outputs": [],
   "source": [
    "del sinicond['CAPACIDADCARGA']"
   ]
  },
  {
   "cell_type": "markdown",
   "id": "82fe535e",
   "metadata": {},
   "source": [
    "#### sinicond['CANTIDADPASAJEROS']\n",
    "En la unificacion de las matrices las vitimas al vehiculo implicado por lo tanto la cantidad de pasajeros no es necesaria que se cuenta con este dato en otra columna por lo cual se elimina esta columna."
   ]
  },
  {
   "cell_type": "code",
   "execution_count": null,
   "id": "817cc232",
   "metadata": {},
   "outputs": [],
   "source": [
    "del sinicond['CANTIDADPASAJEROS']"
   ]
  },
  {
   "cell_type": "markdown",
   "id": "ff277016",
   "metadata": {},
   "source": [
    "#### sinicond['MODALIDADVEHICULO']\n",
    "No cuenta con la cantidad necearia de variabiliad en los registro para que esta columna pueda ser usada en el desarrollo del producto de datos ya que la mayotia de registros se encuentran null."
   ]
  },
  {
   "cell_type": "code",
   "execution_count": null,
   "id": "bd4a09fd",
   "metadata": {},
   "outputs": [],
   "source": [
    "del sinicond['MODALIDADVEHICULO']"
   ]
  },
  {
   "cell_type": "markdown",
   "id": "09257686",
   "metadata": {},
   "source": [
    "#### sinicond['RADIOACCION']\n",
    "No cuenta con la cantidad necearia de variabiliad en los registro para que esta columna pueda ser usada en el desarrollo del producto de datos ya que la mayotia de registros se encuentran null."
   ]
  },
  {
   "cell_type": "code",
   "execution_count": null,
   "id": "d8322a42",
   "metadata": {},
   "outputs": [],
   "source": [
    "del sinicond['RADIOACCION']"
   ]
  },
  {
   "cell_type": "markdown",
   "id": "32fbc261",
   "metadata": {},
   "source": [
    "#### sinicond['CON_CARGA']\n",
    "No cuenta con la cantidad necearia de variabiliad en los registro para que esta columna pueda ser usada en el desarrollo del producto de datos ya que la mayotia de registros se encuentran null."
   ]
  },
  {
   "cell_type": "code",
   "execution_count": null,
   "id": "114719c2",
   "metadata": {},
   "outputs": [],
   "source": [
    "del sinicond['CON_CARGA']"
   ]
  },
  {
   "cell_type": "markdown",
   "id": "fb6c409f",
   "metadata": {},
   "source": [
    "#### sinicond['CON_MENORES']\n",
    "No cuenta con la cantidad necearia de variabiliad en los registro para que esta columna pueda ser usada en el desarrollo del producto de datos ya que la mayotia de registros se encuentran null."
   ]
  },
  {
   "cell_type": "code",
   "execution_count": null,
   "id": "8b72bafb",
   "metadata": {},
   "outputs": [],
   "source": [
    "del sinicond['CON_MENORES']"
   ]
  },
  {
   "cell_type": "markdown",
   "id": "6ff78ac9",
   "metadata": {},
   "source": [
    "#### sinicond['CON_MOTO']\n",
    "No cuenta con la cantidad necearia de variabiliad en los registro para que esta columna pueda ser usada en el desarrollo del producto de datos ya que la mayotia de registros se encuentran null."
   ]
  },
  {
   "cell_type": "code",
   "execution_count": null,
   "id": "ab37bcb7",
   "metadata": {},
   "outputs": [],
   "source": [
    "del sinicond['CON_MOTO']"
   ]
  },
  {
   "cell_type": "markdown",
   "id": "8f712f44",
   "metadata": {},
   "source": [
    "#### sinicond['CON_PERSONA_MAYOR']\n",
    "No cuenta con la cantidad necearia de variabiliad en los registro para que esta columna pueda ser usada en el desarrollo del producto de datos ya que la mayotia de registros se encuentran null."
   ]
  },
  {
   "cell_type": "code",
   "execution_count": null,
   "id": "3a375c3a",
   "metadata": {},
   "outputs": [],
   "source": [
    "del sinicond['CON_PERSONA_MAYOR']"
   ]
  },
  {
   "cell_type": "markdown",
   "id": "5039d584",
   "metadata": {},
   "source": [
    "#### sinicond['CON_RUTAS']\n",
    "No cuenta con la cantidad necearia de variabiliad en los registro para que esta columna pueda ser usada en el desarrollo del producto de datos ya que la mayotia de registros se encuentran null."
   ]
  },
  {
   "cell_type": "code",
   "execution_count": null,
   "id": "edd4d48f",
   "metadata": {},
   "outputs": [],
   "source": [
    "del sinicond['CON_RUTAS']"
   ]
  },
  {
   "cell_type": "markdown",
   "id": "50e4d2a4",
   "metadata": {},
   "source": [
    "#### sinicond['CON_TPI']\n",
    "No cuenta con la cantidad necearia de variabiliad en los registro para que esta columna pueda ser usada en el desarrollo del producto de datos ya que la mayotia de registros se encuentran null."
   ]
  },
  {
   "cell_type": "code",
   "execution_count": null,
   "id": "46f078cc",
   "metadata": {},
   "outputs": [],
   "source": [
    "del sinicond['CON_TPI']"
   ]
  },
  {
   "cell_type": "markdown",
   "id": "b6edd25f",
   "metadata": {},
   "source": [
    "#### sinicond['CON_VELOCIDAD']\n",
    "No cuenta con la cantidad necearia de variabiliad en los registro para que esta columna pueda ser usada en el desarrollo del producto de datos ya que la mayotia de registros se encuentran null."
   ]
  },
  {
   "cell_type": "code",
   "execution_count": null,
   "id": "2fc1e9dd",
   "metadata": {},
   "outputs": [],
   "source": [
    "del sinicond['CON_VELOCIDAD']"
   ]
  },
  {
   "cell_type": "markdown",
   "id": "1a67c774",
   "metadata": {},
   "source": [
    "#### sinicond['CON_BICICLETA']\n",
    "No cuenta con la cantidad necearia de variabiliad en los registro para que esta columna pueda ser usada en el desarrollo del producto de datos ya que la mayotia de registros se encuentran null."
   ]
  },
  {
   "cell_type": "code",
   "execution_count": null,
   "id": "e976c2ef",
   "metadata": {},
   "outputs": [],
   "source": [
    "del sinicond['CON_BICICLETA']"
   ]
  },
  {
   "cell_type": "markdown",
   "id": "11ad9e85",
   "metadata": {},
   "source": [
    "#### sinicond['ESTABASERVICIOOFICIAL']\n",
    "No cuenta con la cantidad necearia de variabiliad en los registro para que esta columna pueda ser usada en el desarrollo del producto de datos ya que la mayotia de registros se encuentran null.\n"
   ]
  },
  {
   "cell_type": "code",
   "execution_count": null,
   "id": "9c26b3d8",
   "metadata": {},
   "outputs": [],
   "source": [
    "del sinicond['ESTABASERVICIOOFICIAL']"
   ]
  },
  {
   "cell_type": "markdown",
   "id": "2059070b",
   "metadata": {},
   "source": [
    "#### de\n",
    "No cuenta con la cantidad necearia de variabiliad en los registro para que esta columna pueda ser usada en el desarrollo del producto de datos ya que la mayotia de registros se encuentran null."
   ]
  },
  {
   "cell_type": "markdown",
   "id": "8bf3b546",
   "metadata": {},
   "source": [
    "#### sinicond['TIPOFALLA']\n",
    "No cuenta con la cantidad necearia de variabiliad en los registro para que esta columna pueda ser usada en el desarrollo del producto de datos ya que la mayotia de registros se encuentran null.\n"
   ]
  },
  {
   "cell_type": "markdown",
   "id": "281be8b6",
   "metadata": {},
   "source": [
    "#### Eliminación Columna ```'KEYID'```\n",
    "Esta columna se utiliza para tener un control en la unificacion de las matrices depues de este no tiene ninguna funcion mas por lo tanto se elimina esta columna.\n"
   ]
  },
  {
   "cell_type": "raw",
   "id": "e0afe4ed",
   "metadata": {},
   "source": [
    "sinicond.to_csv(URL_PREPARED_DATA+'siniestros-prepared.csv')"
   ]
  },
  {
   "cell_type": "code",
   "execution_count": null,
   "id": "265c2056",
   "metadata": {},
   "outputs": [],
   "source": [
    "printmode(sinicond.shape)"
   ]
  },
  {
   "cell_type": "code",
   "execution_count": null,
   "id": "8d421a8b",
   "metadata": {},
   "outputs": [],
   "source": [
    "printmode('Finalizo Ejecucion del Script 01_Preparacion_Datos_Siniestros_Viales')"
   ]
  }
 ],
 "metadata": {
  "kernelspec": {
   "display_name": "Python 3",
   "language": "python",
   "name": "python3"
  },
  "language_info": {
   "codemirror_mode": {
    "name": "ipython",
    "version": 3
   },
   "file_extension": ".py",
   "mimetype": "text/x-python",
   "name": "python",
   "nbconvert_exporter": "python",
   "pygments_lexer": "ipython3",
   "version": "3.8.10"
  }
 },
 "nbformat": 4,
 "nbformat_minor": 5
}
