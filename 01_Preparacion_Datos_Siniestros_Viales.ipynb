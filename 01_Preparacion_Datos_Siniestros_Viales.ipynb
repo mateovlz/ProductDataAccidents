{
 "cells": [
  {
   "cell_type": "markdown",
   "id": "caf68e56",
   "metadata": {},
   "source": [
    "## Preparación de los datos.\n",
    "\n",
    "El proposito de este notebook es recolectar los datasets que se utilizaran en este estudio y generar un dataset limpio para realizar analisis."
   ]
  },
  {
   "cell_type": "code",
   "execution_count": 2,
   "id": "012dfd59",
   "metadata": {},
   "outputs": [],
   "source": [
    "# Importamos las librerias para el manejo de datasets\n",
    "import pandas as pd\n",
    "import numpy as np\n",
    "import os"
   ]
  },
  {
   "cell_type": "markdown",
   "id": "3cb96c59",
   "metadata": {},
   "source": [
    "### Métodos preparación datos."
   ]
  },
  {
   "cell_type": "code",
   "execution_count": 3,
   "id": "fadec98f",
   "metadata": {},
   "outputs": [],
   "source": [
    "MODE_RUN = 'DEV' # Modo de ejecucion del notebook"
   ]
  },
  {
   "cell_type": "code",
   "execution_count": 4,
   "id": "404cc591",
   "metadata": {},
   "outputs": [],
   "source": [
    "def printmode(value, mode=MODE_RUN):\n",
    "    if mode == 'DEV':\n",
    "        print(value)"
   ]
  },
  {
   "cell_type": "code",
   "execution_count": 5,
   "id": "20b70ae6",
   "metadata": {},
   "outputs": [],
   "source": [
    "def uppercasecolumns(dataframe):\n",
    "    for column in dataframe.columns:\n",
    "        dataframe.rename(columns = {column:column.upper()}, inplace = True)"
   ]
  },
  {
   "cell_type": "code",
   "execution_count": 6,
   "id": "0feff9e5",
   "metadata": {},
   "outputs": [],
   "source": [
    "def createprimarykey(dataframe):\n",
    "    lskeys = []\n",
    "    for index, row in dataframe.iterrows():\n",
    "        fecha = row['FECHA']\n",
    "        fechaDate = fecha.to_pydatetime()\n",
    "        keyid = str(row['IDFORMULARIO']) + str(fechaDate.day) + str(fechaDate.month) + str(fechaDate.year)\n",
    "        lskeys.append(int(keyid))\n",
    "    return dataframe.insert(0,\"KEYID\", lskeys)"
   ]
  },
  {
   "cell_type": "code",
   "execution_count": 7,
   "id": "a0fbd826",
   "metadata": {},
   "outputs": [],
   "source": [
    "def renamecolumn(dataframe,columnName,columnNameChanged):\n",
    "    dataframe.rename(columns= {columnName: columnNameChanged.upper() }, inplace = True)"
   ]
  },
  {
   "cell_type": "code",
   "execution_count": 8,
   "id": "d39d8443",
   "metadata": {},
   "outputs": [],
   "source": [
    "def validatecolumns(dfprincipal, dfcomp1, dfcomp2):\n",
    "    stcolumns = set()\n",
    "    for column in dfprincipal.columns:\n",
    "        if column not in dfcomp1.columns:\n",
    "            stcolumns.add(column)\n",
    "            printmode(f'Does not Exists {column}')\n",
    "        else:\n",
    "            if type(dfprincipal[column]) != type(dfcomp1[column]):\n",
    "                printmode('Different')\n",
    "        if column not in dfcomp2.columns:\n",
    "            stcolumns.add(column)\n",
    "            printmode(f'Does not Exists {column}')\n",
    "        else:\n",
    "            if type(dfprincipal[column]) != type(dfcomp2[column]):\n",
    "                printmode('Different')\n",
    "    return stcolumns"
   ]
  },
  {
   "cell_type": "code",
   "execution_count": 9,
   "id": "ad50d38b",
   "metadata": {},
   "outputs": [],
   "source": [
    "def deletecolumnsbyiterable(dataframe,columns):\n",
    "    for column in columns:\n",
    "        del dataframe[column]\n",
    "    return dataframe"
   ]
  },
  {
   "cell_type": "markdown",
   "id": "48043844",
   "metadata": {},
   "source": [
    "### Extracción de datasets a dataframe."
   ]
  },
  {
   "cell_type": "code",
   "execution_count": 10,
   "id": "c2fe674a",
   "metadata": {},
   "outputs": [],
   "source": [
    "# !wget -O siniestros_2017.xlsx https://datosabiertos.bogota.gov.co/dataset/8aa2f79c-5d32-4e6a-8eb3-a5af0ac4c172/resource/072931b0-38fb-4a29-92dd-c7302d930be3/download/base_2018.xlsx"
   ]
  },
  {
   "cell_type": "code",
   "execution_count": 11,
   "id": "564ecc98",
   "metadata": {},
   "outputs": [],
   "source": [
    "#sina2017 = pd.read_excel('https://datosabiertos.bogota.gov.co/dataset/8aa2f79c-5d32-4e6a-8eb3-a5af0ac4c172/resource/236065f3-93e0-43f1-a1ba-e25d5529cbed/download/base_2017.xlsx', sheet_name ='ACCIDENTES')\n",
    "sina2017 = pd.read_excel('Data/Base_2017.xlsx',sheet_name ='ACCIDENTES')"
   ]
  },
  {
   "cell_type": "code",
   "execution_count": 12,
   "id": "18880989",
   "metadata": {},
   "outputs": [],
   "source": [
    "#sinc2017 = pd.read_excel('https://datosabiertos.bogota.gov.co/dataset/8aa2f79c-5d32-4e6a-8eb3-a5af0ac4c172/resource/236065f3-93e0-43f1-a1ba-e25d5529cbed/download/base_2017.xlsx', sheet_name ='CONDUCTORES]')\n",
    "sinc2017 = pd.read_excel('Data/Base_2017.xlsx',sheet_name ='CONDUCTORES')"
   ]
  },
  {
   "cell_type": "code",
   "execution_count": 13,
   "id": "9f860084",
   "metadata": {},
   "outputs": [],
   "source": [
    "#sinv2017 = pd.read_excel('https://datosabiertos.bogota.gov.co/dataset/8aa2f79c-5d32-4e6a-8eb3-a5af0ac4c172/resource/236065f3-93e0-43f1-a1ba-e25d5529cbed/download/base_2017.xlsx', sheet_name ='VICTIMAS')\n",
    "sinv2017 = pd.read_excel('Data/Base_2017.xlsx',sheet_name ='VICTIMAS')"
   ]
  },
  {
   "cell_type": "code",
   "execution_count": 14,
   "id": "8b03a8f0",
   "metadata": {},
   "outputs": [],
   "source": [
    "#sina2018 = pd.read_excel('https://datosabiertos.bogota.gov.co/dataset/8aa2f79c-5d32-4e6a-8eb3-a5af0ac4c172/resource/072931b0-38fb-4a29-92dd-c7302d930be3/download/base_2018.xlsx', sheet_name ='ACCIDENTES')\n",
    "sina2018 = pd.read_excel('Data/Base_2018.xlsx',sheet_name ='ACCIDENTES')"
   ]
  },
  {
   "cell_type": "code",
   "execution_count": 15,
   "id": "2a063697",
   "metadata": {},
   "outputs": [],
   "source": [
    "#sinc2018 = pd.read_excel('https://datosabiertos.bogota.gov.co/dataset/8aa2f79c-5d32-4e6a-8eb3-a5af0ac4c172/resource/072931b0-38fb-4a29-92dd-c7302d930be3/download/base_2018.xlsx', sheet_name ='CONDUCTORES')\n",
    "sinc2018 = pd.read_excel('Data/Base_2018.xlsx',sheet_name ='CONDUCTORES')"
   ]
  },
  {
   "cell_type": "code",
   "execution_count": 16,
   "id": "fd4e7b5a",
   "metadata": {},
   "outputs": [],
   "source": [
    "#sinv2018 = pd.read_excel('https://datosabiertos.bogota.gov.co/dataset/8aa2f79c-5d32-4e6a-8eb3-a5af0ac4c172/resource/072931b0-38fb-4a29-92dd-c7302d930be3/download/base_2018.xlsx', sheet_name ='VICTIMAS')\n",
    "sinv2018 = pd.read_excel('Data/Base_2018.xlsx',sheet_name ='VICTIMAS')"
   ]
  },
  {
   "cell_type": "code",
   "execution_count": 17,
   "id": "f92b6982",
   "metadata": {},
   "outputs": [],
   "source": [
    "sina2019 = pd.read_excel('Data/Base_2019.xlsx',sheet_name ='ACCIDENTES')"
   ]
  },
  {
   "cell_type": "code",
   "execution_count": 18,
   "id": "4fb94b92",
   "metadata": {},
   "outputs": [],
   "source": [
    "sinc2019 = pd.read_excel('Data/Base_2019.xlsx',sheet_name ='CONDUCTORES')"
   ]
  },
  {
   "cell_type": "code",
   "execution_count": 19,
   "id": "740a9181",
   "metadata": {},
   "outputs": [],
   "source": [
    "sinv2019 = pd.read_excel('Data/Base_2019.xlsx',sheet_name ='VICTIMAS')"
   ]
  },
  {
   "cell_type": "markdown",
   "id": "6c941bfe",
   "metadata": {},
   "source": [
    "### Conversión  nombres columnas por dataframe."
   ]
  },
  {
   "cell_type": "code",
   "execution_count": 20,
   "id": "b52c3737",
   "metadata": {},
   "outputs": [],
   "source": [
    "# Todos los nombres de las columnas se volveran UPPERCASE\n",
    "uppercasecolumns(sina2017)\n",
    "uppercasecolumns(sinc2017)\n",
    "uppercasecolumns(sinv2017)"
   ]
  },
  {
   "cell_type": "code",
   "execution_count": 21,
   "id": "e5f08660",
   "metadata": {},
   "outputs": [],
   "source": [
    "# Todos los nombres de las columnas se volveran UPPERCASE\n",
    "uppercasecolumns(sina2018)\n",
    "uppercasecolumns(sinc2018)\n",
    "uppercasecolumns(sinv2018)"
   ]
  },
  {
   "cell_type": "code",
   "execution_count": 22,
   "id": "1a509a7a",
   "metadata": {},
   "outputs": [],
   "source": [
    "# Todos los nombres de las columnas se volveran UPPERCASE\n",
    "uppercasecolumns(sina2019)\n",
    "uppercasecolumns(sinc2019)\n",
    "uppercasecolumns(sinv2019)"
   ]
  },
  {
   "cell_type": "markdown",
   "id": "fea84542",
   "metadata": {},
   "source": [
    "Se renombra el campo ID de los dataframes del 2017 para tener un mismo formato para la creacion de las primary keys de los cada dataframe"
   ]
  },
  {
   "cell_type": "code",
   "execution_count": 23,
   "id": "fe9776e0",
   "metadata": {},
   "outputs": [],
   "source": [
    "renamecolumn(sina2017,'ID','IDFORMULARIO')\n",
    "renamecolumn(sinc2017,'ID','IDFORMULARIO')\n",
    "renamecolumn(sinv2017,'ID','IDFORMULARIO')"
   ]
  },
  {
   "cell_type": "code",
   "execution_count": 24,
   "id": "b8b5e127",
   "metadata": {},
   "outputs": [
    {
     "name": "stdout",
     "output_type": "stream",
     "text": [
      "------------------------ ACCIDENTES 2017 ------------------------\n",
      "Index(['IDFORMULARIO', 'DIA', 'FECHA', 'MES_PROCESADO', 'OFICINA',\n",
      "       'GRAVEDADCOD', 'GRAVEDADNOMBRE', 'CLASECODIGO', 'CLASENOMBRE',\n",
      "       'CHOQUECODIGO', 'CHOQUENOMBRE', 'OBJETOFIJOCODIGO', 'OBJETOFIJONOMBRE',\n",
      "       'OTRACLASE', 'NOMBREOTRACLASE', 'LATITUD', 'LONGITUD', 'DIRECCION',\n",
      "       'TIPOVIA1', 'NUMEROVIA1', 'LETRAVIA1', 'CARDINALVIA1', 'TIPOVIA2',\n",
      "       'NUMEROVIA2', 'LETRAVIA2', 'CARDINALVIA2', 'COMPLEMENTO', 'MUNICIPIO',\n",
      "       'LOCALIDAD', 'FECHAOCURRENCIA', 'HORAOCURRENCIA', 'HORA_PROCESADA',\n",
      "       'AREA', 'SECTOR', 'ZONA', 'TIPODISENNO', 'TIPOTIEMPO', 'COORDENADAX',\n",
      "       'COORDENADAY', 'CON_BICICLETA', 'CON_CARGA', 'CON_EMBRIAGUEZ',\n",
      "       'CON_HUECOS', 'CON_MENORES', 'CON_MOTO', 'CON_PEATON',\n",
      "       'CON_PERSONA_MAYOR', 'CON_RUTAS', 'CON_TPI', 'CON_VELOCIDAD'],\n",
      "      dtype='object')\n",
      "------------------------ ACCIDENTES 2018 ------------------------\n",
      "Index(['IDFORMULARIO', 'DIA', 'FECHA', 'MES_PROCESADO', 'OFICINA',\n",
      "       'GRAVEDADCOD', 'GRAVEDADNOMBRE', 'CLASECODIGO', 'CLASENOMBRE',\n",
      "       'CHOQUECODIGO', 'CHOQUENOMBRE', 'OBJETOFIJOCODIGO', 'OBJETOFIJONOMBRE',\n",
      "       'OTRACLASE', 'NOMBREOTRACLASE', 'LATITUD', 'LONGITUD', 'DIRECCION',\n",
      "       'TIPOVIA1', 'NUMEROVIA1', 'LETRAVIA1', 'CARDINALVIA1', 'TIPOVIA2',\n",
      "       'NUMEROVIA2', 'LETRAVIA2', 'CARDINALVIA2', 'COMPLEMENTO', 'MUNICIPIO',\n",
      "       'LOCALIDAD', 'FECHAOCURRENCIA', 'HORAOCURRENCIA', 'HORA_PROCESADA',\n",
      "       'AREA', 'SECTOR', 'ZONA', 'TIPODISENNO', 'TIPOTIEMPO', 'ZONATRANSITO',\n",
      "       'AREATRANSITO', 'CON_BICICLETA', 'CON_CARGA', 'CON_EMBRIAGUEZ',\n",
      "       'CON_HUECOS', 'CON_MENORES', 'CON_MOTO', 'CON_PEATON',\n",
      "       'CON_PERSONA_MAYOR', 'CON_RUTAS', 'CON_TPI', 'CON_VELOCIDAD'],\n",
      "      dtype='object')\n",
      "------------------------ ACCIDENTES 2019 ------------------------\n",
      "Index(['IDFORMULARIO', 'DIA', 'FECHA', 'MES_PROCESADO', 'OFICINA',\n",
      "       'GRAVEDADCOD', 'GRAVEDADNOMBRE', 'CLASECODIGO', 'CLASENOMBRE',\n",
      "       'CHOQUECODIGO', 'CHOQUENOMBRE', 'OBJETOFIJOCODIGO', 'OBJETOFIJONOMBRE',\n",
      "       'OTRACLASE', 'NOMBREOTRACLASE', 'LATITUD', 'LONGITUD', 'DIRECCION',\n",
      "       'TIPOVIA1', 'NUMEROVIA1', 'LETRAVIA1', 'CARDINALVIA1', 'TIPOVIA2',\n",
      "       'NUMEROVIA2', 'LETRAVIA2', 'CARDINALVIA2', 'COMPLEMENTO', 'MUNICIPIO',\n",
      "       'LOCALIDAD', 'FECHAOCURRENCIA', 'HORAOCURRENCIA', 'HORA_PROCESADA',\n",
      "       'AREA', 'SECTOR', 'ZONA', 'TIPODISENNO', 'TIPOTIEMPO', 'ZONATRANSITO',\n",
      "       'AREATRANSITO', 'CON_BICICLETA', 'CON_CARGA', 'CON_EMBRIAGUEZ',\n",
      "       'CON_HUECOS', 'CON_MENORES', 'CON_MOTO', 'CON_PEATON',\n",
      "       'CON_PERSONA_MAYOR', 'CON_RUTAS', 'CON_TPI', 'CON_VELOCIDAD'],\n",
      "      dtype='object')\n"
     ]
    }
   ],
   "source": [
    "printmode('------------------------ ACCIDENTES 2017 ------------------------')\n",
    "printmode(sina2017.columns)\n",
    "printmode('------------------------ ACCIDENTES 2018 ------------------------')\n",
    "printmode(sina2018.columns)\n",
    "printmode('------------------------ ACCIDENTES 2019 ------------------------')\n",
    "printmode(sina2019.columns)"
   ]
  },
  {
   "cell_type": "code",
   "execution_count": 25,
   "id": "9e44e6f6",
   "metadata": {},
   "outputs": [
    {
     "name": "stdout",
     "output_type": "stream",
     "text": [
      "------------------------ CONDUCTORES 2017 ------------------------\n",
      "Index(['IDFORMULARIO', 'FECHA', 'MES_PROCESADO', 'DIA_PROCESADO', 'VEHICULO',\n",
      "       'EDAD_PROCESADA', 'LLEVACINTURON', 'LLEVACHALECO', 'LLEVACASCO', 'SEXO',\n",
      "       'GRAVEDAD_PROCESADA', 'CLASEOFICIAL', 'GRADOOFICIAL', 'UNIDADOFICIAL',\n",
      "       'ESTABASERVICIOOFICIAL', 'PORTALICENCIA', 'CODIGOCATEGORIALICENCIA',\n",
      "       'CODIGORESTRICCIONLICENCIA', 'FECHAEXPEDICION',\n",
      "       'OFICINAEXPEDICIONLICENCIA', 'ESPROPIETARIOVEHICULO', 'MODELOVEHICULO',\n",
      "       'CAPACIDADCARGA', 'CANTIDADPASAJEROS', 'CLASEVEHICULO',\n",
      "       'SERVICIOVEHICULO', 'MODALIDADVEHICULO', 'RADIOACCION',\n",
      "       'POSSESEGURORESPONSABILIDAD', 'TIPOFALLA',\n",
      "       'VEHICULO_VIAJABA_CLASIFICADO', 'CON_BICICLETA', 'CON_CARGA',\n",
      "       'CON_EMBRIAGUEZ', 'CON_HUECOS', 'CON_MENORES', 'CON_MOTO', 'CON_PEATON',\n",
      "       'CON_PERSONA_MAYOR', 'CON_RUTAS', 'CON_TPI', 'CON_VELOCIDAD'],\n",
      "      dtype='object')\n",
      "------------------------ CONDUCTORES 2018 ------------------------\n",
      "Index(['IDFORMULARIO', 'FECHA', 'MES_PROCESADO', 'DIA_PROCESADO', 'VEHICULO',\n",
      "       'EDAD_PROCESADA', 'LLEVACINTURON', 'LLEVACHALECO', 'LLEVACASCO', 'SEXO',\n",
      "       'GRAVEDAD_PROCESADA', 'CLASEOFICIAL', 'GRADOOFICIAL', 'UNIDADOFICIAL',\n",
      "       'ESTABASERVICIOOFICIAL', 'PORTALICENCIA', 'CODIGOCATEGORIALICENCIA',\n",
      "       'CODIGORESTRICCIONLICENCIA', 'FECHAEXPEDICION',\n",
      "       'OFICINAEXPEDICIONLICENCIA', 'ESPROPIETARIOVEHICULO', 'MODELOVEHICULO',\n",
      "       'CAPACIDADCARGA', 'CANTIDADPASAJEROS', 'CLASEVEHICULO',\n",
      "       'SERVICIOVEHICULO', 'MODALIDADVEHICULO', 'RADIOACCION',\n",
      "       'POSSESEGURORESPONSABILIDAD', 'TIPOFALLA',\n",
      "       'VEHICULO_VIAJABA_CLASIFICADO', 'CON_BICICLETA', 'CON_CARGA',\n",
      "       'CON_EMBRIAGUEZ', 'CON_HUECOS', 'CON_MENORES', 'CON_MOTO', 'CON_PEATON',\n",
      "       'CON_PERSONA_MAYOR', 'CON_RUTAS', 'CON_TPI', 'CON_VELOCIDAD'],\n",
      "      dtype='object')\n",
      "------------------------ CONDUCTORES 2019 ------------------------\n",
      "Index(['IDFORMULARIO', 'FECHA', 'MES_PROCESADO', 'DIA_PROCESADO', 'VEHICULO',\n",
      "       'EDAD_PROCESADA', 'LLEVACINTURON', 'LLEVACHALECO', 'LLEVACASCO', 'SEXO',\n",
      "       'GRAVEDAD_PROCESADA', 'CLASEOFICIAL', 'GRADOOFICIAL', 'UNIDADOFICIAL',\n",
      "       'ESTABASERVICIOOFICIAL', 'PORTALICENCIA', 'CODIGOCATEGORIALICENCIA',\n",
      "       'CODIGORESTRICCIONLICENCIA', 'FECHAEXPEDICION',\n",
      "       'OFICINAEXPEDICIONLICENCIA', 'ESPROPIETARIOVEHICULO', 'MODELOVEHICULO',\n",
      "       'CAPACIDADCARGA', 'CANTIDADPASAJEROS', 'CLASEVEHICULO',\n",
      "       'SERVICIOVEHICULO', 'MODALIDADVEHICULO', 'RADIOACCION',\n",
      "       'POSSESEGURORESPONSABILIDAD', 'TIPOFALLA',\n",
      "       'VEHICULO_VIAJABA_CLASIFICADO', 'CON_BICICLETA', 'CON_CARGA',\n",
      "       'CON_EMBRIAGUEZ', 'CON_HUECOS', 'CON_MENORES', 'CON_MOTO', 'CON_PEATON',\n",
      "       'CON_PERSONA_MAYOR', 'CON_RUTAS', 'CON_TPI', 'CON_VELOCIDAD'],\n",
      "      dtype='object')\n"
     ]
    }
   ],
   "source": [
    "printmode('------------------------ CONDUCTORES 2017 ------------------------')\n",
    "printmode(sinc2017.columns)\n",
    "printmode('------------------------ CONDUCTORES 2018 ------------------------')\n",
    "printmode(sinc2018.columns)\n",
    "printmode('------------------------ CONDUCTORES 2019 ------------------------')\n",
    "printmode(sinc2019.columns)"
   ]
  },
  {
   "cell_type": "code",
   "execution_count": 26,
   "id": "7f0c3f1d",
   "metadata": {},
   "outputs": [
    {
     "name": "stdout",
     "output_type": "stream",
     "text": [
      "------------------------ VICTIMAS 2017 ------------------------\n",
      "Index(['IDFORMULARIO', 'FECHA', 'MES_PROCESADO', 'DIA_PROCESADO', 'NUMERO',\n",
      "       'EDAD_PROCESADA', 'LLEVACINTURON', 'LLEVACHALECO', 'LLEVACASCO',\n",
      "       'PEATON_PASAJERO', 'CODIGOVEHICULO', 'SEXO', 'GRAVEDAD_PROCESADA',\n",
      "       'CLASEOFICIAL', 'GRADOOFICIAL', 'UNIDADOFICIAL', 'ESTABAENSERVICIO',\n",
      "       'TRASLADADO_EN', 'VEHICULO_VIAJABA', 'VEHICULO_VIAJABA_CLASIFICADO',\n",
      "       'CON_BICICLETA', 'CON_CARGA', 'CON_EMBRIAGUEZ', 'CON_HUECOS',\n",
      "       'CON_MENORES', 'CON_MOTO', 'CON_PEATON', 'CON_PERSONA_MAYOR',\n",
      "       'CON_RUTAS', 'CON_TPI', 'CON_VELOCIDAD'],\n",
      "      dtype='object')\n",
      "------------------------ VICTIMAS 2018 ------------------------\n",
      "Index(['IDFORMULARIO', 'FECHA', 'MES_PROCESADO', 'DIA_PROCESADO', 'NUMERO',\n",
      "       'EDAD_PROCESADA', 'LLEVACINTURON', 'LLEVACHALECO', 'LLEVACASCO',\n",
      "       'PEATON_PASAJERO', 'CODIGOVEHICULO', 'SEXO', 'GRAVEDAD_PROCESADA',\n",
      "       'CLASEOFICIAL', 'GRADOOFICIAL', 'UNIDADOFICIAL', 'ESTABAENSERVICIO',\n",
      "       'TRASLADADO_EN', 'VEHICULO_VIAJABA', 'VEHICULO_VIAJABA_CLASIFICADO',\n",
      "       'CON_BICICLETA', 'CON_CARGA', 'CON_EMBRIAGUEZ', 'CON_HUECOS',\n",
      "       'CON_MENORES', 'CON_MOTO', 'CON_PEATON', 'CON_PERSONA_MAYOR',\n",
      "       'CON_RUTAS', 'CON_TPI', 'CON_VELOCIDAD'],\n",
      "      dtype='object')\n",
      "------------------------ VICTIMAS 2019 ------------------------\n",
      "Index(['IDFORMULARIO', 'FECHA', 'MES_PROCESADO', 'DIA_PROCESADO', 'NUMERO',\n",
      "       'EDAD_PROCESADA', 'LLEVACINTURON', 'LLEVACHALECO', 'LLEVACASCO',\n",
      "       'PEATON_PASAJERO', 'CODIGOVEHICULO', 'SEXO', 'GRAVEDAD_PROCESADA',\n",
      "       'CLASEOFICIAL', 'GRADOOFICIAL', 'UNIDADOFICIAL', 'ESTABAENSERVICIO',\n",
      "       'TRASLADADO_EN', 'VEHICULO_VIAJABA', 'VEHICULO_VIAJABA_CLASIFICADO',\n",
      "       'CON_BICICLETA', 'CON_CARGA', 'CON_EMBRIAGUEZ', 'CON_HUECOS',\n",
      "       'CON_MENORES', 'CON_MOTO', 'CON_PEATON', 'CON_PERSONA_MAYOR',\n",
      "       'CON_RUTAS', 'CON_TPI', 'CON_VELOCIDAD'],\n",
      "      dtype='object')\n"
     ]
    }
   ],
   "source": [
    "printmode('------------------------ VICTIMAS 2017 ------------------------')\n",
    "printmode(sinv2017.columns)\n",
    "printmode('------------------------ VICTIMAS 2018 ------------------------')\n",
    "printmode(sinv2018.columns)\n",
    "printmode('------------------------ VICTIMAS 2019 ------------------------')\n",
    "printmode(sinv2019.columns)"
   ]
  },
  {
   "cell_type": "code",
   "execution_count": 27,
   "id": "10b30882",
   "metadata": {},
   "outputs": [
    {
     "data": {
      "text/plain": [
       "\"del sina2017['KEYID']\\ndel sinc2017['KEYID']\\ndel sinv2017['KEYID']\\ndel sina2018['KEYID']\\ndel sinc2018['KEYID']\\ndel sinv2018['KEYID']\\ndel sina2019['KEYID']\\ndel sinc2019['KEYID']\\ndel sinv2019['KEYID']\""
      ]
     },
     "execution_count": 27,
     "metadata": {},
     "output_type": "execute_result"
    }
   ],
   "source": [
    "\"\"\"del sina2017['KEYID']\n",
    "del sinc2017['KEYID']\n",
    "del sinv2017['KEYID']\n",
    "del sina2018['KEYID']\n",
    "del sinc2018['KEYID']\n",
    "del sinv2018['KEYID']\n",
    "del sina2019['KEYID']\n",
    "del sinc2019['KEYID']\n",
    "del sinv2019['KEYID']\"\"\""
   ]
  },
  {
   "cell_type": "code",
   "execution_count": 28,
   "id": "89bfa3bd",
   "metadata": {},
   "outputs": [
    {
     "name": "stdout",
     "output_type": "stream",
     "text": [
      "(35170, 50)\n",
      "(36953, 50)\n",
      "(34990, 50)\n"
     ]
    }
   ],
   "source": [
    "printmode(sina2017.shape)\n",
    "printmode(sina2018.shape)\n",
    "printmode(sina2019.shape)"
   ]
  },
  {
   "cell_type": "markdown",
   "id": "c7c6d46a",
   "metadata": {},
   "source": [
    "### Creación primary keyId por dataframe."
   ]
  },
  {
   "cell_type": "code",
   "execution_count": 29,
   "id": "b5ffc93f",
   "metadata": {},
   "outputs": [],
   "source": [
    "createprimarykey(sina2017)\n",
    "createprimarykey(sina2018)\n",
    "createprimarykey(sina2019)"
   ]
  },
  {
   "cell_type": "code",
   "execution_count": 30,
   "id": "73819aa4",
   "metadata": {},
   "outputs": [],
   "source": [
    "createprimarykey(sinc2017)\n",
    "createprimarykey(sinc2018)\n",
    "createprimarykey(sinc2019)"
   ]
  },
  {
   "cell_type": "code",
   "execution_count": 31,
   "id": "d99f3ffa",
   "metadata": {},
   "outputs": [],
   "source": [
    "createprimarykey(sinv2017)\n",
    "createprimarykey(sinv2018)\n",
    "createprimarykey(sinv2019)"
   ]
  },
  {
   "cell_type": "code",
   "execution_count": 32,
   "id": "da5d3675",
   "metadata": {},
   "outputs": [
    {
     "name": "stdout",
     "output_type": "stream",
     "text": [
      "------------------------ ACCIDENTES 2017 ------------------------\n",
      "Index(['KEYID', 'IDFORMULARIO', 'DIA', 'FECHA', 'MES_PROCESADO', 'OFICINA',\n",
      "       'GRAVEDADCOD', 'GRAVEDADNOMBRE', 'CLASECODIGO', 'CLASENOMBRE',\n",
      "       'CHOQUECODIGO', 'CHOQUENOMBRE', 'OBJETOFIJOCODIGO', 'OBJETOFIJONOMBRE',\n",
      "       'OTRACLASE', 'NOMBREOTRACLASE', 'LATITUD', 'LONGITUD', 'DIRECCION',\n",
      "       'TIPOVIA1', 'NUMEROVIA1', 'LETRAVIA1', 'CARDINALVIA1', 'TIPOVIA2',\n",
      "       'NUMEROVIA2', 'LETRAVIA2', 'CARDINALVIA2', 'COMPLEMENTO', 'MUNICIPIO',\n",
      "       'LOCALIDAD', 'FECHAOCURRENCIA', 'HORAOCURRENCIA', 'HORA_PROCESADA',\n",
      "       'AREA', 'SECTOR', 'ZONA', 'TIPODISENNO', 'TIPOTIEMPO', 'COORDENADAX',\n",
      "       'COORDENADAY', 'CON_BICICLETA', 'CON_CARGA', 'CON_EMBRIAGUEZ',\n",
      "       'CON_HUECOS', 'CON_MENORES', 'CON_MOTO', 'CON_PEATON',\n",
      "       'CON_PERSONA_MAYOR', 'CON_RUTAS', 'CON_TPI', 'CON_VELOCIDAD'],\n",
      "      dtype='object')\n",
      "------------------------ ACCIDENTES 2018 ------------------------\n",
      "Index(['KEYID', 'IDFORMULARIO', 'DIA', 'FECHA', 'MES_PROCESADO', 'OFICINA',\n",
      "       'GRAVEDADCOD', 'GRAVEDADNOMBRE', 'CLASECODIGO', 'CLASENOMBRE',\n",
      "       'CHOQUECODIGO', 'CHOQUENOMBRE', 'OBJETOFIJOCODIGO', 'OBJETOFIJONOMBRE',\n",
      "       'OTRACLASE', 'NOMBREOTRACLASE', 'LATITUD', 'LONGITUD', 'DIRECCION',\n",
      "       'TIPOVIA1', 'NUMEROVIA1', 'LETRAVIA1', 'CARDINALVIA1', 'TIPOVIA2',\n",
      "       'NUMEROVIA2', 'LETRAVIA2', 'CARDINALVIA2', 'COMPLEMENTO', 'MUNICIPIO',\n",
      "       'LOCALIDAD', 'FECHAOCURRENCIA', 'HORAOCURRENCIA', 'HORA_PROCESADA',\n",
      "       'AREA', 'SECTOR', 'ZONA', 'TIPODISENNO', 'TIPOTIEMPO', 'ZONATRANSITO',\n",
      "       'AREATRANSITO', 'CON_BICICLETA', 'CON_CARGA', 'CON_EMBRIAGUEZ',\n",
      "       'CON_HUECOS', 'CON_MENORES', 'CON_MOTO', 'CON_PEATON',\n",
      "       'CON_PERSONA_MAYOR', 'CON_RUTAS', 'CON_TPI', 'CON_VELOCIDAD'],\n",
      "      dtype='object')\n",
      "------------------------ ACCIDENTES 2019 ------------------------\n",
      "Index(['KEYID', 'IDFORMULARIO', 'DIA', 'FECHA', 'MES_PROCESADO', 'OFICINA',\n",
      "       'GRAVEDADCOD', 'GRAVEDADNOMBRE', 'CLASECODIGO', 'CLASENOMBRE',\n",
      "       'CHOQUECODIGO', 'CHOQUENOMBRE', 'OBJETOFIJOCODIGO', 'OBJETOFIJONOMBRE',\n",
      "       'OTRACLASE', 'NOMBREOTRACLASE', 'LATITUD', 'LONGITUD', 'DIRECCION',\n",
      "       'TIPOVIA1', 'NUMEROVIA1', 'LETRAVIA1', 'CARDINALVIA1', 'TIPOVIA2',\n",
      "       'NUMEROVIA2', 'LETRAVIA2', 'CARDINALVIA2', 'COMPLEMENTO', 'MUNICIPIO',\n",
      "       'LOCALIDAD', 'FECHAOCURRENCIA', 'HORAOCURRENCIA', 'HORA_PROCESADA',\n",
      "       'AREA', 'SECTOR', 'ZONA', 'TIPODISENNO', 'TIPOTIEMPO', 'ZONATRANSITO',\n",
      "       'AREATRANSITO', 'CON_BICICLETA', 'CON_CARGA', 'CON_EMBRIAGUEZ',\n",
      "       'CON_HUECOS', 'CON_MENORES', 'CON_MOTO', 'CON_PEATON',\n",
      "       'CON_PERSONA_MAYOR', 'CON_RUTAS', 'CON_TPI', 'CON_VELOCIDAD'],\n",
      "      dtype='object')\n"
     ]
    }
   ],
   "source": [
    "printmode('------------------------ ACCIDENTES 2017 ------------------------')\n",
    "printmode(sina2017.columns)\n",
    "printmode('------------------------ ACCIDENTES 2018 ------------------------')\n",
    "printmode(sina2018.columns)\n",
    "printmode('------------------------ ACCIDENTES 2019 ------------------------')\n",
    "printmode(sina2019.columns)"
   ]
  },
  {
   "cell_type": "code",
   "execution_count": 33,
   "id": "0c043fd8",
   "metadata": {},
   "outputs": [
    {
     "name": "stdout",
     "output_type": "stream",
     "text": [
      "------------------------ CONDUCTORES 2017 ------------------------\n",
      "Index(['KEYID', 'IDFORMULARIO', 'FECHA', 'MES_PROCESADO', 'DIA_PROCESADO',\n",
      "       'VEHICULO', 'EDAD_PROCESADA', 'LLEVACINTURON', 'LLEVACHALECO',\n",
      "       'LLEVACASCO', 'SEXO', 'GRAVEDAD_PROCESADA', 'CLASEOFICIAL',\n",
      "       'GRADOOFICIAL', 'UNIDADOFICIAL', 'ESTABASERVICIOOFICIAL',\n",
      "       'PORTALICENCIA', 'CODIGOCATEGORIALICENCIA', 'CODIGORESTRICCIONLICENCIA',\n",
      "       'FECHAEXPEDICION', 'OFICINAEXPEDICIONLICENCIA', 'ESPROPIETARIOVEHICULO',\n",
      "       'MODELOVEHICULO', 'CAPACIDADCARGA', 'CANTIDADPASAJEROS',\n",
      "       'CLASEVEHICULO', 'SERVICIOVEHICULO', 'MODALIDADVEHICULO', 'RADIOACCION',\n",
      "       'POSSESEGURORESPONSABILIDAD', 'TIPOFALLA',\n",
      "       'VEHICULO_VIAJABA_CLASIFICADO', 'CON_BICICLETA', 'CON_CARGA',\n",
      "       'CON_EMBRIAGUEZ', 'CON_HUECOS', 'CON_MENORES', 'CON_MOTO', 'CON_PEATON',\n",
      "       'CON_PERSONA_MAYOR', 'CON_RUTAS', 'CON_TPI', 'CON_VELOCIDAD'],\n",
      "      dtype='object')\n",
      "------------------------ CONDUCTORES 2018 ------------------------\n",
      "Index(['KEYID', 'IDFORMULARIO', 'FECHA', 'MES_PROCESADO', 'DIA_PROCESADO',\n",
      "       'VEHICULO', 'EDAD_PROCESADA', 'LLEVACINTURON', 'LLEVACHALECO',\n",
      "       'LLEVACASCO', 'SEXO', 'GRAVEDAD_PROCESADA', 'CLASEOFICIAL',\n",
      "       'GRADOOFICIAL', 'UNIDADOFICIAL', 'ESTABASERVICIOOFICIAL',\n",
      "       'PORTALICENCIA', 'CODIGOCATEGORIALICENCIA', 'CODIGORESTRICCIONLICENCIA',\n",
      "       'FECHAEXPEDICION', 'OFICINAEXPEDICIONLICENCIA', 'ESPROPIETARIOVEHICULO',\n",
      "       'MODELOVEHICULO', 'CAPACIDADCARGA', 'CANTIDADPASAJEROS',\n",
      "       'CLASEVEHICULO', 'SERVICIOVEHICULO', 'MODALIDADVEHICULO', 'RADIOACCION',\n",
      "       'POSSESEGURORESPONSABILIDAD', 'TIPOFALLA',\n",
      "       'VEHICULO_VIAJABA_CLASIFICADO', 'CON_BICICLETA', 'CON_CARGA',\n",
      "       'CON_EMBRIAGUEZ', 'CON_HUECOS', 'CON_MENORES', 'CON_MOTO', 'CON_PEATON',\n",
      "       'CON_PERSONA_MAYOR', 'CON_RUTAS', 'CON_TPI', 'CON_VELOCIDAD'],\n",
      "      dtype='object')\n",
      "------------------------ CONDUCTORES 2019 ------------------------\n",
      "Index(['KEYID', 'IDFORMULARIO', 'FECHA', 'MES_PROCESADO', 'DIA_PROCESADO',\n",
      "       'VEHICULO', 'EDAD_PROCESADA', 'LLEVACINTURON', 'LLEVACHALECO',\n",
      "       'LLEVACASCO', 'SEXO', 'GRAVEDAD_PROCESADA', 'CLASEOFICIAL',\n",
      "       'GRADOOFICIAL', 'UNIDADOFICIAL', 'ESTABASERVICIOOFICIAL',\n",
      "       'PORTALICENCIA', 'CODIGOCATEGORIALICENCIA', 'CODIGORESTRICCIONLICENCIA',\n",
      "       'FECHAEXPEDICION', 'OFICINAEXPEDICIONLICENCIA', 'ESPROPIETARIOVEHICULO',\n",
      "       'MODELOVEHICULO', 'CAPACIDADCARGA', 'CANTIDADPASAJEROS',\n",
      "       'CLASEVEHICULO', 'SERVICIOVEHICULO', 'MODALIDADVEHICULO', 'RADIOACCION',\n",
      "       'POSSESEGURORESPONSABILIDAD', 'TIPOFALLA',\n",
      "       'VEHICULO_VIAJABA_CLASIFICADO', 'CON_BICICLETA', 'CON_CARGA',\n",
      "       'CON_EMBRIAGUEZ', 'CON_HUECOS', 'CON_MENORES', 'CON_MOTO', 'CON_PEATON',\n",
      "       'CON_PERSONA_MAYOR', 'CON_RUTAS', 'CON_TPI', 'CON_VELOCIDAD'],\n",
      "      dtype='object')\n"
     ]
    }
   ],
   "source": [
    "printmode('------------------------ CONDUCTORES 2017 ------------------------')\n",
    "printmode(sinc2017.columns)\n",
    "printmode('------------------------ CONDUCTORES 2018 ------------------------')\n",
    "printmode(sinc2018.columns)\n",
    "printmode('------------------------ CONDUCTORES 2019 ------------------------')\n",
    "printmode(sinc2019.columns)"
   ]
  },
  {
   "cell_type": "code",
   "execution_count": 34,
   "id": "8270caf5",
   "metadata": {},
   "outputs": [
    {
     "name": "stdout",
     "output_type": "stream",
     "text": [
      "------------------------ VICTIMAS 2017 ------------------------\n",
      "Index(['KEYID', 'IDFORMULARIO', 'FECHA', 'MES_PROCESADO', 'DIA_PROCESADO',\n",
      "       'NUMERO', 'EDAD_PROCESADA', 'LLEVACINTURON', 'LLEVACHALECO',\n",
      "       'LLEVACASCO', 'PEATON_PASAJERO', 'CODIGOVEHICULO', 'SEXO',\n",
      "       'GRAVEDAD_PROCESADA', 'CLASEOFICIAL', 'GRADOOFICIAL', 'UNIDADOFICIAL',\n",
      "       'ESTABAENSERVICIO', 'TRASLADADO_EN', 'VEHICULO_VIAJABA',\n",
      "       'VEHICULO_VIAJABA_CLASIFICADO', 'CON_BICICLETA', 'CON_CARGA',\n",
      "       'CON_EMBRIAGUEZ', 'CON_HUECOS', 'CON_MENORES', 'CON_MOTO', 'CON_PEATON',\n",
      "       'CON_PERSONA_MAYOR', 'CON_RUTAS', 'CON_TPI', 'CON_VELOCIDAD'],\n",
      "      dtype='object')\n",
      "------------------------ VICTIMAS 2018 ------------------------\n",
      "Index(['KEYID', 'IDFORMULARIO', 'FECHA', 'MES_PROCESADO', 'DIA_PROCESADO',\n",
      "       'NUMERO', 'EDAD_PROCESADA', 'LLEVACINTURON', 'LLEVACHALECO',\n",
      "       'LLEVACASCO', 'PEATON_PASAJERO', 'CODIGOVEHICULO', 'SEXO',\n",
      "       'GRAVEDAD_PROCESADA', 'CLASEOFICIAL', 'GRADOOFICIAL', 'UNIDADOFICIAL',\n",
      "       'ESTABAENSERVICIO', 'TRASLADADO_EN', 'VEHICULO_VIAJABA',\n",
      "       'VEHICULO_VIAJABA_CLASIFICADO', 'CON_BICICLETA', 'CON_CARGA',\n",
      "       'CON_EMBRIAGUEZ', 'CON_HUECOS', 'CON_MENORES', 'CON_MOTO', 'CON_PEATON',\n",
      "       'CON_PERSONA_MAYOR', 'CON_RUTAS', 'CON_TPI', 'CON_VELOCIDAD'],\n",
      "      dtype='object')\n",
      "------------------------ VICTIMAS 2019 ------------------------\n",
      "Index(['KEYID', 'IDFORMULARIO', 'FECHA', 'MES_PROCESADO', 'DIA_PROCESADO',\n",
      "       'NUMERO', 'EDAD_PROCESADA', 'LLEVACINTURON', 'LLEVACHALECO',\n",
      "       'LLEVACASCO', 'PEATON_PASAJERO', 'CODIGOVEHICULO', 'SEXO',\n",
      "       'GRAVEDAD_PROCESADA', 'CLASEOFICIAL', 'GRADOOFICIAL', 'UNIDADOFICIAL',\n",
      "       'ESTABAENSERVICIO', 'TRASLADADO_EN', 'VEHICULO_VIAJABA',\n",
      "       'VEHICULO_VIAJABA_CLASIFICADO', 'CON_BICICLETA', 'CON_CARGA',\n",
      "       'CON_EMBRIAGUEZ', 'CON_HUECOS', 'CON_MENORES', 'CON_MOTO', 'CON_PEATON',\n",
      "       'CON_PERSONA_MAYOR', 'CON_RUTAS', 'CON_TPI', 'CON_VELOCIDAD'],\n",
      "      dtype='object')\n"
     ]
    }
   ],
   "source": [
    "printmode('------------------------ VICTIMAS 2017 ------------------------')\n",
    "printmode(sinv2017.columns)\n",
    "printmode('------------------------ VICTIMAS 2018 ------------------------')\n",
    "printmode(sinv2018.columns)\n",
    "printmode('------------------------ VICTIMAS 2019 ------------------------')\n",
    "printmode(sinv2019.columns)"
   ]
  },
  {
   "cell_type": "markdown",
   "id": "3398f120",
   "metadata": {},
   "source": [
    "### Validación columnas por dataFrame."
   ]
  },
  {
   "cell_type": "code",
   "execution_count": 35,
   "id": "7f1362f3",
   "metadata": {},
   "outputs": [],
   "source": [
    "diccolumn = dict()"
   ]
  },
  {
   "cell_type": "code",
   "execution_count": 36,
   "id": "48346a03",
   "metadata": {},
   "outputs": [
    {
     "name": "stdout",
     "output_type": "stream",
     "text": [
      "Does not Exists COORDENADAX\n",
      "Does not Exists COORDENADAX\n",
      "Does not Exists COORDENADAY\n",
      "Does not Exists COORDENADAY\n",
      "Does not Exists ZONATRANSITO\n",
      "Does not Exists AREATRANSITO\n",
      "Does not Exists ZONATRANSITO\n",
      "Does not Exists AREATRANSITO\n"
     ]
    }
   ],
   "source": [
    "#valida las columnas que no los otros data\n",
    "diccolumn['2017a'] = validatecolumns(sina2017, sina2018, sina2019)\n",
    "diccolumn['2018a'] = validatecolumns(sina2018, sina2017, sina2019)\n",
    "diccolumn['2019a'] = validatecolumns(sina2019, sina2017, sina2018)"
   ]
  },
  {
   "cell_type": "code",
   "execution_count": 37,
   "id": "a2327e7a",
   "metadata": {},
   "outputs": [],
   "source": [
    "diccolumn['2017c'] = validatecolumns(sinc2017, sinc2018, sinc2019)\n",
    "diccolumn['2018c'] = validatecolumns(sinc2018, sinc2017, sinc2019)\n",
    "diccolumn['2019c'] = validatecolumns(sinc2019, sinc2017, sinc2018)"
   ]
  },
  {
   "cell_type": "code",
   "execution_count": 38,
   "id": "7893ee24",
   "metadata": {},
   "outputs": [],
   "source": [
    "diccolumn['2017v'] = validatecolumns(sinv2017, sinv2018, sinv2019)\n",
    "diccolumn['2018v'] = validatecolumns(sinv2018, sinv2017, sinv2019)\n",
    "diccolumn['2019v'] = validatecolumns(sinv2019, sinv2017, sinv2018)"
   ]
  },
  {
   "cell_type": "code",
   "execution_count": 39,
   "id": "a93e094b",
   "metadata": {},
   "outputs": [
    {
     "name": "stdout",
     "output_type": "stream",
     "text": [
      "{'2017a': {'COORDENADAY', 'COORDENADAX'}, '2018a': {'AREATRANSITO', 'ZONATRANSITO'}, '2019a': {'AREATRANSITO', 'ZONATRANSITO'}, '2017c': set(), '2018c': set(), '2019c': set(), '2017v': set(), '2018v': set(), '2019v': set()}\n"
     ]
    }
   ],
   "source": [
    "printmode(diccolumn)"
   ]
  },
  {
   "cell_type": "markdown",
   "id": "b28cc316",
   "metadata": {},
   "source": [
    "### Elimina columnas no existentes por dataframe."
   ]
  },
  {
   "cell_type": "code",
   "execution_count": 40,
   "id": "86275426",
   "metadata": {},
   "outputs": [
    {
     "name": "stdout",
     "output_type": "stream",
     "text": [
      "(35170, 51)\n",
      "(36953, 51)\n",
      "(34990, 51)\n"
     ]
    }
   ],
   "source": [
    "printmode(sina2017.shape)\n",
    "printmode(sina2018.shape)\n",
    "printmode(sina2019.shape)"
   ]
  },
  {
   "cell_type": "code",
   "execution_count": 41,
   "id": "1b83b4cd",
   "metadata": {},
   "outputs": [],
   "source": [
    "sin17 = sina2017.copy()\n",
    "sin18 = sina2018.copy()\n",
    "sin19 = sina2019.copy()"
   ]
  },
  {
   "cell_type": "code",
   "execution_count": 42,
   "id": "b31207bb",
   "metadata": {},
   "outputs": [],
   "source": [
    "for key,value in diccolumn.items():\n",
    "    if len(value) != 0:\n",
    "        if key == '2017a':\n",
    "            sina2017 = deletecolumnsbyiterable(sina2017,value)\n",
    "        if key == '2018a':\n",
    "            sina2018 = deletecolumnsbyiterable(sina2018,value)\n",
    "        if key == '2019a':\n",
    "            sina2019 = deletecolumnsbyiterable(sina2019,value)"
   ]
  },
  {
   "cell_type": "code",
   "execution_count": 43,
   "id": "ab50966d",
   "metadata": {},
   "outputs": [
    {
     "name": "stdout",
     "output_type": "stream",
     "text": [
      "(35170, 49)\n",
      "(36953, 49)\n",
      "(34990, 49)\n"
     ]
    }
   ],
   "source": [
    "printmode(sina2017.shape)\n",
    "printmode(sina2018.shape)\n",
    "printmode(sina2019.shape)"
   ]
  },
  {
   "cell_type": "markdown",
   "id": "53326bd7",
   "metadata": {},
   "source": [
    "### Se unen dataframe por año y tipo"
   ]
  },
  {
   "cell_type": "code",
   "execution_count": 185,
   "id": "f6547e7f",
   "metadata": {},
   "outputs": [],
   "source": [
    "siniacci = pd.concat([sina2017,sina2018,sina2019])"
   ]
  },
  {
   "cell_type": "code",
   "execution_count": 186,
   "id": "e0a12a2c",
   "metadata": {},
   "outputs": [],
   "source": [
    "sinicond = pd.concat([sinc2017,sinc2018,sinc2019])"
   ]
  },
  {
   "cell_type": "code",
   "execution_count": 187,
   "id": "511782ac",
   "metadata": {},
   "outputs": [],
   "source": [
    "sinivict = pd.concat([sinv2017,sinv2018,sinv2019])"
   ]
  },
  {
   "cell_type": "code",
   "execution_count": 188,
   "id": "b8e1dfd9",
   "metadata": {},
   "outputs": [
    {
     "name": "stdout",
     "output_type": "stream",
     "text": [
      "(107113, 49)\n",
      "(203191, 43)\n",
      "(27933, 32)\n"
     ]
    }
   ],
   "source": [
    "printmode(siniacci.shape)\n",
    "printmode(sinicond.shape)\n",
    "printmode(sinivict.shape)"
   ]
  },
  {
   "cell_type": "markdown",
   "id": "376ecb37",
   "metadata": {},
   "source": [
    "### Unificacion de columnas al dataframe principal"
   ]
  },
  {
   "cell_type": "code",
   "execution_count": 189,
   "id": "232b07a6",
   "metadata": {},
   "outputs": [
    {
     "name": "stdout",
     "output_type": "stream",
     "text": [
      "                KEYID  CONDUCTORES\n",
      "0             1352018            1\n",
      "1             1912017            2\n",
      "2             2412017            2\n",
      "3             2812019            2\n",
      "4             3112019            2\n",
      "...               ...          ...\n",
      "106972  3694931122018            2\n",
      "106973  3695031122018            2\n",
      "106974  3695130122018            1\n",
      "106975  3695230122018            2\n",
      "106976  3695331122018            2\n",
      "\n",
      "[106977 rows x 2 columns]\n"
     ]
    }
   ],
   "source": [
    "#Se agrupa los conductores por primarykey\n",
    "sinicondgpcount = sinicond.groupby(['KEYID']).size().reset_index(name='CONDUCTORES')\n",
    "printmode(sinicondgpcount)"
   ]
  },
  {
   "cell_type": "markdown",
   "id": "bda25ddc",
   "metadata": {},
   "source": [
    "Se crea un nuevo dataframe con las columnas que integran al dataframe de sinicond"
   ]
  },
  {
   "cell_type": "code",
   "execution_count": 191,
   "id": "cc9beef5",
   "metadata": {},
   "outputs": [],
   "source": [
    "siniaccichild = siniacci[['KEYID','GRAVEDADCOD','CLASECODIGO','CHOQUECODIGO','DIRECCION','TIPOVIA1','TIPOVIA2','LOCALIDAD','HORAOCURRENCIA','HORA_PROCESADA','TIPODISENNO']]"
   ]
  },
  {
   "cell_type": "code",
   "execution_count": 192,
   "id": "5a72719e",
   "metadata": {},
   "outputs": [
    {
     "name": "stdout",
     "output_type": "stream",
     "text": [
      "(107113, 11)\n"
     ]
    }
   ],
   "source": [
    "printmode(siniaccichild.shape)"
   ]
  },
  {
   "cell_type": "code",
   "execution_count": 154,
   "id": "cf914b08",
   "metadata": {},
   "outputs": [],
   "source": [
    "for index, row in sinicond.iterrows():\n",
    "    if row['KEYID'] not in siniaccichild['KEYID'].values:\n",
    "        siniaccichild.drop([siniaccichild[siniaccichild['KEYID'] == row['KEYID']]].index, inplace=True)"
   ]
  },
  {
   "cell_type": "code",
   "execution_count": 193,
   "id": "dd3aa448",
   "metadata": {},
   "outputs": [
    {
     "name": "stdout",
     "output_type": "stream",
     "text": [
      "(107113, 11)\n"
     ]
    }
   ],
   "source": [
    "printmode(siniaccichild.shape)"
   ]
  },
  {
   "cell_type": "code",
   "execution_count": 180,
   "id": "d3c6dd4f",
   "metadata": {},
   "outputs": [
    {
     "name": "stdout",
     "output_type": "stream",
     "text": [
      "1min 44s ± 54.4 ms per loop (mean ± std. dev. of 7 runs, 1 loop each)\n"
     ]
    }
   ],
   "source": [
    "\"\"\"\n",
    "lsnewdata = []\n",
    "for index,row in sinicond.iterrows():\n",
    "    lsnewdata.append(siniaccichild[siniaccichild['KEYID']==row['KEYID']]['GRAVEDADCOD'].values[0])\n",
    "\"\"\""
   ]
  },
  {
   "cell_type": "code",
   "execution_count": 195,
   "id": "0c031240",
   "metadata": {},
   "outputs": [],
   "source": [
    "sinicond.insert(len(sinicond.columns),'GRAVEDADCOD',[siniaccichild[siniaccichild['KEYID']==row['KEYID']]['GRAVEDADCOD'].values[0] for index,row in sinicond.iterrows()])"
   ]
  },
  {
   "cell_type": "code",
   "execution_count": 199,
   "id": "f71267b5",
   "metadata": {},
   "outputs": [],
   "source": [
    "sinicond.insert(len(sinicond.columns),'CLASECODIGO',[siniaccichild[siniaccichild['KEYID']==row['KEYID']]['CLASECODIGO'].values[0] for index,row in sinicond.iterrows()])"
   ]
  },
  {
   "cell_type": "code",
   "execution_count": 200,
   "id": "e258aedf",
   "metadata": {},
   "outputs": [],
   "source": [
    "sinicond.insert(len(sinicond.columns),'CHOQUECODIGO',[siniaccichild[siniaccichild['KEYID']==row['KEYID']]['CHOQUECODIGO'].values[0] for index,row in sinicond.iterrows()])"
   ]
  },
  {
   "cell_type": "code",
   "execution_count": 201,
   "id": "80dfc135",
   "metadata": {},
   "outputs": [],
   "source": [
    "sinicond.insert(len(sinicond.columns),'DIRECCION',[siniaccichild[siniaccichild['KEYID']==row['KEYID']]['DIRECCION'].values[0] for index,row in sinicond.iterrows()])"
   ]
  },
  {
   "cell_type": "code",
   "execution_count": 203,
   "id": "b55a2f82",
   "metadata": {},
   "outputs": [],
   "source": [
    "sinicond.insert(len(sinicond.columns),'LOCALIDAD',[siniaccichild[siniaccichild['KEYID']==row['KEYID']]['LOCALIDAD'].values[0] for index,row in sinicond.iterrows()])"
   ]
  },
  {
   "cell_type": "code",
   "execution_count": 205,
   "id": "ccd7f1ec",
   "metadata": {},
   "outputs": [],
   "source": [
    "sinicond.insert(len(sinicond.columns),'HORA_PROCESADA',[siniaccichild[siniaccichild['KEYID']==row['KEYID']]['HORA_PROCESADA'].values[0] for index,row in sinicond.iterrows()])"
   ]
  },
  {
   "cell_type": "code",
   "execution_count": 206,
   "id": "367ab54b",
   "metadata": {},
   "outputs": [],
   "source": [
    "sinicond.insert(len(sinicond.columns),'TIPODISENNO',[siniaccichild[siniaccichild['KEYID']==row['KEYID']]['TIPODISENNO'].values[0] for index,row in sinicond.iterrows()])"
   ]
  },
  {
   "cell_type": "code",
   "execution_count": 198,
   "id": "5bb7bdbb",
   "metadata": {},
   "outputs": [
    {
     "data": {
      "text/plain": [
       "3    142959\n",
       "2     57965\n",
       "1      2267\n",
       "Name: GRAVEDADCOD, dtype: int64"
      ]
     },
     "execution_count": 198,
     "metadata": {},
     "output_type": "execute_result"
    }
   ],
   "source": [
    "sinicond['GRAVEDADCOD'].value_counts(dropna=False)"
   ]
  },
  {
   "cell_type": "code",
   "execution_count": 207,
   "id": "762fddbb",
   "metadata": {},
   "outputs": [],
   "source": [
    "sinicond.to_csv('siniestros.csv')"
   ]
  },
  {
   "cell_type": "code",
   "execution_count": null,
   "id": "5e1b8747",
   "metadata": {},
   "outputs": [],
   "source": [
    "del(sinicond['TIPOVIA1'])\n",
    "del(sinicond['TIPOVIA2'])\n",
    "del(sinicond['HORAOCURRENCIA'])"
   ]
  },
  {
   "cell_type": "code",
   "execution_count": null,
   "id": "40b6745c",
   "metadata": {},
   "outputs": [],
   "source": [
    "#siniacci.insert(0,\"CANT_CONDUCTORES\",  [ sinicondgpcount[sinicondgpcount['KEYID'] == row['KEYID']].values[0] for index, row in siniacci.iterrows() if row['KEYID'] in sinicondgpcount['KEYID'].values])"
   ]
  },
  {
   "cell_type": "code",
   "execution_count": 126,
   "id": "fc8b66fb",
   "metadata": {},
   "outputs": [
    {
     "data": {
      "text/plain": [
       "'Tramo de Via'"
      ]
     },
     "execution_count": 126,
     "metadata": {},
     "output_type": "execute_result"
    }
   ],
   "source": [
    "siniacci[siniacci['KEYID']== 3695130122018]['TIPODISENNO'].values[0]"
   ]
  },
  {
   "cell_type": "code",
   "execution_count": 102,
   "id": "a2290faf",
   "metadata": {},
   "outputs": [
    {
     "data": {
      "text/plain": [
       "S      149768\n",
       "NaN     39202\n",
       "N       14220\n",
       "0           1\n",
       "Name: LLEVACINTURON, dtype: int64"
      ]
     },
     "execution_count": 102,
     "metadata": {},
     "output_type": "execute_result"
    }
   ],
   "source": [
    "nanpruebabcinto = sinicond[\"LLEVACINTURON\"].value_counts(dropna=False)\n",
    "nanpruebabcinto"
   ]
  },
  {
   "cell_type": "code",
   "execution_count": 103,
   "id": "a62021a2",
   "metadata": {},
   "outputs": [
    {
     "data": {
      "text/plain": [
       "NaN    168467\n",
       "S       25457\n",
       "N        9267\n",
       "Name: LLEVACHALECO, dtype: int64"
      ]
     },
     "execution_count": 103,
     "metadata": {},
     "output_type": "execute_result"
    }
   ],
   "source": [
    "nanpruebachaleco = sinicond[\"LLEVACHALECO\"].value_counts(dropna=False)\n",
    "nanpruebachaleco"
   ]
  },
  {
   "cell_type": "code",
   "execution_count": 104,
   "id": "d6bcb167",
   "metadata": {},
   "outputs": [
    {
     "data": {
      "text/plain": [
       "NaN    168645\n",
       "S       29520\n",
       "N        5026\n",
       "Name: LLEVACASCO, dtype: int64"
      ]
     },
     "execution_count": 104,
     "metadata": {},
     "output_type": "execute_result"
    }
   ],
   "source": [
    "nanpruebacasco = sinicond[\"LLEVACASCO\"].value_counts(dropna=False)\n",
    "nanpruebacasco"
   ]
  },
  {
   "cell_type": "code",
   "execution_count": 107,
   "id": "66de7f32",
   "metadata": {},
   "outputs": [
    {
     "data": {
      "text/plain": [
       "34635.0"
      ]
     },
     "execution_count": 107,
     "metadata": {},
     "output_type": "execute_result"
    }
   ],
   "source": [
    "((25457+9267)+(29520+5026))/2"
   ]
  },
  {
   "cell_type": "code",
   "execution_count": null,
   "id": "4e44dc10",
   "metadata": {},
   "outputs": [],
   "source": [
    "sinicond['']"
   ]
  }
 ],
 "metadata": {
  "kernelspec": {
   "display_name": "Python 3",
   "language": "python",
   "name": "python3"
  },
  "language_info": {
   "codemirror_mode": {
    "name": "ipython",
    "version": 3
   },
   "file_extension": ".py",
   "mimetype": "text/x-python",
   "name": "python",
   "nbconvert_exporter": "python",
   "pygments_lexer": "ipython3",
   "version": "3.8.10"
  }
 },
 "nbformat": 4,
 "nbformat_minor": 5
}
