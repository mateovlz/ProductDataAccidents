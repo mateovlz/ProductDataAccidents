{
 "cells": [
  {
   "cell_type": "markdown",
   "id": "caf68e56",
   "metadata": {},
   "source": [
    "## Preparación de los datos.\n",
    "\n",
    "El proposito de este notebook es recolectar los datasets que se utilizaran en este estudio y generar un dataset limpio para realizar analisis."
   ]
  },
  {
   "cell_type": "code",
   "execution_count": null,
   "id": "012dfd59",
   "metadata": {},
   "outputs": [],
   "source": [
    "# Importamos las librerias para el manejo de datasets\n",
    "import pandas as pd\n",
    "import numpy as np\n",
    "import os"
   ]
  },
  {
   "cell_type": "markdown",
   "id": "3cb96c59",
   "metadata": {},
   "source": [
    "### Métodos Preparación Datos."
   ]
  },
  {
   "cell_type": "code",
   "execution_count": null,
   "id": "fadec98f",
   "metadata": {},
   "outputs": [],
   "source": [
    "MODE_RUN = 'DEV' # Modo de ejecucion del notebook"
   ]
  },
  {
   "cell_type": "code",
   "execution_count": null,
   "id": "404cc591",
   "metadata": {},
   "outputs": [],
   "source": [
    "def printmode(value, mode=MODE_RUN):\n",
    "    if mode == 'DEV':\n",
    "        print(value)"
   ]
  },
  {
   "cell_type": "code",
   "execution_count": null,
   "id": "20b70ae6",
   "metadata": {},
   "outputs": [],
   "source": [
    "def uppercasecolumns(dataframe):\n",
    "    for column in dataframe.columns:\n",
    "        dataframe.rename(columns = {column:column.upper()}, inplace = True)"
   ]
  },
  {
   "cell_type": "code",
   "execution_count": null,
   "id": "0feff9e5",
   "metadata": {},
   "outputs": [],
   "source": [
    "def createprimarykey(dataframe):\n",
    "    lskeys = []\n",
    "    for index, row in dataframe.iterrows():\n",
    "        fecha = row['FECHA']\n",
    "        fechaDate = fecha.to_pydatetime()\n",
    "        keyid = str(row['IDFORMULARIO']) + str(fechaDate.day) + str(fechaDate.month) + str(fechaDate.year)\n",
    "        lskeys.append(int(keyid))\n",
    "    return dataframe.insert(0,\"KEYID\", lskeys)"
   ]
  },
  {
   "cell_type": "code",
   "execution_count": null,
   "id": "a0fbd826",
   "metadata": {},
   "outputs": [],
   "source": [
    "def renamecolumn(dataframe,columnName,columnNameChanged):\n",
    "    dataframe.rename(columns= {columnName: columnNameChanged.upper() }, inplace = True)"
   ]
  },
  {
   "cell_type": "code",
   "execution_count": null,
   "id": "d39d8443",
   "metadata": {},
   "outputs": [],
   "source": [
    "def validatecolumns(dfprincipal, dfcomp1, dfcomp2):\n",
    "    stcolumns = set()\n",
    "    for column in dfprincipal.columns:\n",
    "        if column not in dfcomp1.columns:\n",
    "            stcolumns.add(column)\n",
    "            printmode(f'Does not Exists {column}')\n",
    "        else:\n",
    "            if type(dfprincipal[column]) != type(dfcomp1[column]):\n",
    "                printmode('Different')\n",
    "        if column not in dfcomp2.columns:\n",
    "            stcolumns.add(column)\n",
    "            printmode(f'Does not Exists {column}')\n",
    "        else:\n",
    "            if type(dfprincipal[column]) != type(dfcomp2[column]):\n",
    "                printmode('Different')\n",
    "    return stcolumns"
   ]
  },
  {
   "cell_type": "code",
   "execution_count": null,
   "id": "ad50d38b",
   "metadata": {},
   "outputs": [],
   "source": [
    "def deletecolumnsbyiterable(dataframe,columns):\n",
    "    for column in columns:\n",
    "        del dataframe[column]\n",
    "    return dataframe"
   ]
  },
  {
   "cell_type": "markdown",
   "id": "48043844",
   "metadata": {},
   "source": [
    "### Extracción de DataSets A DataFrame."
   ]
  },
  {
   "cell_type": "code",
   "execution_count": null,
   "id": "c2fe674a",
   "metadata": {},
   "outputs": [],
   "source": [
    "# !wget -O siniestros_2017.xlsx https://datosabiertos.bogota.gov.co/dataset/8aa2f79c-5d32-4e6a-8eb3-a5af0ac4c172/resource/072931b0-38fb-4a29-92dd-c7302d930be3/download/base_2018.xlsx"
   ]
  },
  {
   "cell_type": "code",
   "execution_count": null,
   "id": "564ecc98",
   "metadata": {},
   "outputs": [],
   "source": [
    "#sina2017 = pd.read_excel('https://datosabiertos.bogota.gov.co/dataset/8aa2f79c-5d32-4e6a-8eb3-a5af0ac4c172/resource/236065f3-93e0-43f1-a1ba-e25d5529cbed/download/base_2017.xlsx', sheet_name ='ACCIDENTES')\n",
    "sina2017 = pd.read_excel('Data/Base_2017.xlsx',sheet_name ='ACCIDENTES')"
   ]
  },
  {
   "cell_type": "code",
   "execution_count": null,
   "id": "18880989",
   "metadata": {},
   "outputs": [],
   "source": [
    "#sinc2017 = pd.read_excel('https://datosabiertos.bogota.gov.co/dataset/8aa2f79c-5d32-4e6a-8eb3-a5af0ac4c172/resource/236065f3-93e0-43f1-a1ba-e25d5529cbed/download/base_2017.xlsx', sheet_name ='CONDUCTORES]')\n",
    "sinc2017 = pd.read_excel('Data/Base_2017.xlsx',sheet_name ='CONDUCTORES')"
   ]
  },
  {
   "cell_type": "code",
   "execution_count": null,
   "id": "9f860084",
   "metadata": {},
   "outputs": [],
   "source": [
    "#sinv2017 = pd.read_excel('https://datosabiertos.bogota.gov.co/dataset/8aa2f79c-5d32-4e6a-8eb3-a5af0ac4c172/resource/236065f3-93e0-43f1-a1ba-e25d5529cbed/download/base_2017.xlsx', sheet_name ='VICTIMAS')\n",
    "sinv2017 = pd.read_excel('Data/Base_2017.xlsx',sheet_name ='VICTIMAS')"
   ]
  },
  {
   "cell_type": "code",
   "execution_count": null,
   "id": "8b03a8f0",
   "metadata": {},
   "outputs": [],
   "source": [
    "#sina2018 = pd.read_excel('https://datosabiertos.bogota.gov.co/dataset/8aa2f79c-5d32-4e6a-8eb3-a5af0ac4c172/resource/072931b0-38fb-4a29-92dd-c7302d930be3/download/base_2018.xlsx', sheet_name ='ACCIDENTES')\n",
    "sina2018 = pd.read_excel('Data/Base_2018.xlsx',sheet_name ='ACCIDENTES')"
   ]
  },
  {
   "cell_type": "code",
   "execution_count": null,
   "id": "2a063697",
   "metadata": {},
   "outputs": [],
   "source": [
    "#sinc2018 = pd.read_excel('https://datosabiertos.bogota.gov.co/dataset/8aa2f79c-5d32-4e6a-8eb3-a5af0ac4c172/resource/072931b0-38fb-4a29-92dd-c7302d930be3/download/base_2018.xlsx', sheet_name ='CONDUCTORES')\n",
    "sinc2018 = pd.read_excel('Data/Base_2018.xlsx',sheet_name ='CONDUCTORES')"
   ]
  },
  {
   "cell_type": "code",
   "execution_count": null,
   "id": "fd4e7b5a",
   "metadata": {},
   "outputs": [],
   "source": [
    "#sinv2018 = pd.read_excel('https://datosabiertos.bogota.gov.co/dataset/8aa2f79c-5d32-4e6a-8eb3-a5af0ac4c172/resource/072931b0-38fb-4a29-92dd-c7302d930be3/download/base_2018.xlsx', sheet_name ='VICTIMAS')\n",
    "sinv2018 = pd.read_excel('Data/Base_2018.xlsx',sheet_name ='VICTIMAS')"
   ]
  },
  {
   "cell_type": "code",
   "execution_count": null,
   "id": "f92b6982",
   "metadata": {},
   "outputs": [],
   "source": [
    "sina2019 = pd.read_excel('Data/Base_2019.xlsx',sheet_name ='ACCIDENTES')"
   ]
  },
  {
   "cell_type": "code",
   "execution_count": null,
   "id": "4fb94b92",
   "metadata": {},
   "outputs": [],
   "source": [
    "sinc2019 = pd.read_excel('Data/Base_2019.xlsx',sheet_name ='CONDUCTORES')"
   ]
  },
  {
   "cell_type": "code",
   "execution_count": null,
   "id": "740a9181",
   "metadata": {},
   "outputs": [],
   "source": [
    "sinv2019 = pd.read_excel('Data/Base_2019.xlsx',sheet_name ='VICTIMAS')"
   ]
  },
  {
   "cell_type": "markdown",
   "id": "6c941bfe",
   "metadata": {},
   "source": [
    "### Conversión  Nombres Columnas Por DataFrame."
   ]
  },
  {
   "cell_type": "code",
   "execution_count": null,
   "id": "b52c3737",
   "metadata": {},
   "outputs": [],
   "source": [
    "# Todos los nombres de las columnas se volveran UPPERCASE\n",
    "uppercasecolumns(sina2017)\n",
    "uppercasecolumns(sinc2017)\n",
    "uppercasecolumns(sinv2017)"
   ]
  },
  {
   "cell_type": "code",
   "execution_count": null,
   "id": "e5f08660",
   "metadata": {},
   "outputs": [],
   "source": [
    "# Todos los nombres de las columnas se volveran UPPERCASE\n",
    "uppercasecolumns(sina2018)\n",
    "uppercasecolumns(sinc2018)\n",
    "uppercasecolumns(sinv2018)"
   ]
  },
  {
   "cell_type": "code",
   "execution_count": null,
   "id": "1a509a7a",
   "metadata": {},
   "outputs": [],
   "source": [
    "# Todos los nombres de las columnas se volveran UPPERCASE\n",
    "uppercasecolumns(sina2019)\n",
    "uppercasecolumns(sinc2019)\n",
    "uppercasecolumns(sinv2019)"
   ]
  },
  {
   "cell_type": "markdown",
   "id": "fea84542",
   "metadata": {},
   "source": [
    "Se renombra el campo ID de los dataframes del 2017 para tener un mismo formato para la creacion de las primary keys de los cada dataframe"
   ]
  },
  {
   "cell_type": "code",
   "execution_count": null,
   "id": "fe9776e0",
   "metadata": {},
   "outputs": [],
   "source": [
    "renamecolumn(sina2017,'ID','IDFORMULARIO')\n",
    "renamecolumn(sinc2017,'ID','IDFORMULARIO')\n",
    "renamecolumn(sinv2017,'ID','IDFORMULARIO')"
   ]
  },
  {
   "cell_type": "code",
   "execution_count": null,
   "id": "b8b5e127",
   "metadata": {},
   "outputs": [],
   "source": [
    "printmode('------------------------ ACCIDENTES 2017 ------------------------')\n",
    "printmode(sina2017.columns)\n",
    "printmode('------------------------ ACCIDENTES 2018 ------------------------')\n",
    "printmode(sina2018.columns)\n",
    "printmode('------------------------ ACCIDENTES 2019 ------------------------')\n",
    "printmode(sina2019.columns)"
   ]
  },
  {
   "cell_type": "code",
   "execution_count": null,
   "id": "9e44e6f6",
   "metadata": {},
   "outputs": [],
   "source": [
    "printmode('------------------------ CONDUCTORES 2017 ------------------------')\n",
    "printmode(sinc2017.columns)\n",
    "printmode('------------------------ CONDUCTORES 2018 ------------------------')\n",
    "printmode(sinc2018.columns)\n",
    "printmode('------------------------ CONDUCTORES 2019 ------------------------')\n",
    "printmode(sinc2019.columns)"
   ]
  },
  {
   "cell_type": "code",
   "execution_count": null,
   "id": "7f0c3f1d",
   "metadata": {},
   "outputs": [],
   "source": [
    "printmode('------------------------ VICTIMAS 2017 ------------------------')\n",
    "printmode(sinv2017.columns)\n",
    "printmode('------------------------ VICTIMAS 2018 ------------------------')\n",
    "printmode(sinv2018.columns)\n",
    "printmode('------------------------ VICTIMAS 2019 ------------------------')\n",
    "printmode(sinv2019.columns)"
   ]
  },
  {
   "cell_type": "code",
   "execution_count": null,
   "id": "10b30882",
   "metadata": {},
   "outputs": [],
   "source": [
    "\"\"\"del sina2017['KEYID']\n",
    "del sinc2017['KEYID']\n",
    "del sinv2017['KEYID']\n",
    "del sina2018['KEYID']\n",
    "del sinc2018['KEYID']\n",
    "del sinv2018['KEYID']\n",
    "del sina2019['KEYID']\n",
    "del sinc2019['KEYID']\n",
    "del sinv2019['KEYID']\"\"\""
   ]
  },
  {
   "cell_type": "code",
   "execution_count": null,
   "id": "89bfa3bd",
   "metadata": {},
   "outputs": [],
   "source": [
    "printmode(sina2017.shape)\n",
    "printmode(sina2018.shape)\n",
    "printmode(sina2019.shape)"
   ]
  },
  {
   "cell_type": "markdown",
   "id": "c7c6d46a",
   "metadata": {},
   "source": [
    "### Creación Primary KeyId Por DataFrame."
   ]
  },
  {
   "cell_type": "code",
   "execution_count": null,
   "id": "b5ffc93f",
   "metadata": {},
   "outputs": [],
   "source": [
    "createprimarykey(sina2017)\n",
    "createprimarykey(sina2018)\n",
    "createprimarykey(sina2019)"
   ]
  },
  {
   "cell_type": "code",
   "execution_count": null,
   "id": "73819aa4",
   "metadata": {},
   "outputs": [],
   "source": [
    "createprimarykey(sinc2017)\n",
    "createprimarykey(sinc2018)\n",
    "createprimarykey(sinc2019)"
   ]
  },
  {
   "cell_type": "code",
   "execution_count": null,
   "id": "d99f3ffa",
   "metadata": {},
   "outputs": [],
   "source": [
    "createprimarykey(sinv2017)\n",
    "createprimarykey(sinv2018)\n",
    "createprimarykey(sinv2019)"
   ]
  },
  {
   "cell_type": "code",
   "execution_count": null,
   "id": "da5d3675",
   "metadata": {},
   "outputs": [],
   "source": [
    "printmode('------------------------ ACCIDENTES 2017 ------------------------')\n",
    "printmode(sina2017.columns)\n",
    "printmode('------------------------ ACCIDENTES 2018 ------------------------')\n",
    "printmode(sina2018.columns)\n",
    "printmode('------------------------ ACCIDENTES 2019 ------------------------')\n",
    "printmode(sina2019.columns)"
   ]
  },
  {
   "cell_type": "code",
   "execution_count": null,
   "id": "0c043fd8",
   "metadata": {},
   "outputs": [],
   "source": [
    "printmode('------------------------ CONDUCTORES 2017 ------------------------')\n",
    "printmode(sinc2017.columns)\n",
    "printmode('------------------------ CONDUCTORES 2018 ------------------------')\n",
    "printmode(sinc2018.columns)\n",
    "printmode('------------------------ CONDUCTORES 2019 ------------------------')\n",
    "printmode(sinc2019.columns)"
   ]
  },
  {
   "cell_type": "code",
   "execution_count": null,
   "id": "8270caf5",
   "metadata": {},
   "outputs": [],
   "source": [
    "printmode('------------------------ VICTIMAS 2017 ------------------------')\n",
    "printmode(sinv2017.columns)\n",
    "printmode('------------------------ VICTIMAS 2018 ------------------------')\n",
    "printmode(sinv2018.columns)\n",
    "printmode('------------------------ VICTIMAS 2019 ------------------------')\n",
    "printmode(sinv2019.columns)"
   ]
  },
  {
   "cell_type": "markdown",
   "id": "3398f120",
   "metadata": {},
   "source": [
    "### Validación Columnas por DataFrame."
   ]
  },
  {
   "cell_type": "code",
   "execution_count": null,
   "id": "7f1362f3",
   "metadata": {},
   "outputs": [],
   "source": [
    "diccolumn = dict()"
   ]
  },
  {
   "cell_type": "code",
   "execution_count": null,
   "id": "48346a03",
   "metadata": {},
   "outputs": [],
   "source": [
    "#valida las columnas que no los otros data\n",
    "diccolumn['2017a'] = validatecolumns(sina2017, sina2018, sina2019)\n",
    "diccolumn['2018a'] = validatecolumns(sina2018, sina2017, sina2019)\n",
    "diccolumn['2019a'] = validatecolumns(sina2019, sina2017, sina2018)"
   ]
  },
  {
   "cell_type": "code",
   "execution_count": null,
   "id": "a2327e7a",
   "metadata": {},
   "outputs": [],
   "source": [
    "diccolumn['2017c'] = validatecolumns(sinc2017, sinc2018, sinc2019)\n",
    "diccolumn['2018c'] = validatecolumns(sinc2018, sinc2017, sinc2019)\n",
    "diccolumn['2019c'] = validatecolumns(sinc2019, sinc2017, sinc2018)"
   ]
  },
  {
   "cell_type": "code",
   "execution_count": null,
   "id": "7893ee24",
   "metadata": {},
   "outputs": [],
   "source": [
    "diccolumn['2017v'] = validatecolumns(sinv2017, sinv2018, sinv2019)\n",
    "diccolumn['2018v'] = validatecolumns(sinv2018, sinv2017, sinv2019)\n",
    "diccolumn['2019v'] = validatecolumns(sinv2019, sinv2017, sinv2018)"
   ]
  },
  {
   "cell_type": "code",
   "execution_count": null,
   "id": "a93e094b",
   "metadata": {},
   "outputs": [],
   "source": [
    "printmode(diccolumn)"
   ]
  },
  {
   "cell_type": "markdown",
   "id": "b28cc316",
   "metadata": {},
   "source": [
    "### Elimina Columnas No Existentes Por DataFrame."
   ]
  },
  {
   "cell_type": "code",
   "execution_count": null,
   "id": "86275426",
   "metadata": {},
   "outputs": [],
   "source": [
    "printmode(sina2017.shape)\n",
    "printmode(sina2018.shape)\n",
    "printmode(sina2019.shape)"
   ]
  },
  {
   "cell_type": "code",
   "execution_count": null,
   "id": "1b83b4cd",
   "metadata": {},
   "outputs": [],
   "source": [
    "sin17 = sina2017.copy()\n",
    "sin18 = sina2018.copy()\n",
    "sin19 = sina2019.copy()"
   ]
  },
  {
   "cell_type": "code",
   "execution_count": null,
   "id": "b31207bb",
   "metadata": {},
   "outputs": [],
   "source": [
    "for key,value in diccolumn.items():\n",
    "    if len(value) != 0:\n",
    "        if key == '2017a':\n",
    "            sina2017 = deletecolumnsbyiterable(sina2017,value)\n",
    "        if key == '2018a':\n",
    "            sina2018 = deletecolumnsbyiterable(sina2018,value)\n",
    "        if key == '2019a':\n",
    "            sina2019 = deletecolumnsbyiterable(sina2019,value)"
   ]
  },
  {
   "cell_type": "code",
   "execution_count": null,
   "id": "ab50966d",
   "metadata": {},
   "outputs": [],
   "source": [
    "printmode(sina2017.shape)\n",
    "printmode(sina2018.shape)\n",
    "printmode(sina2019.shape)"
   ]
  },
  {
   "cell_type": "markdown",
   "id": "53326bd7",
   "metadata": {},
   "source": [
    "### Se Unen DataFrame Por Año y Tipo"
   ]
  },
  {
   "cell_type": "code",
   "execution_count": null,
   "id": "f6547e7f",
   "metadata": {},
   "outputs": [],
   "source": [
    "siniacci = pd.concat([sina2017,sina2018,sina2019])"
   ]
  },
  {
   "cell_type": "code",
   "execution_count": null,
   "id": "e0a12a2c",
   "metadata": {},
   "outputs": [],
   "source": [
    "sinicond = pd.concat([sinc2017,sinc2018,sinc2019])"
   ]
  },
  {
   "cell_type": "code",
   "execution_count": null,
   "id": "511782ac",
   "metadata": {},
   "outputs": [],
   "source": [
    "sinivict = pd.concat([sinv2017,sinv2018,sinv2019])"
   ]
  },
  {
   "cell_type": "code",
   "execution_count": null,
   "id": "b8e1dfd9",
   "metadata": {},
   "outputs": [],
   "source": [
    "printmode(siniacci.shape)\n",
    "printmode(sinicond.shape)\n",
    "printmode(sinivict.shape)"
   ]
  },
  {
   "cell_type": "code",
   "execution_count": null,
   "id": "34930b76",
   "metadata": {},
   "outputs": [],
   "source": [
    "printmode(sinicond.columns)"
   ]
  },
  {
   "cell_type": "code",
   "execution_count": null,
   "id": "232b07a6",
   "metadata": {},
   "outputs": [],
   "source": [
    "sinicondgpcount = sinicond.groupby(['KEYID'])['IDFORMULARIO'].count()\n",
    "sinicondgpcount.describe()"
   ]
  },
  {
   "cell_type": "code",
   "execution_count": null,
   "id": "20197e61",
   "metadata": {},
   "outputs": [],
   "source": [
    "sicogp = sinicondgpcount[sinicondgpcount[sinicondgpcount.index] == 30]\n",
    "printmode(sicogp)"
   ]
  },
  {
   "cell_type": "code",
   "execution_count": null,
   "id": "025e967b",
   "metadata": {},
   "outputs": [],
   "source": [
    "#condcount.groupby(['Nomb'])[['Sexo']].describe()"
   ]
  },
  {
   "cell_type": "code",
   "execution_count": null,
   "id": "71983f5f",
   "metadata": {},
   "outputs": [],
   "source": [
    "cd = sinicond[sinicond['KEYID'] == 60941332019]"
   ]
  },
  {
   "cell_type": "code",
   "execution_count": null,
   "id": "2ffc5afb",
   "metadata": {},
   "outputs": [],
   "source": [
    "#sin19\n",
    "cda = sinc2019[sinc2019['IDFORMULARIO'] == 6094]"
   ]
  },
  {
   "cell_type": "code",
   "execution_count": null,
   "id": "b349b60c",
   "metadata": {},
   "outputs": [],
   "source": []
  }
 ],
 "metadata": {
  "kernelspec": {
   "display_name": "Python 3",
   "language": "python",
   "name": "python3"
  },
  "language_info": {
   "codemirror_mode": {
    "name": "ipython",
    "version": 3
   },
   "file_extension": ".py",
   "mimetype": "text/x-python",
   "name": "python",
   "nbconvert_exporter": "python",
   "pygments_lexer": "ipython3",
   "version": "3.8.8"
  }
 },
 "nbformat": 4,
 "nbformat_minor": 5
}
