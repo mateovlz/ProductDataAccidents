{
 "cells": [
  {
   "cell_type": "markdown",
   "id": "bc9bc099",
   "metadata": {},
   "source": [
    "## Preparación de los datos.\n",
    "\n",
    "El proposito de este notebook es recolectar los datasets que se utilizaran en este estudio y generar un dataset limpio para realizar analisis."
   ]
  },
  {
   "cell_type": "code",
   "execution_count": 55,
   "id": "740df901",
   "metadata": {},
   "outputs": [],
   "source": [
    "# Importamos las librerias para el manejo de datasets\n",
    "import pandas as pd\n",
    "import numpy as np\n",
    "import os"
   ]
  },
  {
   "cell_type": "markdown",
   "id": "10661b4f",
   "metadata": {},
   "source": [
    "### Métodos preparación datos."
   ]
  },
  {
   "cell_type": "code",
   "execution_count": 56,
   "id": "b0eac09e",
   "metadata": {},
   "outputs": [],
   "source": [
    "MODE_RUN = 'DEV' # Modo de ejecucion del notebook\n",
    "URL_DATA = 'Data/' # Ruta de data sin procesar \n",
    "URL_PREPARED_DATA = 'Prepared_Data/' # Ruta de data procesada"
   ]
  },
  {
   "cell_type": "code",
   "execution_count": 57,
   "id": "260e029c",
   "metadata": {},
   "outputs": [],
   "source": [
    "def printmode(value, mode=MODE_RUN):\n",
    "    if mode == 'DEV':\n",
    "        print(value)"
   ]
  },
  {
   "cell_type": "code",
   "execution_count": 58,
   "id": "aba298d1",
   "metadata": {},
   "outputs": [],
   "source": [
    "def uppercasecolumns(dataframe):\n",
    "    for column in dataframe.columns:\n",
    "        dataframe.rename(columns = {column:column.upper()}, inplace = True)"
   ]
  },
  {
   "cell_type": "code",
   "execution_count": 59,
   "id": "e1adf95e",
   "metadata": {},
   "outputs": [],
   "source": [
    "def createprimarykey(dataframe):\n",
    "    lskeys = []\n",
    "    for index, row in dataframe.iterrows():\n",
    "        fecha = row['FECHA']\n",
    "        fechaDate = fecha.to_pydatetime()\n",
    "        keyid = str(row['IDFORMULARIO']) + str(fechaDate.day) + str(fechaDate.month) + str(fechaDate.year)\n",
    "        lskeys.append(int(keyid))\n",
    "    return dataframe.insert(0,\"KEYID\", lskeys)"
   ]
  },
  {
   "cell_type": "code",
   "execution_count": 60,
   "id": "b72e8563",
   "metadata": {},
   "outputs": [],
   "source": [
    "def renamecolumn(dataframe,columnName,columnNameChanged):\n",
    "    dataframe.rename(columns= {columnName: columnNameChanged.upper() }, inplace = True)"
   ]
  },
  {
   "cell_type": "code",
   "execution_count": 61,
   "id": "63dd5a8a",
   "metadata": {},
   "outputs": [],
   "source": [
    "def validatecolumns(dfprincipal, dfcomp1, dfcomp2):\n",
    "    stcolumns = set()\n",
    "    for column in dfprincipal.columns:\n",
    "        if column not in dfcomp1.columns:\n",
    "            stcolumns.add(column)\n",
    "            printmode(f'Does not Exists {column}')\n",
    "        else:\n",
    "            if type(dfprincipal[column]) != type(dfcomp1[column]):\n",
    "                printmode('Different')\n",
    "        if column not in dfcomp2.columns:\n",
    "            stcolumns.add(column)\n",
    "            printmode(f'Does not Exists {column}')\n",
    "        else:\n",
    "            if type(dfprincipal[column]) != type(dfcomp2[column]):\n",
    "                printmode('Different')\n",
    "    return stcolumns\n"
   ]
  },
  {
   "cell_type": "code",
   "execution_count": 62,
   "id": "ea90336b",
   "metadata": {},
   "outputs": [],
   "source": [
    "def deletecolumnsbyiterable(dataframe,columns):\n",
    "    for column in columns:\n",
    "        del dataframe[column]\n",
    "    return dataframe"
   ]
  },
  {
   "cell_type": "markdown",
   "id": "cf68e33c",
   "metadata": {},
   "source": [
    "### Extracción de datasets a dataframe."
   ]
  },
  {
   "cell_type": "code",
   "execution_count": 63,
   "id": "7e658f59",
   "metadata": {},
   "outputs": [],
   "source": [
    "sina2017 = pd.read_excel(URL_DATA+'Base_2017.xlsx',sheet_name ='ACCIDENTES')"
   ]
  },
  {
   "cell_type": "code",
   "execution_count": 64,
   "id": "f67734a5",
   "metadata": {},
   "outputs": [],
   "source": [
    "sinc2017 = pd.read_excel(URL_DATA+'Base_2017.xlsx',sheet_name ='CONDUCTORES')"
   ]
  },
  {
   "cell_type": "code",
   "execution_count": 65,
   "id": "2dd323a6",
   "metadata": {},
   "outputs": [],
   "source": [
    "sinv2017 = pd.read_excel(URL_DATA+'Base_2017.xlsx',sheet_name ='VICTIMAS')"
   ]
  },
  {
   "cell_type": "markdown",
   "id": "26f6c6a8",
   "metadata": {},
   "source": [
    "### Conversión  nombres columnas por dataframe."
   ]
  },
  {
   "cell_type": "code",
   "execution_count": 66,
   "id": "334f7430",
   "metadata": {},
   "outputs": [],
   "source": [
    "# Todos los nombres de las columnas se volveran UPPERCASE\n",
    "uppercasecolumns(sina2017)\n",
    "uppercasecolumns(sinc2017)\n",
    "uppercasecolumns(sinv2017)"
   ]
  },
  {
   "cell_type": "markdown",
   "id": "d54ac8a3",
   "metadata": {},
   "source": [
    "Se renombra el campo ID de los dataframes del 2017 para tener un mismo formato para la creacion de las primary keys de los cada dataframe"
   ]
  },
  {
   "cell_type": "code",
   "execution_count": 67,
   "id": "72fa8ba0",
   "metadata": {},
   "outputs": [],
   "source": [
    "renamecolumn(sina2017,'ID','IDFORMULARIO')\n",
    "renamecolumn(sinc2017,'ID','IDFORMULARIO')\n",
    "renamecolumn(sinv2017,'ID','IDFORMULARIO')"
   ]
  },
  {
   "cell_type": "code",
   "execution_count": 68,
   "id": "148d4e83",
   "metadata": {},
   "outputs": [
    {
     "name": "stdout",
     "output_type": "stream",
     "text": [
      "------------------------ ACCIDENTES 2017 ------------------------\n",
      "Index(['IDFORMULARIO', 'DIA', 'FECHA', 'MES_PROCESADO', 'OFICINA',\n",
      "       'GRAVEDADCOD', 'GRAVEDADNOMBRE', 'CLASECODIGO', 'CLASENOMBRE',\n",
      "       'CHOQUECODIGO', 'CHOQUENOMBRE', 'OBJETOFIJOCODIGO', 'OBJETOFIJONOMBRE',\n",
      "       'OTRACLASE', 'NOMBREOTRACLASE', 'LATITUD', 'LONGITUD', 'DIRECCION',\n",
      "       'TIPOVIA1', 'NUMEROVIA1', 'LETRAVIA1', 'CARDINALVIA1', 'TIPOVIA2',\n",
      "       'NUMEROVIA2', 'LETRAVIA2', 'CARDINALVIA2', 'COMPLEMENTO', 'MUNICIPIO',\n",
      "       'LOCALIDAD', 'FECHAOCURRENCIA', 'HORAOCURRENCIA', 'HORA_PROCESADA',\n",
      "       'AREA', 'SECTOR', 'ZONA', 'TIPODISENNO', 'TIPOTIEMPO', 'COORDENADAX',\n",
      "       'COORDENADAY', 'CON_BICICLETA', 'CON_CARGA', 'CON_EMBRIAGUEZ',\n",
      "       'CON_HUECOS', 'CON_MENORES', 'CON_MOTO', 'CON_PEATON',\n",
      "       'CON_PERSONA_MAYOR', 'CON_RUTAS', 'CON_TPI', 'CON_VELOCIDAD'],\n",
      "      dtype='object')\n"
     ]
    }
   ],
   "source": [
    "printmode('------------------------ ACCIDENTES 2017 ------------------------')\n",
    "printmode(sina2017.columns)"
   ]
  },
  {
   "cell_type": "code",
   "execution_count": 69,
   "id": "e3509e04",
   "metadata": {},
   "outputs": [
    {
     "name": "stdout",
     "output_type": "stream",
     "text": [
      "------------------------ CONDUCTORES 2017 ------------------------\n",
      "Index(['IDFORMULARIO', 'FECHA', 'MES_PROCESADO', 'DIA_PROCESADO', 'VEHICULO',\n",
      "       'EDAD_PROCESADA', 'LLEVACINTURON', 'LLEVACHALECO', 'LLEVACASCO', 'SEXO',\n",
      "       'GRAVEDAD_PROCESADA', 'CLASEOFICIAL', 'GRADOOFICIAL', 'UNIDADOFICIAL',\n",
      "       'ESTABASERVICIOOFICIAL', 'PORTALICENCIA', 'CODIGOCATEGORIALICENCIA',\n",
      "       'CODIGORESTRICCIONLICENCIA', 'FECHAEXPEDICION',\n",
      "       'OFICINAEXPEDICIONLICENCIA', 'ESPROPIETARIOVEHICULO', 'MODELOVEHICULO',\n",
      "       'CAPACIDADCARGA', 'CANTIDADPASAJEROS', 'CLASEVEHICULO',\n",
      "       'SERVICIOVEHICULO', 'MODALIDADVEHICULO', 'RADIOACCION',\n",
      "       'POSSESEGURORESPONSABILIDAD', 'TIPOFALLA',\n",
      "       'VEHICULO_VIAJABA_CLASIFICADO', 'CON_BICICLETA', 'CON_CARGA',\n",
      "       'CON_EMBRIAGUEZ', 'CON_HUECOS', 'CON_MENORES', 'CON_MOTO', 'CON_PEATON',\n",
      "       'CON_PERSONA_MAYOR', 'CON_RUTAS', 'CON_TPI', 'CON_VELOCIDAD'],\n",
      "      dtype='object')\n"
     ]
    }
   ],
   "source": [
    "printmode('------------------------ CONDUCTORES 2017 ------------------------')\n",
    "printmode(sinc2017.columns)"
   ]
  },
  {
   "cell_type": "code",
   "execution_count": 70,
   "id": "eb34e0b0",
   "metadata": {},
   "outputs": [
    {
     "name": "stdout",
     "output_type": "stream",
     "text": [
      "------------------------ VICTIMAS 2017 ------------------------\n",
      "Index(['IDFORMULARIO', 'FECHA', 'MES_PROCESADO', 'DIA_PROCESADO', 'NUMERO',\n",
      "       'EDAD_PROCESADA', 'LLEVACINTURON', 'LLEVACHALECO', 'LLEVACASCO',\n",
      "       'PEATON_PASAJERO', 'CODIGOVEHICULO', 'SEXO', 'GRAVEDAD_PROCESADA',\n",
      "       'CLASEOFICIAL', 'GRADOOFICIAL', 'UNIDADOFICIAL', 'ESTABAENSERVICIO',\n",
      "       'TRASLADADO_EN', 'VEHICULO_VIAJABA', 'VEHICULO_VIAJABA_CLASIFICADO',\n",
      "       'CON_BICICLETA', 'CON_CARGA', 'CON_EMBRIAGUEZ', 'CON_HUECOS',\n",
      "       'CON_MENORES', 'CON_MOTO', 'CON_PEATON', 'CON_PERSONA_MAYOR',\n",
      "       'CON_RUTAS', 'CON_TPI', 'CON_VELOCIDAD'],\n",
      "      dtype='object')\n"
     ]
    }
   ],
   "source": [
    "printmode('------------------------ VICTIMAS 2017 ------------------------')\n",
    "printmode(sinv2017.columns)"
   ]
  },
  {
   "cell_type": "code",
   "execution_count": 71,
   "id": "51b43396",
   "metadata": {},
   "outputs": [
    {
     "name": "stdout",
     "output_type": "stream",
     "text": [
      "(35170, 50)\n"
     ]
    }
   ],
   "source": [
    "printmode(sina2017.shape)"
   ]
  },
  {
   "cell_type": "markdown",
   "id": "fa5b4733",
   "metadata": {},
   "source": [
    "### Creación primary keyId por dataframe."
   ]
  },
  {
   "cell_type": "code",
   "execution_count": 72,
   "id": "16c5e597",
   "metadata": {},
   "outputs": [],
   "source": [
    "createprimarykey(sina2017)"
   ]
  },
  {
   "cell_type": "code",
   "execution_count": 73,
   "id": "97d681bf",
   "metadata": {},
   "outputs": [],
   "source": [
    "createprimarykey(sinc2017)"
   ]
  },
  {
   "cell_type": "code",
   "execution_count": 74,
   "id": "6486b62c",
   "metadata": {},
   "outputs": [],
   "source": [
    "createprimarykey(sinv2017)"
   ]
  },
  {
   "cell_type": "code",
   "execution_count": 75,
   "id": "5bc05b23",
   "metadata": {},
   "outputs": [
    {
     "name": "stdout",
     "output_type": "stream",
     "text": [
      "------------------------ ACCIDENTES 2017 ------------------------\n",
      "Index(['KEYID', 'IDFORMULARIO', 'DIA', 'FECHA', 'MES_PROCESADO', 'OFICINA',\n",
      "       'GRAVEDADCOD', 'GRAVEDADNOMBRE', 'CLASECODIGO', 'CLASENOMBRE',\n",
      "       'CHOQUECODIGO', 'CHOQUENOMBRE', 'OBJETOFIJOCODIGO', 'OBJETOFIJONOMBRE',\n",
      "       'OTRACLASE', 'NOMBREOTRACLASE', 'LATITUD', 'LONGITUD', 'DIRECCION',\n",
      "       'TIPOVIA1', 'NUMEROVIA1', 'LETRAVIA1', 'CARDINALVIA1', 'TIPOVIA2',\n",
      "       'NUMEROVIA2', 'LETRAVIA2', 'CARDINALVIA2', 'COMPLEMENTO', 'MUNICIPIO',\n",
      "       'LOCALIDAD', 'FECHAOCURRENCIA', 'HORAOCURRENCIA', 'HORA_PROCESADA',\n",
      "       'AREA', 'SECTOR', 'ZONA', 'TIPODISENNO', 'TIPOTIEMPO', 'COORDENADAX',\n",
      "       'COORDENADAY', 'CON_BICICLETA', 'CON_CARGA', 'CON_EMBRIAGUEZ',\n",
      "       'CON_HUECOS', 'CON_MENORES', 'CON_MOTO', 'CON_PEATON',\n",
      "       'CON_PERSONA_MAYOR', 'CON_RUTAS', 'CON_TPI', 'CON_VELOCIDAD'],\n",
      "      dtype='object')\n"
     ]
    }
   ],
   "source": [
    "printmode('------------------------ ACCIDENTES 2017 ------------------------')\n",
    "printmode(sina2017.columns)"
   ]
  },
  {
   "cell_type": "code",
   "execution_count": 76,
   "id": "a166d511",
   "metadata": {},
   "outputs": [
    {
     "name": "stdout",
     "output_type": "stream",
     "text": [
      "------------------------ CONDUCTORES 2017 ------------------------\n",
      "Index(['KEYID', 'IDFORMULARIO', 'FECHA', 'MES_PROCESADO', 'DIA_PROCESADO',\n",
      "       'VEHICULO', 'EDAD_PROCESADA', 'LLEVACINTURON', 'LLEVACHALECO',\n",
      "       'LLEVACASCO', 'SEXO', 'GRAVEDAD_PROCESADA', 'CLASEOFICIAL',\n",
      "       'GRADOOFICIAL', 'UNIDADOFICIAL', 'ESTABASERVICIOOFICIAL',\n",
      "       'PORTALICENCIA', 'CODIGOCATEGORIALICENCIA', 'CODIGORESTRICCIONLICENCIA',\n",
      "       'FECHAEXPEDICION', 'OFICINAEXPEDICIONLICENCIA', 'ESPROPIETARIOVEHICULO',\n",
      "       'MODELOVEHICULO', 'CAPACIDADCARGA', 'CANTIDADPASAJEROS',\n",
      "       'CLASEVEHICULO', 'SERVICIOVEHICULO', 'MODALIDADVEHICULO', 'RADIOACCION',\n",
      "       'POSSESEGURORESPONSABILIDAD', 'TIPOFALLA',\n",
      "       'VEHICULO_VIAJABA_CLASIFICADO', 'CON_BICICLETA', 'CON_CARGA',\n",
      "       'CON_EMBRIAGUEZ', 'CON_HUECOS', 'CON_MENORES', 'CON_MOTO', 'CON_PEATON',\n",
      "       'CON_PERSONA_MAYOR', 'CON_RUTAS', 'CON_TPI', 'CON_VELOCIDAD'],\n",
      "      dtype='object')\n"
     ]
    }
   ],
   "source": [
    "printmode('------------------------ CONDUCTORES 2017 ------------------------')\n",
    "printmode(sinc2017.columns)"
   ]
  },
  {
   "cell_type": "code",
   "execution_count": 77,
   "id": "980fe5a3",
   "metadata": {},
   "outputs": [
    {
     "name": "stdout",
     "output_type": "stream",
     "text": [
      "------------------------ VICTIMAS 2017 ------------------------\n",
      "Index(['KEYID', 'IDFORMULARIO', 'FECHA', 'MES_PROCESADO', 'DIA_PROCESADO',\n",
      "       'NUMERO', 'EDAD_PROCESADA', 'LLEVACINTURON', 'LLEVACHALECO',\n",
      "       'LLEVACASCO', 'PEATON_PASAJERO', 'CODIGOVEHICULO', 'SEXO',\n",
      "       'GRAVEDAD_PROCESADA', 'CLASEOFICIAL', 'GRADOOFICIAL', 'UNIDADOFICIAL',\n",
      "       'ESTABAENSERVICIO', 'TRASLADADO_EN', 'VEHICULO_VIAJABA',\n",
      "       'VEHICULO_VIAJABA_CLASIFICADO', 'CON_BICICLETA', 'CON_CARGA',\n",
      "       'CON_EMBRIAGUEZ', 'CON_HUECOS', 'CON_MENORES', 'CON_MOTO', 'CON_PEATON',\n",
      "       'CON_PERSONA_MAYOR', 'CON_RUTAS', 'CON_TPI', 'CON_VELOCIDAD'],\n",
      "      dtype='object')\n"
     ]
    }
   ],
   "source": [
    "printmode('------------------------ VICTIMAS 2017 ------------------------')\n",
    "printmode(sinv2017.columns)"
   ]
  },
  {
   "cell_type": "markdown",
   "id": "465417ce",
   "metadata": {},
   "source": [
    "### Validación columnas por dataFrame."
   ]
  },
  {
   "cell_type": "markdown",
   "id": "b30a3546",
   "metadata": {},
   "source": [
    "Se debe agregar un datframe principal el cual se valide las columnas que debe detener los dataframe nuevos, de no tener las columnas del principal se debene agregar las que falten y eliminar las que sobren., "
   ]
  },
  {
   "cell_type": "markdown",
   "id": "ec9f4d84",
   "metadata": {},
   "source": [
    "modificar \"validatecolumns\" para que solo aplique una condicion "
   ]
  },
  {
   "cell_type": "markdown",
   "id": "a0c884a4",
   "metadata": {},
   "source": [
    "### Elimina columnas no existentes por dataframe."
   ]
  },
  {
   "cell_type": "code",
   "execution_count": 294,
   "id": "6531869e",
   "metadata": {},
   "outputs": [
    {
     "name": "stdout",
     "output_type": "stream",
     "text": [
      "(35170, 51)\n"
     ]
    }
   ],
   "source": [
    "printmode(sina2017.shape)"
   ]
  },
  {
   "cell_type": "code",
   "execution_count": 295,
   "id": "bbb508ae",
   "metadata": {},
   "outputs": [],
   "source": [
    "sin17 = sina2017.copy()"
   ]
  },
  {
   "cell_type": "code",
   "execution_count": 296,
   "id": "a98215b8",
   "metadata": {},
   "outputs": [
    {
     "name": "stdout",
     "output_type": "stream",
     "text": [
      "(67017, 43)\n"
     ]
    }
   ],
   "source": [
    "printmode(sinc2017.shape)"
   ]
  },
  {
   "cell_type": "code",
   "execution_count": 297,
   "id": "b1e1b9dc",
   "metadata": {},
   "outputs": [],
   "source": [
    "sinc17 = sinc2017.copy()"
   ]
  },
  {
   "cell_type": "code",
   "execution_count": 298,
   "id": "96d2a555",
   "metadata": {},
   "outputs": [
    {
     "name": "stdout",
     "output_type": "stream",
     "text": [
      "(8602, 32)\n"
     ]
    }
   ],
   "source": [
    "printmode(sinv2017.shape)"
   ]
  },
  {
   "cell_type": "code",
   "execution_count": 299,
   "id": "0547b023",
   "metadata": {},
   "outputs": [],
   "source": [
    "sinv17 = sinv2017.copy()"
   ]
  },
  {
   "cell_type": "code",
   "execution_count": 300,
   "id": "34ca5c4b",
   "metadata": {},
   "outputs": [],
   "source": [
    "def searchcolumns(dataframe, dfcomparates):\n",
    "    setdataframe = set()\n",
    "    for column in dataframe.columns:\n",
    "         if column not in dfcomparates:\n",
    "            setdataframe.add(column)\n",
    "    return setdataframe"
   ]
  },
  {
   "cell_type": "code",
   "execution_count": 301,
   "id": "2d4bd8a5",
   "metadata": {},
   "outputs": [],
   "source": [
    "listcond = ['KEYID','GRAVEDADCOD', 'CLASECODIGO', 'CHOQUECODIGO', 'DIRECCION','LOCALIDAD', 'HORA_PROCESADA', 'TIPODISENNO']"
   ]
  },
  {
   "cell_type": "code",
   "execution_count": 302,
   "id": "75f20d8a",
   "metadata": {},
   "outputs": [],
   "source": [
    "accident = ['KEYID' ,'DIA','FECHA', 'MES_PROCESADO', 'OFICINA',\n",
    "            'GRAVEDADCOD', 'GRAVEDADNOMBRE', 'CLASECODIGO', 'CLASENOMBRE',\n",
    "            'CHOQUECODIGO','CHOQUENOMBRE','OBJETOFIJOCODIGO','OBJETOFIJONOMBRE',\n",
    "            'OTRACLASE','NOMBREOTRACLASE','LATITUD','LONGITUD','DIRECCION','TIPOVIA1',\n",
    "            'NUMEROVIA1','LETRAVIA1', 'CARDINALVIA1', 'TIPOVIA2','NUMEROVIA2','LETRAVIA2',\n",
    "            'CARDINALVIA2', 'COMPLEMENTO', 'MUNICIPIO','LOCALIDAD', 'FECHAOCURRENCIA', \n",
    "            'HORAOCURRENCIA', 'HORA_PROCESADA','AREA', 'SECTOR', 'ZONA','TIPODISENNO', \n",
    "            'TIPOTIEMPO', 'COORDENADAX','COORDENADAY', 'CON_EMBRIAGUEZ','CON_HUECOS',\n",
    "            'CON_PEATON']"
   ]
  },
  {
   "cell_type": "code",
   "execution_count": 303,
   "id": "d7a3476f",
   "metadata": {},
   "outputs": [],
   "source": [
    "victi = ['KEYID','VICTIMAS']"
   ]
  },
  {
   "cell_type": "code",
   "execution_count": 304,
   "id": "45179ce7",
   "metadata": {},
   "outputs": [],
   "source": [
    "setsinm = searchcolumns(sin17,accident)"
   ]
  },
  {
   "cell_type": "code",
   "execution_count": 305,
   "id": "9b4b3534",
   "metadata": {},
   "outputs": [],
   "source": [
    "setcond = searchcolumns(sinc17,listcond)"
   ]
  },
  {
   "cell_type": "code",
   "execution_count": 307,
   "id": "3fa93762",
   "metadata": {},
   "outputs": [],
   "source": [
    "setvic = searchcolumns(sinv17,victi)"
   ]
  },
  {
   "cell_type": "code",
   "execution_count": 308,
   "id": "531e8f7a",
   "metadata": {},
   "outputs": [
    {
     "data": {
      "text/plain": [
       "{'CON_BICICLETA',\n",
       " 'CON_CARGA',\n",
       " 'CON_MENORES',\n",
       " 'CON_MOTO',\n",
       " 'CON_PERSONA_MAYOR',\n",
       " 'CON_RUTAS',\n",
       " 'CON_TPI',\n",
       " 'CON_VELOCIDAD',\n",
       " 'IDFORMULARIO'}"
      ]
     },
     "execution_count": 308,
     "metadata": {},
     "output_type": "execute_result"
    }
   ],
   "source": [
    "setsinm"
   ]
  },
  {
   "cell_type": "code",
   "execution_count": 309,
   "id": "5fc8d954",
   "metadata": {},
   "outputs": [
    {
     "data": {
      "text/plain": [
       "{'CANTIDADPASAJEROS',\n",
       " 'CAPACIDADCARGA',\n",
       " 'CLASEOFICIAL',\n",
       " 'CLASEVEHICULO',\n",
       " 'CODIGOCATEGORIALICENCIA',\n",
       " 'CODIGORESTRICCIONLICENCIA',\n",
       " 'CON_BICICLETA',\n",
       " 'CON_CARGA',\n",
       " 'CON_EMBRIAGUEZ',\n",
       " 'CON_HUECOS',\n",
       " 'CON_MENORES',\n",
       " 'CON_MOTO',\n",
       " 'CON_PEATON',\n",
       " 'CON_PERSONA_MAYOR',\n",
       " 'CON_RUTAS',\n",
       " 'CON_TPI',\n",
       " 'CON_VELOCIDAD',\n",
       " 'DIA_PROCESADO',\n",
       " 'EDAD_PROCESADA',\n",
       " 'ESPROPIETARIOVEHICULO',\n",
       " 'ESTABASERVICIOOFICIAL',\n",
       " 'FECHA',\n",
       " 'FECHAEXPEDICION',\n",
       " 'GRADOOFICIAL',\n",
       " 'GRAVEDAD_PROCESADA',\n",
       " 'IDFORMULARIO',\n",
       " 'LLEVACASCO',\n",
       " 'LLEVACHALECO',\n",
       " 'LLEVACINTURON',\n",
       " 'MES_PROCESADO',\n",
       " 'MODALIDADVEHICULO',\n",
       " 'MODELOVEHICULO',\n",
       " 'OFICINAEXPEDICIONLICENCIA',\n",
       " 'PORTALICENCIA',\n",
       " 'POSSESEGURORESPONSABILIDAD',\n",
       " 'RADIOACCION',\n",
       " 'SERVICIOVEHICULO',\n",
       " 'SEXO',\n",
       " 'TIPOFALLA',\n",
       " 'UNIDADOFICIAL',\n",
       " 'VEHICULO',\n",
       " 'VEHICULO_VIAJABA_CLASIFICADO'}"
      ]
     },
     "execution_count": 309,
     "metadata": {},
     "output_type": "execute_result"
    }
   ],
   "source": [
    "setcond"
   ]
  },
  {
   "cell_type": "code",
   "execution_count": 310,
   "id": "3abe186b",
   "metadata": {},
   "outputs": [
    {
     "data": {
      "text/plain": [
       "{'CLASEOFICIAL',\n",
       " 'CODIGOVEHICULO',\n",
       " 'CON_BICICLETA',\n",
       " 'CON_CARGA',\n",
       " 'CON_EMBRIAGUEZ',\n",
       " 'CON_HUECOS',\n",
       " 'CON_MENORES',\n",
       " 'CON_MOTO',\n",
       " 'CON_PEATON',\n",
       " 'CON_PERSONA_MAYOR',\n",
       " 'CON_RUTAS',\n",
       " 'CON_TPI',\n",
       " 'CON_VELOCIDAD',\n",
       " 'DIA_PROCESADO',\n",
       " 'EDAD_PROCESADA',\n",
       " 'ESTABAENSERVICIO',\n",
       " 'FECHA',\n",
       " 'GRADOOFICIAL',\n",
       " 'GRAVEDAD_PROCESADA',\n",
       " 'IDFORMULARIO',\n",
       " 'LLEVACASCO',\n",
       " 'LLEVACHALECO',\n",
       " 'LLEVACINTURON',\n",
       " 'MES_PROCESADO',\n",
       " 'NUMERO',\n",
       " 'PEATON_PASAJERO',\n",
       " 'SEXO',\n",
       " 'TRASLADADO_EN',\n",
       " 'UNIDADOFICIAL',\n",
       " 'VEHICULO_VIAJABA',\n",
       " 'VEHICULO_VIAJABA_CLASIFICADO'}"
      ]
     },
     "execution_count": 310,
     "metadata": {},
     "output_type": "execute_result"
    }
   ],
   "source": [
    "setvic"
   ]
  },
  {
   "cell_type": "code",
   "execution_count": 278,
   "id": "3575ef89",
   "metadata": {},
   "outputs": [],
   "source": [
    "def deletecolumnstrahs(dataframe, columns):\n",
    "    for column in columns:\n",
    "        del dataframe[column]\n",
    "    return dataframe"
   ]
  },
  {
   "cell_type": "code",
   "execution_count": 316,
   "id": "0c6d3726",
   "metadata": {},
   "outputs": [],
   "source": [
    "result =  deletecolumnstrahs(sinc17, setcond)"
   ]
  },
  {
   "cell_type": "code",
   "execution_count": 317,
   "id": "6ebd3c5e",
   "metadata": {},
   "outputs": [
    {
     "data": {
      "text/html": [
       "<div>\n",
       "<style scoped>\n",
       "    .dataframe tbody tr th:only-of-type {\n",
       "        vertical-align: middle;\n",
       "    }\n",
       "\n",
       "    .dataframe tbody tr th {\n",
       "        vertical-align: top;\n",
       "    }\n",
       "\n",
       "    .dataframe thead th {\n",
       "        text-align: right;\n",
       "    }\n",
       "</style>\n",
       "<table border=\"1\" class=\"dataframe\">\n",
       "  <thead>\n",
       "    <tr style=\"text-align: right;\">\n",
       "      <th></th>\n",
       "      <th>KEYID</th>\n",
       "    </tr>\n",
       "  </thead>\n",
       "  <tbody>\n",
       "    <tr>\n",
       "      <th>0</th>\n",
       "      <td>295737112017</td>\n",
       "    </tr>\n",
       "    <tr>\n",
       "      <th>1</th>\n",
       "      <td>295737112017</td>\n",
       "    </tr>\n",
       "    <tr>\n",
       "      <th>2</th>\n",
       "      <td>295737112017</td>\n",
       "    </tr>\n",
       "    <tr>\n",
       "      <th>3</th>\n",
       "      <td>333599122017</td>\n",
       "    </tr>\n",
       "    <tr>\n",
       "      <th>4</th>\n",
       "      <td>333599122017</td>\n",
       "    </tr>\n",
       "    <tr>\n",
       "      <th>...</th>\n",
       "      <td>...</td>\n",
       "    </tr>\n",
       "    <tr>\n",
       "      <th>67012</th>\n",
       "      <td>1463112017</td>\n",
       "    </tr>\n",
       "    <tr>\n",
       "      <th>67013</th>\n",
       "      <td>1555112017</td>\n",
       "    </tr>\n",
       "    <tr>\n",
       "      <th>67014</th>\n",
       "      <td>1468112017</td>\n",
       "    </tr>\n",
       "    <tr>\n",
       "      <th>67015</th>\n",
       "      <td>1379112017</td>\n",
       "    </tr>\n",
       "    <tr>\n",
       "      <th>67016</th>\n",
       "      <td>1379112017</td>\n",
       "    </tr>\n",
       "  </tbody>\n",
       "</table>\n",
       "<p>67017 rows × 1 columns</p>\n",
       "</div>"
      ],
      "text/plain": [
       "              KEYID\n",
       "0      295737112017\n",
       "1      295737112017\n",
       "2      295737112017\n",
       "3      333599122017\n",
       "4      333599122017\n",
       "...             ...\n",
       "67012    1463112017\n",
       "67013    1555112017\n",
       "67014    1468112017\n",
       "67015    1379112017\n",
       "67016    1379112017\n",
       "\n",
       "[67017 rows x 1 columns]"
      ]
     },
     "execution_count": 317,
     "metadata": {},
     "output_type": "execute_result"
    }
   ],
   "source": [
    "result"
   ]
  },
  {
   "cell_type": "code",
   "execution_count": null,
   "id": "038a7808",
   "metadata": {},
   "outputs": [],
   "source": []
  }
 ],
 "metadata": {
  "kernelspec": {
   "display_name": "Python 3",
   "language": "python",
   "name": "python3"
  },
  "language_info": {
   "codemirror_mode": {
    "name": "ipython",
    "version": 3
   },
   "file_extension": ".py",
   "mimetype": "text/x-python",
   "name": "python",
   "nbconvert_exporter": "python",
   "pygments_lexer": "ipython3",
   "version": "3.8.8"
  }
 },
 "nbformat": 4,
 "nbformat_minor": 5
}
