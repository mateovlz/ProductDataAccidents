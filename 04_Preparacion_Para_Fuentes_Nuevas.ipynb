{
 "cells": [
  {
   "cell_type": "markdown",
   "id": "bc9bc099",
   "metadata": {},
   "source": [
    "## Preparación de los datos.\n",
    "\n",
    "El proposito de este notebook es recolectar los datasets que se utilizaran en este estudio y generar un dataset limpio para realizar analisis."
   ]
  },
  {
   "cell_type": "code",
   "execution_count": 185,
   "id": "740df901",
   "metadata": {},
   "outputs": [],
   "source": [
    "# Importamos las librerias para el manejo de datasets\n",
    "import pandas as pd\n",
    "import numpy as np\n",
    "import os"
   ]
  },
  {
   "cell_type": "markdown",
   "id": "10661b4f",
   "metadata": {},
   "source": [
    "### Métodos preparación datos."
   ]
  },
  {
   "cell_type": "code",
   "execution_count": 186,
   "id": "b0eac09e",
   "metadata": {},
   "outputs": [],
   "source": [
    "MODE_RUN = 'PRD' # Modo de ejecucion del notebook\n",
    "URL_DATA = 'Data/' # Ruta de data sin procesar \n",
    "URL_PREPARED_DATA = 'Prepared_Data/' # Ruta de data procesada"
   ]
  },
  {
   "cell_type": "code",
   "execution_count": 187,
   "id": "260e029c",
   "metadata": {},
   "outputs": [],
   "source": [
    "def printmode(value, mode=MODE_RUN):\n",
    "    if mode == 'DEV':\n",
    "        print(value)"
   ]
  },
  {
   "cell_type": "code",
   "execution_count": 188,
   "id": "aba298d1",
   "metadata": {},
   "outputs": [],
   "source": [
    "def uppercasecolumns(dataframe):\n",
    "    for column in dataframe.columns:\n",
    "        dataframe.rename(columns = {column:column.upper()}, inplace = True)"
   ]
  },
  {
   "cell_type": "code",
   "execution_count": 189,
   "id": "e1adf95e",
   "metadata": {},
   "outputs": [],
   "source": [
    "def createprimarykey(dataframe):\n",
    "    lskeys = []\n",
    "    for index, row in dataframe.iterrows():\n",
    "        fecha = row['FECHA']\n",
    "        fechaDate = fecha.to_pydatetime()\n",
    "        keyid = str(row['IDFORMULARIO']) + str(fechaDate.day) + str(fechaDate.month) + str(fechaDate.year)\n",
    "        lskeys.append(int(keyid))\n",
    "    return dataframe.insert(0,\"KEYID\", lskeys)"
   ]
  },
  {
   "cell_type": "code",
   "execution_count": 190,
   "id": "b72e8563",
   "metadata": {},
   "outputs": [],
   "source": [
    "def renamecolumn(dataframe,columnName,columnNameChanged):\n",
    "    dataframe.rename(columns= {columnName: columnNameChanged.upper() }, inplace = True)"
   ]
  },
  {
   "cell_type": "code",
   "execution_count": 191,
   "id": "ea90336b",
   "metadata": {},
   "outputs": [],
   "source": [
    "def deletecolumnsbyiterable(dataframe,columns):\n",
    "    for column in columns:\n",
    "        del dataframe[column]\n",
    "    return dataframe"
   ]
  },
  {
   "cell_type": "markdown",
   "id": "cf68e33c",
   "metadata": {},
   "source": [
    "### Extracción de datasets a dataframe."
   ]
  },
  {
   "cell_type": "code",
   "execution_count": 192,
   "id": "7e658f59",
   "metadata": {},
   "outputs": [],
   "source": [
    "sina = pd.read_excel(URL_DATA+'Base_2017.xlsx',sheet_name ='ACCIDENTES')"
   ]
  },
  {
   "cell_type": "code",
   "execution_count": 193,
   "id": "f67734a5",
   "metadata": {},
   "outputs": [],
   "source": [
    "sinc = pd.read_excel(URL_DATA+'Base_2017.xlsx',sheet_name ='CONDUCTORES')"
   ]
  },
  {
   "cell_type": "code",
   "execution_count": 194,
   "id": "2dd323a6",
   "metadata": {},
   "outputs": [],
   "source": [
    "sinv = pd.read_excel(URL_DATA+'Base_2017.xlsx',sheet_name ='VICTIMAS')"
   ]
  },
  {
   "cell_type": "markdown",
   "id": "26f6c6a8",
   "metadata": {},
   "source": [
    "### Conversión  nombres columnas por dataframe."
   ]
  },
  {
   "cell_type": "code",
   "execution_count": 195,
   "id": "334f7430",
   "metadata": {},
   "outputs": [],
   "source": [
    "# Todos los nombres de las columnas se volveran UPPERCASE\n",
    "uppercasecolumns(sina)\n",
    "uppercasecolumns(sinc)\n",
    "uppercasecolumns(sinv)"
   ]
  },
  {
   "cell_type": "markdown",
   "id": "d54ac8a3",
   "metadata": {},
   "source": [
    "Se renombra el campo ID de los dataframes del 2017 para tener un mismo formato para la creacion de las primary keys de los cada dataframe"
   ]
  },
  {
   "cell_type": "code",
   "execution_count": 196,
   "id": "72fa8ba0",
   "metadata": {},
   "outputs": [],
   "source": [
    "renamecolumn(sina,'ID','IDFORMULARIO')\n",
    "renamecolumn(sinc,'ID','IDFORMULARIO')\n",
    "renamecolumn(sinv,'ID','IDFORMULARIO')"
   ]
  },
  {
   "cell_type": "code",
   "execution_count": 197,
   "id": "148d4e83",
   "metadata": {},
   "outputs": [],
   "source": [
    "printmode('------------------------ ACCIDENTES 2017 ------------------------')\n",
    "printmode(sina.columns)"
   ]
  },
  {
   "cell_type": "code",
   "execution_count": 198,
   "id": "e3509e04",
   "metadata": {},
   "outputs": [],
   "source": [
    "printmode('------------------------ CONDUCTORES 2017 ------------------------')\n",
    "printmode(sinc.columns)"
   ]
  },
  {
   "cell_type": "code",
   "execution_count": 199,
   "id": "eb34e0b0",
   "metadata": {},
   "outputs": [],
   "source": [
    "printmode('------------------------ VICTIMAS 2017 ------------------------')\n",
    "printmode(sinv.columns)"
   ]
  },
  {
   "cell_type": "code",
   "execution_count": 200,
   "id": "51b43396",
   "metadata": {},
   "outputs": [],
   "source": [
    "printmode(sina.shape)"
   ]
  },
  {
   "cell_type": "markdown",
   "id": "fa5b4733",
   "metadata": {},
   "source": [
    "### Creación primary keyId por dataframe."
   ]
  },
  {
   "cell_type": "code",
   "execution_count": 201,
   "id": "16c5e597",
   "metadata": {},
   "outputs": [],
   "source": [
    "createprimarykey(sina)"
   ]
  },
  {
   "cell_type": "code",
   "execution_count": 202,
   "id": "97d681bf",
   "metadata": {},
   "outputs": [],
   "source": [
    "createprimarykey(sinc)"
   ]
  },
  {
   "cell_type": "code",
   "execution_count": 203,
   "id": "6486b62c",
   "metadata": {},
   "outputs": [],
   "source": [
    "createprimarykey(sinv)"
   ]
  },
  {
   "cell_type": "code",
   "execution_count": 204,
   "id": "5bc05b23",
   "metadata": {},
   "outputs": [],
   "source": [
    "printmode('------------------------ ACCIDENTES 2017 ------------------------')\n",
    "printmode(sina.columns)"
   ]
  },
  {
   "cell_type": "code",
   "execution_count": 205,
   "id": "a166d511",
   "metadata": {},
   "outputs": [],
   "source": [
    "printmode('------------------------ CONDUCTORES 2017 ------------------------')\n",
    "printmode(sinc.columns)"
   ]
  },
  {
   "cell_type": "code",
   "execution_count": 206,
   "id": "980fe5a3",
   "metadata": {},
   "outputs": [],
   "source": [
    "printmode('------------------------ VICTIMAS 2017 ------------------------')\n",
    "printmode(sinv.columns)"
   ]
  },
  {
   "cell_type": "markdown",
   "id": "465417ce",
   "metadata": {},
   "source": [
    "### Validación columnas por dataFrame."
   ]
  },
  {
   "cell_type": "markdown",
   "id": "b30a3546",
   "metadata": {},
   "source": [
    "Se debe agregar un datframe principal el cual se valide las columnas que debe detener los dataframe nuevos, de no tener las columnas del principal se debene agregar las que falten y eliminar las que sobren., "
   ]
  },
  {
   "cell_type": "markdown",
   "id": "a0c884a4",
   "metadata": {},
   "source": [
    "### Elimina columnas no existentes por dataframe."
   ]
  },
  {
   "cell_type": "code",
   "execution_count": 207,
   "id": "6531869e",
   "metadata": {},
   "outputs": [],
   "source": [
    "sina = sina.copy()\n",
    "printmode(sina.shape)"
   ]
  },
  {
   "cell_type": "code",
   "execution_count": 208,
   "id": "a98215b8",
   "metadata": {},
   "outputs": [],
   "source": [
    "sinc = sinc.copy()\n",
    "printmode(sinc.shape)"
   ]
  },
  {
   "cell_type": "code",
   "execution_count": 209,
   "id": "96d2a555",
   "metadata": {},
   "outputs": [],
   "source": [
    "sinv = sinv.copy()\n",
    "printmode(sinv.shape)"
   ]
  },
  {
   "cell_type": "code",
   "execution_count": 210,
   "id": "34ca5c4b",
   "metadata": {},
   "outputs": [],
   "source": [
    "def searchcolumns(dataframe, dfcomparates):\n",
    "    setdataframe = set()\n",
    "    for column in dataframe.columns:\n",
    "         if column not in dfcomparates:\n",
    "            setdataframe.add(column)\n",
    "    return setdataframe"
   ]
  },
  {
   "cell_type": "markdown",
   "id": "4b048cb0",
   "metadata": {},
   "source": [
    "### Columnas a conservar"
   ]
  },
  {
   "cell_type": "code",
   "execution_count": 211,
   "id": "2d4bd8a5",
   "metadata": {},
   "outputs": [],
   "source": [
    "colacci = set (['KEYID','GRAVEDADCOD','DIRECCION','HORA_PROCESADA','LOCALIDAD'])"
   ]
  },
  {
   "cell_type": "code",
   "execution_count": 212,
   "id": "95a4f456",
   "metadata": {},
   "outputs": [],
   "source": [
    "colcond = set (['LLEVACASCO', 'LLEVACINTURON', 'CON_EMBRIAGUEZ', 'GRAVEDAD_PROCESADA', 'POSSESEGURORESPONSABILIDAD',\n",
    "\t'CON_HUECOS', 'SEXO', 'LLEVACHALECO', 'MODELOVEHICULO', 'SERVICIOVEHICULO', 'CLASEVEHICULO', \n",
    "\t'DIA_PROCESADO', 'CON_PEATON', 'FECHA', 'KEYID', 'EDAD_PROCESADA'])"
   ]
  },
  {
   "cell_type": "code",
   "execution_count": 213,
   "id": "d7a3476f",
   "metadata": {},
   "outputs": [],
   "source": [
    "colvict = set (['KEYID'])"
   ]
  },
  {
   "cell_type": "markdown",
   "id": "392ea738",
   "metadata": {},
   "source": [
    "### Columnas a eliminar"
   ]
  },
  {
   "cell_type": "code",
   "execution_count": 214,
   "id": "f2e67dcf",
   "metadata": {},
   "outputs": [],
   "source": [
    "setcolcond = searchcolumns(sinc.copy(),colcond)\n",
    "printmode(setcolcond)"
   ]
  },
  {
   "cell_type": "code",
   "execution_count": 215,
   "id": "da6d3552",
   "metadata": {},
   "outputs": [],
   "source": [
    "setcolacci = searchcolumns(sina.copy(),colacci)\n",
    "printmode(setcolacci)"
   ]
  },
  {
   "cell_type": "code",
   "execution_count": 216,
   "id": "6b6fbd95",
   "metadata": {},
   "outputs": [],
   "source": [
    "setcolvict = searchcolumns(sinv.copy(),colvict)\n",
    "printmode(setcolvict)"
   ]
  },
  {
   "cell_type": "code",
   "execution_count": 217,
   "id": "4e357fe9",
   "metadata": {},
   "outputs": [],
   "source": [
    "def delete_columns_structuring(dataframe, columns):\n",
    "    for column in columns:\n",
    "        if column in dataframe.columns:\n",
    "            del dataframe[column]\n",
    "    return dataframe"
   ]
  },
  {
   "cell_type": "markdown",
   "id": "515f89fa",
   "metadata": {},
   "source": [
    "### Eliminacion de columnas"
   ]
  },
  {
   "cell_type": "code",
   "execution_count": 218,
   "id": "45179ce7",
   "metadata": {},
   "outputs": [],
   "source": [
    "dfsina = delete_columns_structuring(sina.copy(),setcolacci)"
   ]
  },
  {
   "cell_type": "code",
   "execution_count": 219,
   "id": "9b4b3534",
   "metadata": {},
   "outputs": [],
   "source": [
    "dfsinc = delete_columns_structuring(sinc.copy(),setcolcond)"
   ]
  },
  {
   "cell_type": "code",
   "execution_count": 220,
   "id": "3fa93762",
   "metadata": {},
   "outputs": [],
   "source": [
    "dfsinv = delete_columns_structuring(sinv.copy(),setcolvict)"
   ]
  },
  {
   "cell_type": "code",
   "execution_count": 221,
   "id": "3575ef89",
   "metadata": {},
   "outputs": [
    {
     "data": {
      "text/plain": [
       "(None, None)"
      ]
     },
     "execution_count": 221,
     "metadata": {},
     "output_type": "execute_result"
    }
   ],
   "source": [
    "printmode(len(colacci)), printmode(dfsina.shape)"
   ]
  },
  {
   "cell_type": "code",
   "execution_count": 222,
   "id": "c993b8df",
   "metadata": {},
   "outputs": [
    {
     "data": {
      "text/plain": [
       "(None, None)"
      ]
     },
     "execution_count": 222,
     "metadata": {},
     "output_type": "execute_result"
    }
   ],
   "source": [
    "printmode(len(colcond)), printmode(dfsinc.shape)"
   ]
  },
  {
   "cell_type": "code",
   "execution_count": 223,
   "id": "eec571e9",
   "metadata": {},
   "outputs": [
    {
     "data": {
      "text/plain": [
       "(None, None)"
      ]
     },
     "execution_count": 223,
     "metadata": {},
     "output_type": "execute_result"
    }
   ],
   "source": [
    "printmode(len(colvict)), printmode(dfsinv.shape)"
   ]
  },
  {
   "cell_type": "code",
   "execution_count": 224,
   "id": "2cc98427",
   "metadata": {},
   "outputs": [],
   "source": [
    "siniaccichild=dfsina.copy()"
   ]
  },
  {
   "cell_type": "code",
   "execution_count": 225,
   "id": "c4c8ef97",
   "metadata": {},
   "outputs": [],
   "source": [
    "sinicond=dfsinc.copy()"
   ]
  },
  {
   "cell_type": "markdown",
   "id": "97e28a1b",
   "metadata": {},
   "source": [
    "### Se obtienen columnas de accidentes para conductores"
   ]
  },
  {
   "cell_type": "code",
   "execution_count": 226,
   "id": "d44a9aff",
   "metadata": {},
   "outputs": [],
   "source": [
    "sinicond.insert(len(sinicond.columns),'GRAVEDADCOD',[siniaccichild[siniaccichild['KEYID']==row['KEYID']]['GRAVEDADCOD'].values[0] for index,row in sinicond.iterrows()])"
   ]
  },
  {
   "cell_type": "code",
   "execution_count": 227,
   "id": "d4003e47",
   "metadata": {},
   "outputs": [],
   "source": [
    "sinicond.insert(len(sinicond.columns),'DIRECCION',[siniaccichild[siniaccichild['KEYID']==row['KEYID']]['DIRECCION'].values[0] for index,row in sinicond.iterrows()])"
   ]
  },
  {
   "cell_type": "code",
   "execution_count": 228,
   "id": "53c0edc5",
   "metadata": {},
   "outputs": [],
   "source": [
    "sinicond.insert(len(sinicond.columns),'LOCALIDAD',[siniaccichild[siniaccichild['KEYID']==row['KEYID']]['LOCALIDAD'].values[0] for index,row in sinicond.iterrows()])"
   ]
  },
  {
   "cell_type": "code",
   "execution_count": 229,
   "id": "fd421206",
   "metadata": {},
   "outputs": [],
   "source": [
    "sinicond.insert(len(sinicond.columns),'HORA_PROCESADA',[siniaccichild[siniaccichild['KEYID']==row['KEYID']]['HORA_PROCESADA'].values[0] for index,row in sinicond.iterrows()])"
   ]
  },
  {
   "cell_type": "markdown",
   "id": "7ef28341",
   "metadata": {},
   "source": [
    "Inicio a las 9:09 - 9:12 Toma aprox 3 - 4 min "
   ]
  },
  {
   "cell_type": "markdown",
   "id": "359b3f0d",
   "metadata": {},
   "source": [
    "### Se exporta el dataframe "
   ]
  },
  {
   "cell_type": "code",
   "execution_count": 230,
   "id": "b4f52bb1",
   "metadata": {},
   "outputs": [],
   "source": [
    "sinicond.to_csv(URL_PREPARED_DATA+'siniestros-prepared-1.csv')"
   ]
  },
  {
   "cell_type": "markdown",
   "id": "cb0237b7",
   "metadata": {},
   "source": [
    "Inicio 9:21 - 9:25 Toma aprox 3-4 min"
   ]
  },
  {
   "cell_type": "code",
   "execution_count": null,
   "id": "75144856",
   "metadata": {},
   "outputs": [],
   "source": []
  }
 ],
 "metadata": {
  "kernelspec": {
   "display_name": "Python 3",
   "language": "python",
   "name": "python3"
  },
  "language_info": {
   "codemirror_mode": {
    "name": "ipython",
    "version": 3
   },
   "file_extension": ".py",
   "mimetype": "text/x-python",
   "name": "python",
   "nbconvert_exporter": "python",
   "pygments_lexer": "ipython3",
   "version": "3.8.10"
  }
 },
 "nbformat": 4,
 "nbformat_minor": 5
}
