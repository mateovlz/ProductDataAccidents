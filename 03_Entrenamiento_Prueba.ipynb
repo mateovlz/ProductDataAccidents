{
 "cells": [
  {
   "cell_type": "code",
   "execution_count": 37,
   "id": "cbde17b2",
   "metadata": {},
   "outputs": [],
   "source": [
    "URL_PREPARED_DATA = 'Prepared_Data/'\n",
    "FILE_NAME = 'siniestros-train.csv'"
   ]
  },
  {
   "cell_type": "code",
   "execution_count": 38,
   "id": "571d282c",
   "metadata": {},
   "outputs": [],
   "source": [
    "dfsiniestros = pd.read_csv(URL_PREPARED_DATA+FILE_NAME)"
   ]
  },
  {
   "cell_type": "code",
   "execution_count": 39,
   "id": "fc417d95",
   "metadata": {},
   "outputs": [
    {
     "data": {
      "text/plain": [
       "Index(['DIA_PROCESADO', 'EDAD_PROCESADA', 'LLEVACINTURON', 'LLEVACHALECO',\n",
       "       'LLEVACASCO', 'SEXO', 'MODELOVEHICULO', 'CLASEVEHICULO',\n",
       "       'POSSESEGURORESPONSABILIDAD', 'CON_EMBRIAGUEZ', 'CON_HUECOS',\n",
       "       'LOCALIDAD', 'HORA_PROCESADA', 'GRAVEDAD', 'MES'],\n",
       "      dtype='object')"
      ]
     },
     "execution_count": 39,
     "metadata": {},
     "output_type": "execute_result"
    }
   ],
   "source": [
    "dfsiniestros.columns"
   ]
  },
  {
   "cell_type": "code",
   "execution_count": 40,
   "id": "f7bd188e",
   "metadata": {},
   "outputs": [
    {
     "data": {
      "text/html": [
       "<div>\n",
       "<style scoped>\n",
       "    .dataframe tbody tr th:only-of-type {\n",
       "        vertical-align: middle;\n",
       "    }\n",
       "\n",
       "    .dataframe tbody tr th {\n",
       "        vertical-align: top;\n",
       "    }\n",
       "\n",
       "    .dataframe thead th {\n",
       "        text-align: right;\n",
       "    }\n",
       "</style>\n",
       "<table border=\"1\" class=\"dataframe\">\n",
       "  <thead>\n",
       "    <tr style=\"text-align: right;\">\n",
       "      <th></th>\n",
       "      <th>DIA_PROCESADO</th>\n",
       "      <th>EDAD_PROCESADA</th>\n",
       "      <th>LLEVACINTURON</th>\n",
       "      <th>LLEVACHALECO</th>\n",
       "      <th>LLEVACASCO</th>\n",
       "      <th>SEXO</th>\n",
       "      <th>MODELOVEHICULO</th>\n",
       "      <th>CLASEVEHICULO</th>\n",
       "      <th>POSSESEGURORESPONSABILIDAD</th>\n",
       "      <th>CON_EMBRIAGUEZ</th>\n",
       "      <th>CON_HUECOS</th>\n",
       "      <th>LOCALIDAD</th>\n",
       "      <th>HORA_PROCESADA</th>\n",
       "      <th>GRAVEDAD</th>\n",
       "      <th>MES</th>\n",
       "    </tr>\n",
       "  </thead>\n",
       "  <tbody>\n",
       "    <tr>\n",
       "      <th>0</th>\n",
       "      <td>2</td>\n",
       "      <td>56</td>\n",
       "      <td>0</td>\n",
       "      <td>1</td>\n",
       "      <td>1</td>\n",
       "      <td>1</td>\n",
       "      <td>2015</td>\n",
       "      <td>2</td>\n",
       "      <td>2</td>\n",
       "      <td>2</td>\n",
       "      <td>2</td>\n",
       "      <td>16</td>\n",
       "      <td>0</td>\n",
       "      <td>2</td>\n",
       "      <td>11</td>\n",
       "    </tr>\n",
       "    <tr>\n",
       "      <th>1</th>\n",
       "      <td>2</td>\n",
       "      <td>47</td>\n",
       "      <td>1</td>\n",
       "      <td>0</td>\n",
       "      <td>0</td>\n",
       "      <td>1</td>\n",
       "      <td>2004</td>\n",
       "      <td>4</td>\n",
       "      <td>1</td>\n",
       "      <td>2</td>\n",
       "      <td>2</td>\n",
       "      <td>16</td>\n",
       "      <td>0</td>\n",
       "      <td>2</td>\n",
       "      <td>11</td>\n",
       "    </tr>\n",
       "    <tr>\n",
       "      <th>2</th>\n",
       "      <td>2</td>\n",
       "      <td>39</td>\n",
       "      <td>1</td>\n",
       "      <td>0</td>\n",
       "      <td>0</td>\n",
       "      <td>1</td>\n",
       "      <td>2014</td>\n",
       "      <td>4</td>\n",
       "      <td>1</td>\n",
       "      <td>2</td>\n",
       "      <td>2</td>\n",
       "      <td>16</td>\n",
       "      <td>0</td>\n",
       "      <td>2</td>\n",
       "      <td>11</td>\n",
       "    </tr>\n",
       "    <tr>\n",
       "      <th>3</th>\n",
       "      <td>6</td>\n",
       "      <td>28</td>\n",
       "      <td>0</td>\n",
       "      <td>1</td>\n",
       "      <td>1</td>\n",
       "      <td>1</td>\n",
       "      <td>2014</td>\n",
       "      <td>7</td>\n",
       "      <td>2</td>\n",
       "      <td>2</td>\n",
       "      <td>2</td>\n",
       "      <td>4</td>\n",
       "      <td>0</td>\n",
       "      <td>2</td>\n",
       "      <td>12</td>\n",
       "    </tr>\n",
       "    <tr>\n",
       "      <th>4</th>\n",
       "      <td>6</td>\n",
       "      <td>27</td>\n",
       "      <td>1</td>\n",
       "      <td>0</td>\n",
       "      <td>0</td>\n",
       "      <td>1</td>\n",
       "      <td>2014</td>\n",
       "      <td>1</td>\n",
       "      <td>2</td>\n",
       "      <td>2</td>\n",
       "      <td>2</td>\n",
       "      <td>4</td>\n",
       "      <td>0</td>\n",
       "      <td>2</td>\n",
       "      <td>12</td>\n",
       "    </tr>\n",
       "  </tbody>\n",
       "</table>\n",
       "</div>"
      ],
      "text/plain": [
       "   DIA_PROCESADO  EDAD_PROCESADA  LLEVACINTURON  LLEVACHALECO  LLEVACASCO  \\\n",
       "0              2              56              0             1           1   \n",
       "1              2              47              1             0           0   \n",
       "2              2              39              1             0           0   \n",
       "3              6              28              0             1           1   \n",
       "4              6              27              1             0           0   \n",
       "\n",
       "   SEXO  MODELOVEHICULO  CLASEVEHICULO  POSSESEGURORESPONSABILIDAD  \\\n",
       "0     1            2015              2                           2   \n",
       "1     1            2004              4                           1   \n",
       "2     1            2014              4                           1   \n",
       "3     1            2014              7                           2   \n",
       "4     1            2014              1                           2   \n",
       "\n",
       "   CON_EMBRIAGUEZ  CON_HUECOS  LOCALIDAD  HORA_PROCESADA  GRAVEDAD  MES  \n",
       "0               2           2         16               0         2   11  \n",
       "1               2           2         16               0         2   11  \n",
       "2               2           2         16               0         2   11  \n",
       "3               2           2          4               0         2   12  \n",
       "4               2           2          4               0         2   12  "
      ]
     },
     "execution_count": 40,
     "metadata": {},
     "output_type": "execute_result"
    }
   ],
   "source": [
    "dfsiniestros.head()"
   ]
  },
  {
   "cell_type": "markdown",
   "id": "822d8174",
   "metadata": {},
   "source": [
    "### Separación de datos de ```entrenamiento``` y ```testeo```.\n",
    "> Inicialmente repartiremos los datos de la siguiente manera:\n",
    "> - Datos para entrenamiento ```75%```\n",
    "> - Datos para testeo ```25%```"
   ]
  },
  {
   "cell_type": "code",
   "execution_count": 41,
   "id": "d63de468",
   "metadata": {},
   "outputs": [],
   "source": [
    "y = dfsiniestros['GRAVEDAD']\n",
    "X = dfsiniestros.drop(['GRAVEDAD','CON_HUECOS'], axis=1)"
   ]
  },
  {
   "cell_type": "code",
   "execution_count": 42,
   "id": "8d6353be",
   "metadata": {},
   "outputs": [
    {
     "data": {
      "text/plain": [
       "((195740, 13), (195740,))"
      ]
     },
     "execution_count": 42,
     "metadata": {},
     "output_type": "execute_result"
    }
   ],
   "source": [
    "X.shape, y.shape"
   ]
  },
  {
   "cell_type": "code",
   "execution_count": 43,
   "id": "fa68bdde",
   "metadata": {},
   "outputs": [],
   "source": [
    " X_train, X_test, y_train, y_test = train_test_split(X, y, test_size=0.35, random_state=42)"
   ]
  },
  {
   "cell_type": "code",
   "execution_count": 44,
   "id": "fbfabfe1",
   "metadata": {},
   "outputs": [
    {
     "data": {
      "text/plain": [
       "((127231, 13), (127231,))"
      ]
     },
     "execution_count": 44,
     "metadata": {},
     "output_type": "execute_result"
    }
   ],
   "source": [
    "X_train.shape ,y_train.shape"
   ]
  },
  {
   "cell_type": "code",
   "execution_count": 45,
   "id": "5dd8060f",
   "metadata": {},
   "outputs": [
    {
     "data": {
      "text/plain": [
       "((68509, 13), (68509,))"
      ]
     },
     "execution_count": 45,
     "metadata": {},
     "output_type": "execute_result"
    }
   ],
   "source": [
    "X_test.shape, y_test.shape"
   ]
  },
  {
   "cell_type": "code",
   "execution_count": 46,
   "id": "80dd75b8",
   "metadata": {},
   "outputs": [],
   "source": [
    "clf = RM(random_state=0)"
   ]
  },
  {
   "cell_type": "code",
   "execution_count": 47,
   "id": "521dd9ca",
   "metadata": {},
   "outputs": [
    {
     "data": {
      "text/plain": [
       "RandomForestClassifier(random_state=0)"
      ]
     },
     "execution_count": 47,
     "metadata": {},
     "output_type": "execute_result"
    }
   ],
   "source": [
    "clf.fit(X_train,y_train)"
   ]
  },
  {
   "cell_type": "code",
   "execution_count": 48,
   "id": "d28676da",
   "metadata": {},
   "outputs": [
    {
     "data": {
      "text/plain": [
       "array([0.78649743, 0.78806099, 0.78617464, 0.78185176, 0.78798239])"
      ]
     },
     "execution_count": 48,
     "metadata": {},
     "output_type": "execute_result"
    }
   ],
   "source": [
    "cross_val_score(clf, X_train, y_train, cv=5)"
   ]
  },
  {
   "cell_type": "code",
   "execution_count": 49,
   "id": "12dc1eee",
   "metadata": {},
   "outputs": [],
   "source": [
    "y_pred = clf.predict(X_test)"
   ]
  },
  {
   "cell_type": "code",
   "execution_count": 50,
   "id": "c6309ad7",
   "metadata": {},
   "outputs": [
    {
     "data": {
      "text/plain": [
       "0.7865681881212687"
      ]
     },
     "execution_count": 50,
     "metadata": {},
     "output_type": "execute_result"
    }
   ],
   "source": [
    "clf.score(X_test, y_test)"
   ]
  },
  {
   "cell_type": "markdown",
   "id": "1eb72224",
   "metadata": {},
   "source": [
    " 0 Ilesos\n",
    " 1 Herido Eva\n",
    " 2 Herido Hospitalizado\n",
    " 3 Muerto"
   ]
  },
  {
   "cell_type": "code",
   "execution_count": 51,
   "id": "1b5f907e",
   "metadata": {},
   "outputs": [
    {
     "data": {
      "text/plain": [
       "<AxesSubplot:>"
      ]
     },
     "execution_count": 51,
     "metadata": {},
     "output_type": "execute_result"
    },
    {
     "data": {
      "image/png": "[encoded data removed]",
      "text/plain": [
       "<Figure size 432x288 with 2 Axes>"
      ]
     },
     "metadata": {
      "needs_background": "light"
     },
     "output_type": "display_data"
    }
   ],
   "source": [
    "cm = confusion_matrix(y_test, y_pred)\n",
    "sns.heatmap(cm, annot=True)"
   ]
  },
  {
   "cell_type": "code",
   "execution_count": 52,
   "id": "6d43444f",
   "metadata": {},
   "outputs": [
    {
     "name": "stdout",
     "output_type": "stream",
     "text": [
      "              precision    recall  f1-score   support\n",
      "\n",
      "           1       0.81      0.94      0.87     48537\n",
      "           2       0.69      0.45      0.54     18767\n",
      "           3       0.25      0.01      0.01       576\n",
      "           4       0.33      0.00      0.00       629\n",
      "\n",
      "    accuracy                           0.79     68509\n",
      "   macro avg       0.52      0.35      0.36     68509\n",
      "weighted avg       0.77      0.79      0.76     68509\n",
      "\n"
     ]
    }
   ],
   "source": [
    "print(classification_report(y_test, y_pred))"
   ]
  },
  {
   "cell_type": "markdown",
   "id": "4b68746f",
   "metadata": {},
   "source": [
    "### SVC"
   ]
  },
  {
   "cell_type": "code",
   "execution_count": 53,
   "id": "39a5d5db",
   "metadata": {},
   "outputs": [],
   "source": [
    "#vc = SVC()"
   ]
  },
  {
   "cell_type": "code",
   "execution_count": 54,
   "id": "4b535bb0",
   "metadata": {},
   "outputs": [],
   "source": [
    "#svc.fit(X_train,y_train)"
   ]
  },
  {
   "cell_type": "code",
   "execution_count": 55,
   "id": "dea52161",
   "metadata": {},
   "outputs": [],
   "source": [
    "#cross_val_score(svc, X_train, y_train, cv=5)"
   ]
  },
  {
   "cell_type": "code",
   "execution_count": 56,
   "id": "20dad5c0",
   "metadata": {},
   "outputs": [],
   "source": [
    "#y_svc = svc.predict(X_test)"
   ]
  },
  {
   "cell_type": "code",
   "execution_count": 57,
   "id": "05e52847",
   "metadata": {},
   "outputs": [],
   "source": [
    "#svc.score(X_test, y_test)"
   ]
  },
  {
   "cell_type": "code",
   "execution_count": 58,
   "id": "38f88f25",
   "metadata": {},
   "outputs": [],
   "source": [
    "#cm = confusion_matrix(y_test, y_svc)\n",
    "#sns.heatmap(cm, annot=True)"
   ]
  },
  {
   "cell_type": "markdown",
   "id": "7f8248c4",
   "metadata": {},
   "source": [
    "### Dessiccion Classifier"
   ]
  },
  {
   "cell_type": "code",
   "execution_count": 59,
   "id": "6f5db135",
   "metadata": {},
   "outputs": [],
   "source": [
    "dt = DecisionTreeClassifier(min_samples_split=10)"
   ]
  },
  {
   "cell_type": "code",
   "execution_count": 60,
   "id": "77ad761b",
   "metadata": {},
   "outputs": [
    {
     "data": {
      "text/plain": [
       "DecisionTreeClassifier(min_samples_split=10)"
      ]
     },
     "execution_count": 60,
     "metadata": {},
     "output_type": "execute_result"
    }
   ],
   "source": [
    "dt.fit(X_train, y_train)"
   ]
  },
  {
   "cell_type": "code",
   "execution_count": 61,
   "id": "f0d99611",
   "metadata": {},
   "outputs": [],
   "source": [
    "y_dt = dt.predict(X_test)"
   ]
  },
  {
   "cell_type": "code",
   "execution_count": 62,
   "id": "98ea125f",
   "metadata": {},
   "outputs": [
    {
     "data": {
      "text/plain": [
       "0.705177421944562"
      ]
     },
     "execution_count": 62,
     "metadata": {},
     "output_type": "execute_result"
    }
   ],
   "source": [
    "dt.score(X_test, y_test)"
   ]
  },
  {
   "cell_type": "markdown",
   "id": "06a96841",
   "metadata": {},
   "source": [
    " 0 Ilesos\n",
    " 1 Herido Eva\n",
    " 2 Herido Hospitalizado\n",
    " 3 Muerto"
   ]
  },
  {
   "cell_type": "code",
   "execution_count": 63,
   "id": "c931411d",
   "metadata": {},
   "outputs": [
    {
     "data": {
      "text/plain": [
       "<AxesSubplot:>"
      ]
     },
     "execution_count": 63,
     "metadata": {},
     "output_type": "execute_result"
    },
    {
     "data": {
      "image/png": "[encoded data removed]",
      "text/plain": [
       "<Figure size 432x288 with 2 Axes>"
      ]
     },
     "metadata": {
      "needs_background": "light"
     },
     "output_type": "display_data"
    }
   ],
   "source": [
    "cm = confusion_matrix(y_test, y_dt)\n",
    "sns.heatmap(cm, annot=True)"
   ]
  },
  {
   "cell_type": "code",
   "execution_count": 64,
   "id": "243a7d50",
   "metadata": {
    "scrolled": true
   },
   "outputs": [
    {
     "name": "stdout",
     "output_type": "stream",
     "text": [
      "              precision    recall  f1-score   support\n",
      "\n",
      "           1       0.79      0.83      0.81     48537\n",
      "           2       0.48      0.43      0.45     18767\n",
      "           3       0.06      0.02      0.03       576\n",
      "           4       0.04      0.01      0.02       629\n",
      "\n",
      "    accuracy                           0.71     68509\n",
      "   macro avg       0.34      0.32      0.33     68509\n",
      "weighted avg       0.69      0.71      0.70     68509\n",
      "\n"
     ]
    }
   ],
   "source": [
    "print(classification_report(y_test, y_dt))"
   ]
  },
  {
   "cell_type": "code",
   "execution_count": 179,
   "id": "e8055e8e",
   "metadata": {},
   "outputs": [
    {
     "data": {
      "text/plain": [
       "Index(['DIA_PROCESADO', 'EDAD_PROCESADA', 'LLEVACINTURON', 'LLEVACHALECO',\n",
       "       'LLEVACASCO', 'SEXO', 'MODELOVEHICULO', 'CLASEVEHICULO',\n",
       "       'POSSESEGURORESPONSABILIDAD', 'CON_EMBRIAGUEZ', 'LOCALIDAD',\n",
       "       'HORA_PROCESADA', 'MES'],\n",
       "      dtype='object')"
      ]
     },
     "execution_count": 179,
     "metadata": {},
     "output_type": "execute_result"
    }
   ],
   "source": [
    "X_train.columns"
   ]
  },
  {
   "cell_type": "code",
   "execution_count": 181,
   "id": "41e61a1a",
   "metadata": {},
   "outputs": [
    {
     "name": "stdout",
     "output_type": "stream",
     "text": [
      "Resultados en RM [2] y DT [1]\n"
     ]
    }
   ],
   "source": [
    "# Recolectamos los valores que se van a predecir\n",
    "# ['DIA_PROCESADO', 'EDAD_PROCESADA', 'LLEVACINTURON', 'LLEVACHALECO','LLEVACASCO', 'SEXO', 'MODELOVEHICULO', 'CLASEVEHICULO',\n",
    "#  'POSSESEGURORESPONSABILIDAD', 'CON_EMBRIAGUEZ', 'LOCALIDAD','HORA_PROCESADA', 'MES']\n",
    "valores = np.array([2,   # DIA_PROCESADO\n",
    "                    28,   # EDAD_PROCESADA\n",
    "                    2,    # LLEVACINTURON\n",
    "                    1,    # LLEVACHALECO\n",
    "                    1,    # LLEVACASCO\n",
    "                    2,    # SEXO\n",
    "                    2017, # MODELOVEHICULO\n",
    "                    1,    # CLASEVEHICULO\n",
    "                    2,    # POSSESEGURORESPONSABILIDAD\n",
    "                    1,    # CON_EMBRIAGUEZ\n",
    "                    3,    # LOCALIDAD\n",
    "                    5,    # HORA_PROCESADA\n",
    "                    12])   #MES\n",
    "\n",
    "resultRM = clf.predict([valores])\n",
    "resultDT = dt.predict([valores])\n",
    "print(f'Resultados en RM {resultRM} y DT {resultDT}')"
   ]
  },
  {
   "cell_type": "code",
   "execution_count": 178,
   "id": "67606343",
   "metadata": {},
   "outputs": [
    {
     "name": "stdout",
     "output_type": "stream",
     "text": [
      "Resultados en RM [1] y DT [1] dia 1\n",
      "Resultados en RM [2] y DT [1] dia 2\n",
      "Resultados en RM [2] y DT [1] dia 3\n",
      "Resultados en RM [1] y DT [1] dia 4\n",
      "Resultados en RM [1] y DT [1] dia 5\n",
      "Resultados en RM [1] y DT [1] dia 6\n",
      "Resultados en RM [1] y DT [1] dia 7\n"
     ]
    }
   ],
   "source": [
    "for i in range(1,8):\n",
    "    valores = np.array([i,   # DIA_PROCESADO\n",
    "                        25,   # EDAD_PROCESADA\n",
    "                        1,    # LLEVACINTURON\n",
    "                        2,    # LLEVACHALECO\n",
    "                        2,    # LLEVACASCO\n",
    "                        1,    # SEXO\n",
    "                        2005, # MODELOVEHICULO\n",
    "                        1,    # CLASEVEHICULO\n",
    "                        1,    # POSSESEGURORESPONSABILIDAD\n",
    "                        2,    # CON_EMBRIAGUEZ\n",
    "                        5,    # LOCALIDAD\n",
    "                        13,    # HORA_PROCESADA\n",
    "                        3])   #MES\n",
    "\n",
    "    resultRM = clf.predict([valores])\n",
    "    resultDT = dt.predict([valores])\n",
    "    print(f'Resultados en RM {resultRM} y DT {resultDT} dia {i}')"
   ]
  },
  {
   "cell_type": "markdown",
   "id": "10033e86",
   "metadata": {},
   "source": [
    "### Exportar modelo Dessiccion Classifier .pickle"
   ]
  },
  {
   "cell_type": "code",
   "execution_count": null,
   "id": "8d42177a",
   "metadata": {},
   "outputs": [],
   "source": [
    "filename = 'finalized_Dessiccion_Classifier.pickle'\n",
    "pickle.dump(dt, open(filename, 'wb'))"
   ]
  },
  {
   "cell_type": "markdown",
   "id": "b69afd55",
   "metadata": {},
   "source": [
    "### Exportar modelo RandomForest Classifier .pickle"
   ]
  },
  {
   "cell_type": "code",
   "execution_count": null,
   "id": "6f55d58a",
   "metadata": {},
   "outputs": [],
   "source": [
    "filename = 'finalized_RandomForestClassifier.pickle'\n",
    "pickle.dump(clf, open(filename, 'wb'))"
   ]
  }
 ],
 "metadata": {
  "kernelspec": {
   "display_name": "Python 3",
   "language": "python",
   "name": "python3"
  },
  "language_info": {
   "codemirror_mode": {
    "name": "ipython",
    "version": 3
   },
   "file_extension": ".py",
   "mimetype": "text/x-python",
   "name": "python",
   "nbconvert_exporter": "python",
   "pygments_lexer": "ipython3",
   "version": "3.8.10"
  }
 },
 "nbformat": 4,
 "nbformat_minor": 5
}
