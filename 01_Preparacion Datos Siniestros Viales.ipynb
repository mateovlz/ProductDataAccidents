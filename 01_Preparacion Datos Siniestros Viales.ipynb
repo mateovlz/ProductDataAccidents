{
 "cells": [
  {
   "cell_type": "markdown",
   "id": "caf68e56",
   "metadata": {},
   "source": [
    "## Preparación de los datos.\n",
    "\n",
    "El proposito de este notebook es recolectar los datasets que se utilizaran en este estudio y generar un dataset limpio para realizar analisis."
   ]
  },
  {
   "cell_type": "code",
   "execution_count": 1,
   "id": "012dfd59",
   "metadata": {},
   "outputs": [],
   "source": [
    "# Importamos las librerias para el manejo de datasets\n",
    "import pandas as pd\n",
    "import numpy as np"
   ]
  },
  {
   "cell_type": "markdown",
   "id": "3cb96c59",
   "metadata": {},
   "source": [
    "### Métodos Preparación Datos"
   ]
  },
  {
   "cell_type": "code",
   "execution_count": 71,
   "id": "fadec98f",
   "metadata": {},
   "outputs": [],
   "source": [
    "MODE_RUN = 'DEV' # Modo de ejecucion del notebook"
   ]
  },
  {
   "cell_type": "code",
   "execution_count": 73,
   "id": "404cc591",
   "metadata": {},
   "outputs": [],
   "source": [
    "def printmode(value, mode=MODE_RUN):\n",
    "    if mode == 'DEV':\n",
    "        print(value)"
   ]
  },
  {
   "cell_type": "code",
   "execution_count": 53,
   "id": "20b70ae6",
   "metadata": {},
   "outputs": [],
   "source": [
    "def uppercasecolumns(dataframe):\n",
    "    for column in dataframe.columns:\n",
    "        dataframe.rename(columns = {column:column.upper()}, inplace = True)"
   ]
  },
  {
   "cell_type": "code",
   "execution_count": null,
   "id": "0feff9e5",
   "metadata": {},
   "outputs": [],
   "source": [
    "def createprimarykey(dataframe):\n",
    "    lskeys = []\n",
    "    for index, row in dataframe.iterrows():\n",
    "        fecha = row['FECHA']\n",
    "        fechaDate = fecha.to_pydatetime()\n",
    "        keyid = str(row['ID']) + str(fechaDate.day) + str(fechaDate.month) + str(fechaDate.year)\n",
    "        lskeys.append(int(keyid))\n",
    "    return dataframe.insert(0,\"KEYID\", lskeys)"
   ]
  },
  {
   "cell_type": "code",
   "execution_count": 47,
   "id": "c2fe674a",
   "metadata": {},
   "outputs": [],
   "source": [
    "# !wget -O siniestros_2017.xlsx https://datosabiertos.bogota.gov.co/dataset/8aa2f79c-5d32-4e6a-8eb3-a5af0ac4c172/resource/072931b0-38fb-4a29-92dd-c7302d930be3/download/base_2018.xlsx"
   ]
  },
  {
   "cell_type": "code",
   "execution_count": 60,
   "id": "564ecc98",
   "metadata": {},
   "outputs": [],
   "source": [
    "sina2017 = pd.read_excel('https://datosabiertos.bogota.gov.co/dataset/8aa2f79c-5d32-4e6a-8eb3-a5af0ac4c172/resource/236065f3-93e0-43f1-a1ba-e25d5529cbed/download/base_2017.xlsx', sheet_name ='ACCIDENTES')"
   ]
  },
  {
   "cell_type": "code",
   "execution_count": 61,
   "id": "18880989",
   "metadata": {},
   "outputs": [],
   "source": [
    "sinc2017 = pd.read_excel('https://datosabiertos.bogota.gov.co/dataset/8aa2f79c-5d32-4e6a-8eb3-a5af0ac4c172/resource/236065f3-93e0-43f1-a1ba-e25d5529cbed/download/base_2017.xlsx', sheet_name ='CONDUCTORES')"
   ]
  },
  {
   "cell_type": "code",
   "execution_count": 62,
   "id": "9f860084",
   "metadata": {},
   "outputs": [],
   "source": [
    "sinv2017 = pd.read_excel('https://datosabiertos.bogota.gov.co/dataset/8aa2f79c-5d32-4e6a-8eb3-a5af0ac4c172/resource/236065f3-93e0-43f1-a1ba-e25d5529cbed/download/base_2017.xlsx', sheet_name ='VICTIMAS')"
   ]
  },
  {
   "cell_type": "code",
   "execution_count": 63,
   "id": "8b03a8f0",
   "metadata": {},
   "outputs": [],
   "source": [
    "sina2018 = pd.read_excel('https://datosabiertos.bogota.gov.co/dataset/8aa2f79c-5d32-4e6a-8eb3-a5af0ac4c172/resource/072931b0-38fb-4a29-92dd-c7302d930be3/download/base_2018.xlsx', sheet_name ='ACCIDENTES')"
   ]
  },
  {
   "cell_type": "code",
   "execution_count": 64,
   "id": "2a063697",
   "metadata": {},
   "outputs": [],
   "source": [
    "sinc2018 = pd.read_excel('https://datosabiertos.bogota.gov.co/dataset/8aa2f79c-5d32-4e6a-8eb3-a5af0ac4c172/resource/072931b0-38fb-4a29-92dd-c7302d930be3/download/base_2018.xlsx', sheet_name ='CONDUCTORES')"
   ]
  },
  {
   "cell_type": "code",
   "execution_count": 65,
   "id": "fd4e7b5a",
   "metadata": {},
   "outputs": [],
   "source": [
    "sinv2018 = pd.read_excel('https://datosabiertos.bogota.gov.co/dataset/8aa2f79c-5d32-4e6a-8eb3-a5af0ac4c172/resource/072931b0-38fb-4a29-92dd-c7302d930be3/download/base_2018.xlsx', sheet_name ='VICTIMAS')"
   ]
  },
  {
   "cell_type": "code",
   "execution_count": 84,
   "id": "f92b6982",
   "metadata": {},
   "outputs": [],
   "source": [
    "sina2019 = pd.read_excel('data/Base_2019.xlsx',sheet_name ='ACCIDENTES')"
   ]
  },
  {
   "cell_type": "code",
   "execution_count": 85,
   "id": "4fb94b92",
   "metadata": {},
   "outputs": [],
   "source": [
    "sinc2019 = pd.read_excel('data/Base_2019.xlsx',sheet_name ='CONDUCTORES')"
   ]
  },
  {
   "cell_type": "code",
   "execution_count": 86,
   "id": "740a9181",
   "metadata": {},
   "outputs": [],
   "source": [
    "sinv2019 = pd.read_excel('data/Base_2019.xlsx',sheet_name ='VICTIMAS')"
   ]
  },
  {
   "cell_type": "code",
   "execution_count": 66,
   "id": "b52c3737",
   "metadata": {},
   "outputs": [],
   "source": [
    "# Todos los nombres de las columnas se volveran UPPERCASE\n",
    "uppercasecolumns(sina2017)\n",
    "uppercasecolumns(sinc2017)\n",
    "uppercasecolumns(sinv2017)"
   ]
  },
  {
   "cell_type": "code",
   "execution_count": 67,
   "id": "e5f08660",
   "metadata": {},
   "outputs": [],
   "source": [
    "# Todos los nombres de las columnas se volveran UPPERCASE\n",
    "uppercasecolumns(sina2018)\n",
    "uppercasecolumns(sinc2018)\n",
    "uppercasecolumns(sinv2018)"
   ]
  },
  {
   "cell_type": "code",
   "execution_count": 87,
   "id": "1a509a7a",
   "metadata": {},
   "outputs": [],
   "source": [
    "# Todos los nombres de las columnas se volveran UPPERCASE\n",
    "uppercasecolumns(sina2019)\n",
    "uppercasecolumns(sinc2019)\n",
    "uppercasecolumns(sinv2019)"
   ]
  },
  {
   "cell_type": "code",
   "execution_count": 78,
   "id": "b8b5e127",
   "metadata": {},
   "outputs": [
    {
     "name": "stdout",
     "output_type": "stream",
     "text": [
      "Index(['ID', 'DIA', 'FECHA', 'MES_PROCESADO', 'OFICINA', 'GRAVEDADCOD',\n",
      "       'GRAVEDADNOMBRE', 'CLASECODIGO', 'CLASENOMBRE', 'CHOQUECODIGO',\n",
      "       'CHOQUENOMBRE', 'OBJETOFIJOCODIGO', 'OBJETOFIJONOMBRE', 'OTRACLASE',\n",
      "       'NOMBREOTRACLASE', 'LATITUD', 'LONGITUD', 'DIRECCION', 'TIPOVIA1',\n",
      "       'NUMEROVIA1', 'LETRAVIA1', 'CARDINALVIA1', 'TIPOVIA2', 'NUMEROVIA2',\n",
      "       'LETRAVIA2', 'CARDINALVIA2', 'COMPLEMENTO', 'MUNICIPIO', 'LOCALIDAD',\n",
      "       'FECHAOCURRENCIA', 'HORAOCURRENCIA', 'HORA_PROCESADA', 'AREA', 'SECTOR',\n",
      "       'ZONA', 'TIPODISENNO', 'TIPOTIEMPO', 'COORDENADAX', 'COORDENADAY',\n",
      "       'CON_BICICLETA', 'CON_CARGA', 'CON_EMBRIAGUEZ', 'CON_HUECOS',\n",
      "       'CON_MENORES', 'CON_MOTO', 'CON_PEATON', 'CON_PERSONA_MAYOR',\n",
      "       'CON_RUTAS', 'CON_TPI', 'CON_VELOCIDAD'],\n",
      "      dtype='object')\n"
     ]
    }
   ],
   "source": [
    "printmode(sina2017.columns)"
   ]
  },
  {
   "cell_type": "code",
   "execution_count": 79,
   "id": "8a65b3f1",
   "metadata": {},
   "outputs": [
    {
     "name": "stdout",
     "output_type": "stream",
     "text": [
      "Index(['IDFORMULARIO', 'DIA', 'FECHA', 'MES_PROCESADO', 'OFICINA',\n",
      "       'GRAVEDADCOD', 'GRAVEDADNOMBRE', 'CLASECODIGO', 'CLASENOMBRE',\n",
      "       'CHOQUECODIGO', 'CHOQUENOMBRE', 'OBJETOFIJOCODIGO', 'OBJETOFIJONOMBRE',\n",
      "       'OTRACLASE', 'NOMBREOTRACLASE', 'LATITUD', 'LONGITUD', 'DIRECCION',\n",
      "       'TIPOVIA1', 'NUMEROVIA1', 'LETRAVIA1', 'CARDINALVIA1', 'TIPOVIA2',\n",
      "       'NUMEROVIA2', 'LETRAVIA2', 'CARDINALVIA2', 'COMPLEMENTO', 'MUNICIPIO',\n",
      "       'LOCALIDAD', 'FECHAOCURRENCIA', 'HORAOCURRENCIA', 'HORA_PROCESADA',\n",
      "       'AREA', 'SECTOR', 'ZONA', 'TIPODISENNO', 'TIPOTIEMPO', 'ZONATRANSITO',\n",
      "       'AREATRANSITO', 'CON_BICICLETA', 'CON_CARGA', 'CON_EMBRIAGUEZ',\n",
      "       'CON_HUECOS', 'CON_MENORES', 'CON_MOTO', 'CON_PEATON',\n",
      "       'CON_PERSONA_MAYOR', 'CON_RUTAS', 'CON_TPI', 'CON_VELOCIDAD'],\n",
      "      dtype='object')\n"
     ]
    }
   ],
   "source": [
    "printmode(sina2018.columns)"
   ]
  },
  {
   "cell_type": "code",
   "execution_count": 88,
   "id": "41ffca99",
   "metadata": {},
   "outputs": [
    {
     "name": "stdout",
     "output_type": "stream",
     "text": [
      "Index(['IDFORMULARIO', 'DIA', 'FECHA', 'MES_PROCESADO', 'OFICINA',\n",
      "       'GRAVEDADCOD', 'GRAVEDADNOMBRE', 'CLASECODIGO', 'CLASENOMBRE',\n",
      "       'CHOQUECODIGO', 'CHOQUENOMBRE', 'OBJETOFIJOCODIGO', 'OBJETOFIJONOMBRE',\n",
      "       'OTRACLASE', 'NOMBREOTRACLASE', 'LATITUD', 'LONGITUD', 'DIRECCION',\n",
      "       'TIPOVIA1', 'NUMEROVIA1', 'LETRAVIA1', 'CARDINALVIA1', 'TIPOVIA2',\n",
      "       'NUMEROVIA2', 'LETRAVIA2', 'CARDINALVIA2', 'COMPLEMENTO', 'MUNICIPIO',\n",
      "       'LOCALIDAD', 'FECHAOCURRENCIA', 'HORAOCURRENCIA', 'HORA_PROCESADA',\n",
      "       'AREA', 'SECTOR', 'ZONA', 'TIPODISENNO', 'TIPOTIEMPO', 'ZONATRANSITO',\n",
      "       'AREATRANSITO', 'CON_BICICLETA', 'CON_CARGA', 'CON_EMBRIAGUEZ',\n",
      "       'CON_HUECOS', 'CON_MENORES', 'CON_MOTO', 'CON_PEATON',\n",
      "       'CON_PERSONA_MAYOR', 'CON_RUTAS', 'CON_TPI', 'CON_VELOCIDAD'],\n",
      "      dtype='object')\n"
     ]
    }
   ],
   "source": [
    "printmode(sina2019.columns)"
   ]
  },
  {
   "cell_type": "code",
   "execution_count": null,
   "id": "9123f75b",
   "metadata": {},
   "outputs": [],
   "source": []
  }
 ],
 "metadata": {
  "kernelspec": {
   "display_name": "Python 3",
   "language": "python",
   "name": "python3"
  },
  "language_info": {
   "codemirror_mode": {
    "name": "ipython",
    "version": 3
   },
   "file_extension": ".py",
   "mimetype": "text/x-python",
   "name": "python",
   "nbconvert_exporter": "python",
   "pygments_lexer": "ipython3",
   "version": "3.8.8"
  }
 },
 "nbformat": 4,
 "nbformat_minor": 5
}
